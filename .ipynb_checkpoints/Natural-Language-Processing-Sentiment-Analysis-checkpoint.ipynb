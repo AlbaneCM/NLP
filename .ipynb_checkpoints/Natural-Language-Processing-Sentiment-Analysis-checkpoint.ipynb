{
 "cells": [
  {
   "cell_type": "markdown",
   "id": "e9d4037f",
   "metadata": {},
   "source": [
    "# Natural Language Processing: Sentiment Analysis"
   ]
  },
  {
   "cell_type": "markdown",
   "id": "182a2e48",
   "metadata": {},
   "source": [
    "**Author**: Albane Colmenares <br>\n",
    "**Date**: December 12th, 2023 <br>\n",
    "___________________________________________________________________________"
   ]
  },
  {
   "cell_type": "markdown",
   "id": "90e25ce2",
   "metadata": {},
   "source": [
    "### <u>Table of Content</u>\n",
    "**1. Overview**<br>\n",
    "**2. Business Understanding**<br>\n",
    "**3. Data Understanding**<br>\n",
    "**4. Data Preparation**<br>\n",
    "**5. Modeling**<br>\n",
    "**6. Evaluation**<br>\n",
    "**7. Findings & Recommendations**<br>\n",
    "**8. Limits & Next Steps**<br>"
   ]
  },
  {
   "cell_type": "markdown",
   "id": "2d7bc745",
   "metadata": {},
   "source": [
    "## 1. Overview"
   ]
  },
  {
   "cell_type": "markdown",
   "id": "4a88bbf7",
   "metadata": {},
   "source": [
    "This notebook examines tweets about several brands and products and predicts whether the sentiment of the short text is positive, negative or neutral. <br>\n",
    "The organization of this notebook follows the CRoss Industry Standard Process for Data Mining (CRISP-DM) is a process model that serves as the base for a data science process."
   ]
  },
  {
   "cell_type": "markdown",
   "id": "eff9197d",
   "metadata": {},
   "source": [
    "Text Text Text Text Text Text "
   ]
  },
  {
   "cell_type": "markdown",
   "id": "9cc41608",
   "metadata": {},
   "source": [
    "## 2. Business Understanding"
   ]
  },
  {
   "cell_type": "markdown",
   "id": "acc5355c",
   "metadata": {},
   "source": [
    "Business and data understanding: *what kind of data are you using, and what makes it well-suited for the business problem?*\n",
    "* You do not need to include any data visualizations in your summary, but consider including relevant descriptive statistics"
   ]
  },
  {
   "cell_type": "markdown",
   "id": "cc38a169",
   "metadata": {},
   "source": [
    "Text Text Text Text Text Text "
   ]
  },
  {
   "cell_type": "markdown",
   "id": "0868d126",
   "metadata": {},
   "source": [
    "Text Text Text Text Text Text "
   ]
  },
  {
   "cell_type": "markdown",
   "id": "4cf0faaa",
   "metadata": {},
   "source": [
    "## 3. Data Understanding"
   ]
  },
  {
   "cell_type": "markdown",
   "id": "cc8bc5af",
   "metadata": {},
   "source": [
    "**Data Source**"
   ]
  },
  {
   "cell_type": "markdown",
   "id": "388e4ef7",
   "metadata": {},
   "source": [
    "The data comes from CrowdFlower via [data.world](https://data.world/crowdflower/brands-and-product-emotions). \n",
    "\n",
    "\n",
    "------------- REPHRASE THIS ------------- \n",
    "\n",
    "*Human raters rated the sentiment in over 9,000 Tweets as positive, negative, or neither.*\n",
    "\n",
    "------------- REPHRASE THIS ------------- \n",
    "\n",
    "The file `judge-1377884607_tweet_product_company.csv` can be downloaded at the provided link. \n",
    "It was then renamed to `tweet_product_company.csv`and saved into the current folder, within the 'data' subfolder, to be accessed into the raw DataFrame. \n"
   ]
  },
  {
   "cell_type": "markdown",
   "id": "ae56079d",
   "metadata": {},
   "source": [
    "Text Text Text Text Text Text "
   ]
  },
  {
   "cell_type": "markdown",
   "id": "6e546fea",
   "metadata": {},
   "source": [
    "**Features**"
   ]
  },
  {
   "cell_type": "markdown",
   "id": "2e8e3b22",
   "metadata": {},
   "source": [
    "Prior to preprocessing, the columns are: \n",
    "\n",
    "* `tweet_text`: the actual tweet's record\n",
    "* `emotion_in_tweet_is_directed_at`: the product or company referred to in the tweet\n",
    "* `is_there_an_emotion_directed_at_a_brand_or_product`: the tweet's sentiment"
   ]
  },
  {
   "cell_type": "markdown",
   "id": "cb7a7f11",
   "metadata": {},
   "source": [
    "Text Text Text Text Text Text "
   ]
  },
  {
   "cell_type": "markdown",
   "id": "4402a218",
   "metadata": {},
   "source": [
    "**Target**"
   ]
  },
  {
   "cell_type": "markdown",
   "id": "c0413b34",
   "metadata": {},
   "source": [
    "The tweet's sentiment is the target for the dataset. The specific column is `is_there_an_emotion_directed_at_a_brand_or_product`. Based on a given set of tweets, we will try to predict if the tweet's emotion was positive, negative or neutral. "
   ]
  },
  {
   "cell_type": "markdown",
   "id": "51c7405f",
   "metadata": {},
   "source": [
    "**Loading the data**"
   ]
  },
  {
   "cell_type": "code",
   "execution_count": 1,
   "id": "e87b4e30",
   "metadata": {},
   "outputs": [],
   "source": [
    "# Importing the necessary packages\n",
    "import pandas as pd\n",
    "import numpy as np\n",
    "import matplotlib.pyplot as plt \n",
    "import matplotlib.ticker as ticker\n",
    "import seaborn as sns\n",
    "import warnings\n",
    "from sklearn.model_selection import train_test_split\n",
    "\n",
    "%matplotlib inline"
   ]
  },
  {
   "cell_type": "code",
   "execution_count": null,
   "id": "ddb1f915",
   "metadata": {},
   "outputs": [],
   "source": []
  },
  {
   "cell_type": "markdown",
   "id": "b79d550d",
   "metadata": {},
   "source": [
    "The text file is encoded using Latin-1 encoding - and is open as is. Several encodings were tried to ensure the right one matched: utf-8, utf-16, ascii for example."
   ]
  },
  {
   "cell_type": "code",
   "execution_count": 2,
   "id": "fa3fa494",
   "metadata": {},
   "outputs": [],
   "source": [
    "# Loading dataset and saving it as raw_df\n",
    "raw_df = pd.read_csv('data/tweet_product_company.csv', encoding='latin-1')"
   ]
  },
  {
   "cell_type": "code",
   "execution_count": 3,
   "id": "d847e810",
   "metadata": {
    "scrolled": false
   },
   "outputs": [
    {
     "data": {
      "text/html": [
       "<div>\n",
       "<style scoped>\n",
       "    .dataframe tbody tr th:only-of-type {\n",
       "        vertical-align: middle;\n",
       "    }\n",
       "\n",
       "    .dataframe tbody tr th {\n",
       "        vertical-align: top;\n",
       "    }\n",
       "\n",
       "    .dataframe thead th {\n",
       "        text-align: right;\n",
       "    }\n",
       "</style>\n",
       "<table border=\"1\" class=\"dataframe\">\n",
       "  <thead>\n",
       "    <tr style=\"text-align: right;\">\n",
       "      <th></th>\n",
       "      <th>tweet_text</th>\n",
       "      <th>emotion_in_tweet_is_directed_at</th>\n",
       "      <th>is_there_an_emotion_directed_at_a_brand_or_product</th>\n",
       "    </tr>\n",
       "  </thead>\n",
       "  <tbody>\n",
       "    <tr>\n",
       "      <th>0</th>\n",
       "      <td>.@wesley83 I have a 3G iPhone. After 3 hrs twe...</td>\n",
       "      <td>iPhone</td>\n",
       "      <td>Negative emotion</td>\n",
       "    </tr>\n",
       "    <tr>\n",
       "      <th>1</th>\n",
       "      <td>@jessedee Know about @fludapp ? Awesome iPad/i...</td>\n",
       "      <td>iPad or iPhone App</td>\n",
       "      <td>Positive emotion</td>\n",
       "    </tr>\n",
       "    <tr>\n",
       "      <th>2</th>\n",
       "      <td>@swonderlin Can not wait for #iPad 2 also. The...</td>\n",
       "      <td>iPad</td>\n",
       "      <td>Positive emotion</td>\n",
       "    </tr>\n",
       "    <tr>\n",
       "      <th>3</th>\n",
       "      <td>@sxsw I hope this year's festival isn't as cra...</td>\n",
       "      <td>iPad or iPhone App</td>\n",
       "      <td>Negative emotion</td>\n",
       "    </tr>\n",
       "    <tr>\n",
       "      <th>4</th>\n",
       "      <td>@sxtxstate great stuff on Fri #SXSW: Marissa M...</td>\n",
       "      <td>Google</td>\n",
       "      <td>Positive emotion</td>\n",
       "    </tr>\n",
       "  </tbody>\n",
       "</table>\n",
       "</div>"
      ],
      "text/plain": [
       "                                          tweet_text  \\\n",
       "0  .@wesley83 I have a 3G iPhone. After 3 hrs twe...   \n",
       "1  @jessedee Know about @fludapp ? Awesome iPad/i...   \n",
       "2  @swonderlin Can not wait for #iPad 2 also. The...   \n",
       "3  @sxsw I hope this year's festival isn't as cra...   \n",
       "4  @sxtxstate great stuff on Fri #SXSW: Marissa M...   \n",
       "\n",
       "  emotion_in_tweet_is_directed_at  \\\n",
       "0                          iPhone   \n",
       "1              iPad or iPhone App   \n",
       "2                            iPad   \n",
       "3              iPad or iPhone App   \n",
       "4                          Google   \n",
       "\n",
       "  is_there_an_emotion_directed_at_a_brand_or_product  \n",
       "0                                   Negative emotion  \n",
       "1                                   Positive emotion  \n",
       "2                                   Positive emotion  \n",
       "3                                   Negative emotion  \n",
       "4                                   Positive emotion  "
      ]
     },
     "execution_count": 3,
     "metadata": {},
     "output_type": "execute_result"
    }
   ],
   "source": [
    "# Inspecting the first 5 rows of the DataFrame\n",
    "raw_df.head()"
   ]
  },
  {
   "cell_type": "code",
   "execution_count": 4,
   "id": "1b15678f",
   "metadata": {},
   "outputs": [
    {
     "name": "stdout",
     "output_type": "stream",
     "text": [
      "The dataset has 9093 rows and 3 columns.\n"
     ]
    }
   ],
   "source": [
    "print(f'The dataset has '+ str(len(raw_df)) + ' rows and 3 columns.' )"
   ]
  },
  {
   "cell_type": "markdown",
   "id": "12216ee6",
   "metadata": {},
   "source": [
    "The various companies and products referred to in the tweets will be reviewed to get an understand of the balance in the dataset, along with what is being most often reviewed.  \n",
    "\n",
    "Similarly, the emotions will be reviewed in a similar way. "
   ]
  },
  {
   "cell_type": "code",
   "execution_count": 5,
   "id": "98f4e4c8",
   "metadata": {
    "scrolled": true
   },
   "outputs": [
    {
     "data": {
      "text/plain": [
       "iPad                               946\n",
       "Apple                              661\n",
       "iPad or iPhone App                 470\n",
       "Google                             430\n",
       "iPhone                             297\n",
       "Other Google product or service    293\n",
       "Android App                         81\n",
       "Android                             78\n",
       "Other Apple product or service      35\n",
       "Name: emotion_in_tweet_is_directed_at, dtype: int64"
      ]
     },
     "execution_count": 5,
     "metadata": {},
     "output_type": "execute_result"
    }
   ],
   "source": [
    "# Inspecting the number of tweets referring to each product or company\n",
    "raw_df['emotion_in_tweet_is_directed_at'].value_counts()"
   ]
  },
  {
   "cell_type": "code",
   "execution_count": 6,
   "id": "eafe7717",
   "metadata": {
    "scrolled": true
   },
   "outputs": [
    {
     "data": {
      "text/plain": [
       "No emotion toward brand or product    5389\n",
       "Positive emotion                      2978\n",
       "Negative emotion                       570\n",
       "I can't tell                           156\n",
       "Name: is_there_an_emotion_directed_at_a_brand_or_product, dtype: int64"
      ]
     },
     "execution_count": 6,
     "metadata": {},
     "output_type": "execute_result"
    }
   ],
   "source": [
    "# Inspecting the number of tweets referring to each emotion\n",
    "raw_df['is_there_an_emotion_directed_at_a_brand_or_product'].value_counts()"
   ]
  },
  {
   "cell_type": "markdown",
   "id": "12fbb6ec",
   "metadata": {},
   "source": [
    "## 4. Data Preparation"
   ]
  },
  {
   "cell_type": "markdown",
   "id": "be807149",
   "metadata": {},
   "source": [
    "This includes data cleaning and exploratory data analysis with `nltk`\n",
    "\n",
    "\n",
    "more text <br>\n",
    "more text <br>\n",
    "more text <br>\n",
    "more text <br>\n",
    "more text <br>\n",
    "more text <br>\n"
   ]
  },
  {
   "cell_type": "markdown",
   "id": "42e4da52",
   "metadata": {},
   "source": [
    "*why did you choose the data preparation steps that you did, and what was the result?*\n",
    "\n",
    "* This should be specific to the kind of data you are working with. For example, if you are doing an NLP project, what did you decide to do with stopwords?\n",
    "* Be sure to list the packages/libraries used to prepare the data, and why\n"
   ]
  },
  {
   "cell_type": "markdown",
   "id": "3b4b857f",
   "metadata": {},
   "source": [
    "For a better readability of the tweets' texts, the column width will be increased. In addition, the use of MathJax will be disabled so that the visual representation of mathematical expressions are not displayed so this doesn't cause issues to the environment. "
   ]
  },
  {
   "cell_type": "code",
   "execution_count": 7,
   "id": "8683a478",
   "metadata": {},
   "outputs": [],
   "source": [
    "# Increasing column width\n",
    "pd.set_option('max_colwidth', 400)\n",
    "pd.set_option('use_mathjax', False)"
   ]
  },
  {
   "cell_type": "markdown",
   "id": "1784b844",
   "metadata": {},
   "source": [
    "### 4. a) Column names' change"
   ]
  },
  {
   "cell_type": "markdown",
   "id": "f3497778",
   "metadata": {},
   "source": [
    "The column names are particularly long. For an easier process to handle, they will be renamed in the new DataFrame called `df`:\n",
    "* `tweet`\n",
    "* `product_or_company`\n",
    "* `sentiment`\n"
   ]
  },
  {
   "cell_type": "code",
   "execution_count": 8,
   "id": "10ce7e2c",
   "metadata": {},
   "outputs": [],
   "source": [
    "# Making a copy of the raw DataFrame to modify it\n",
    "df = raw_df.copy()"
   ]
  },
  {
   "cell_type": "code",
   "execution_count": 9,
   "id": "4c34b4ee",
   "metadata": {},
   "outputs": [],
   "source": [
    "# Defining the new columns' names and attributing them to the new DataFrame\n",
    "df.columns = ['tweet', 'product_or_company', 'sentiment']"
   ]
  },
  {
   "cell_type": "code",
   "execution_count": 10,
   "id": "deac7e5e",
   "metadata": {
    "scrolled": true
   },
   "outputs": [
    {
     "data": {
      "text/html": [
       "<div>\n",
       "<style scoped>\n",
       "    .dataframe tbody tr th:only-of-type {\n",
       "        vertical-align: middle;\n",
       "    }\n",
       "\n",
       "    .dataframe tbody tr th {\n",
       "        vertical-align: top;\n",
       "    }\n",
       "\n",
       "    .dataframe thead th {\n",
       "        text-align: right;\n",
       "    }\n",
       "</style>\n",
       "<table border=\"1\" class=\"dataframe tex2jax_ignore\">\n",
       "  <thead>\n",
       "    <tr style=\"text-align: right;\">\n",
       "      <th></th>\n",
       "      <th>tweet</th>\n",
       "      <th>product_or_company</th>\n",
       "      <th>sentiment</th>\n",
       "    </tr>\n",
       "  </thead>\n",
       "  <tbody>\n",
       "    <tr>\n",
       "      <th>0</th>\n",
       "      <td>.@wesley83 I have a 3G iPhone. After 3 hrs tweeting at #RISE_Austin, it was dead!  I need to upgrade. Plugin stations at #SXSW.</td>\n",
       "      <td>iPhone</td>\n",
       "      <td>Negative emotion</td>\n",
       "    </tr>\n",
       "    <tr>\n",
       "      <th>1</th>\n",
       "      <td>@jessedee Know about @fludapp ? Awesome iPad/iPhone app that you'll likely appreciate for its design. Also, they're giving free Ts at #SXSW</td>\n",
       "      <td>iPad or iPhone App</td>\n",
       "      <td>Positive emotion</td>\n",
       "    </tr>\n",
       "    <tr>\n",
       "      <th>2</th>\n",
       "      <td>@swonderlin Can not wait for #iPad 2 also. They should sale them down at #SXSW.</td>\n",
       "      <td>iPad</td>\n",
       "      <td>Positive emotion</td>\n",
       "    </tr>\n",
       "    <tr>\n",
       "      <th>3</th>\n",
       "      <td>@sxsw I hope this year's festival isn't as crashy as this year's iPhone app. #sxsw</td>\n",
       "      <td>iPad or iPhone App</td>\n",
       "      <td>Negative emotion</td>\n",
       "    </tr>\n",
       "    <tr>\n",
       "      <th>4</th>\n",
       "      <td>@sxtxstate great stuff on Fri #SXSW: Marissa Mayer (Google), Tim O'Reilly (tech books/conferences) &amp;amp; Matt Mullenweg (Wordpress)</td>\n",
       "      <td>Google</td>\n",
       "      <td>Positive emotion</td>\n",
       "    </tr>\n",
       "  </tbody>\n",
       "</table>\n",
       "</div>"
      ],
      "text/plain": [
       "                                                                                                                                         tweet  \\\n",
       "0              .@wesley83 I have a 3G iPhone. After 3 hrs tweeting at #RISE_Austin, it was dead!  I need to upgrade. Plugin stations at #SXSW.   \n",
       "1  @jessedee Know about @fludapp ? Awesome iPad/iPhone app that you'll likely appreciate for its design. Also, they're giving free Ts at #SXSW   \n",
       "2                                                              @swonderlin Can not wait for #iPad 2 also. They should sale them down at #SXSW.   \n",
       "3                                                           @sxsw I hope this year's festival isn't as crashy as this year's iPhone app. #sxsw   \n",
       "4          @sxtxstate great stuff on Fri #SXSW: Marissa Mayer (Google), Tim O'Reilly (tech books/conferences) &amp; Matt Mullenweg (Wordpress)   \n",
       "\n",
       "   product_or_company         sentiment  \n",
       "0              iPhone  Negative emotion  \n",
       "1  iPad or iPhone App  Positive emotion  \n",
       "2                iPad  Positive emotion  \n",
       "3  iPad or iPhone App  Negative emotion  \n",
       "4              Google  Positive emotion  "
      ]
     },
     "execution_count": 10,
     "metadata": {},
     "output_type": "execute_result"
    }
   ],
   "source": [
    "# Verifying the changes applied  \n",
    "df.head()"
   ]
  },
  {
   "cell_type": "code",
   "execution_count": null,
   "id": "8ba6bf6b",
   "metadata": {},
   "outputs": [],
   "source": []
  },
  {
   "cell_type": "code",
   "execution_count": null,
   "id": "55e4af38",
   "metadata": {},
   "outputs": [],
   "source": []
  },
  {
   "cell_type": "markdown",
   "id": "4c4d20cc",
   "metadata": {},
   "source": [
    "### 4. c) Missing data"
   ]
  },
  {
   "cell_type": "markdown",
   "id": "5a7c57da",
   "metadata": {},
   "source": [
    "In the next section, the missing values are inspected and handled by category. \n",
    "<br>\n",
    "The `tweet` column only had 1 row with null values and had no implication on other features: it is removed. \n",
    "<br>\n",
    "The `product_or_company` requires contains many more missing values. "
   ]
  },
  {
   "cell_type": "code",
   "execution_count": 11,
   "id": "c4490695",
   "metadata": {
    "scrolled": true
   },
   "outputs": [
    {
     "name": "stdout",
     "output_type": "stream",
     "text": [
      "<class 'pandas.core.frame.DataFrame'>\n",
      "RangeIndex: 9093 entries, 0 to 9092\n",
      "Data columns (total 3 columns):\n",
      " #   Column              Non-Null Count  Dtype \n",
      "---  ------              --------------  ----- \n",
      " 0   tweet               9092 non-null   object\n",
      " 1   product_or_company  3291 non-null   object\n",
      " 2   sentiment           9093 non-null   object\n",
      "dtypes: object(3)\n",
      "memory usage: 213.2+ KB\n"
     ]
    }
   ],
   "source": [
    "# Looking for missing values\n",
    "df.info()"
   ]
  },
  {
   "cell_type": "markdown",
   "id": "3897d890",
   "metadata": {},
   "source": [
    "* **Tweet**"
   ]
  },
  {
   "cell_type": "markdown",
   "id": "d1008ea2",
   "metadata": {},
   "source": [
    "The tweet column only has one null value with no information on the other columns: it will be dropped from the DataFrame.  "
   ]
  },
  {
   "cell_type": "code",
   "execution_count": 12,
   "id": "2dbe1f98",
   "metadata": {
    "scrolled": true
   },
   "outputs": [
    {
     "data": {
      "text/html": [
       "<div>\n",
       "<style scoped>\n",
       "    .dataframe tbody tr th:only-of-type {\n",
       "        vertical-align: middle;\n",
       "    }\n",
       "\n",
       "    .dataframe tbody tr th {\n",
       "        vertical-align: top;\n",
       "    }\n",
       "\n",
       "    .dataframe thead th {\n",
       "        text-align: right;\n",
       "    }\n",
       "</style>\n",
       "<table border=\"1\" class=\"dataframe tex2jax_ignore\">\n",
       "  <thead>\n",
       "    <tr style=\"text-align: right;\">\n",
       "      <th></th>\n",
       "      <th>tweet</th>\n",
       "      <th>product_or_company</th>\n",
       "      <th>sentiment</th>\n",
       "    </tr>\n",
       "  </thead>\n",
       "  <tbody>\n",
       "    <tr>\n",
       "      <th>6</th>\n",
       "      <td>NaN</td>\n",
       "      <td>NaN</td>\n",
       "      <td>No emotion toward brand or product</td>\n",
       "    </tr>\n",
       "  </tbody>\n",
       "</table>\n",
       "</div>"
      ],
      "text/plain": [
       "  tweet product_or_company                           sentiment\n",
       "6   NaN                NaN  No emotion toward brand or product"
      ]
     },
     "execution_count": 12,
     "metadata": {},
     "output_type": "execute_result"
    }
   ],
   "source": [
    "# Inspecting the tweet containing null information \n",
    "df[df['tweet'].isnull()]"
   ]
  },
  {
   "cell_type": "markdown",
   "id": "88c51618",
   "metadata": {},
   "source": [
    "The null tweet does not contain any information for either column and will be dropped.  "
   ]
  },
  {
   "cell_type": "code",
   "execution_count": 13,
   "id": "40be3a23",
   "metadata": {},
   "outputs": [],
   "source": [
    "# Dropping the null tweet from the DataFrame\n",
    "\n",
    "df = df.dropna(subset=['tweet'])"
   ]
  },
  {
   "cell_type": "code",
   "execution_count": 14,
   "id": "0c1401ac",
   "metadata": {
    "scrolled": true
   },
   "outputs": [
    {
     "name": "stdout",
     "output_type": "stream",
     "text": [
      "<class 'pandas.core.frame.DataFrame'>\n",
      "Int64Index: 9092 entries, 0 to 9092\n",
      "Data columns (total 3 columns):\n",
      " #   Column              Non-Null Count  Dtype \n",
      "---  ------              --------------  ----- \n",
      " 0   tweet               9092 non-null   object\n",
      " 1   product_or_company  3291 non-null   object\n",
      " 2   sentiment           9092 non-null   object\n",
      "dtypes: object(3)\n",
      "memory usage: 284.1+ KB\n"
     ]
    }
   ],
   "source": [
    "# Verifying it was correctly removed\n",
    "df.info()"
   ]
  },
  {
   "cell_type": "code",
   "execution_count": 15,
   "id": "245b70ba",
   "metadata": {
    "scrolled": true
   },
   "outputs": [
    {
     "name": "stdout",
     "output_type": "stream",
     "text": [
      "The dataset now has 9092. The missing tweet was removed.\n"
     ]
    }
   ],
   "source": [
    "print(f'The dataset now has '+ str(len(df)) + '. The missing tweet was removed.' )"
   ]
  },
  {
   "cell_type": "markdown",
   "id": "5e0e13bd",
   "metadata": {},
   "source": [
    "* **Product or Company**"
   ]
  },
  {
   "cell_type": "markdown",
   "id": "8acca6ca",
   "metadata": {},
   "source": [
    "The product_or_company column contains many null values where neither the product or the brand was specified. For now, all null values will be replaced by 'unknown', as the focus is to predict sentiment. \n",
    "<br>If the focus on product or company needs to be done, two columns will be created to identify the product and the brand. "
   ]
  },
  {
   "cell_type": "code",
   "execution_count": 16,
   "id": "a894c971",
   "metadata": {
    "scrolled": false
   },
   "outputs": [
    {
     "data": {
      "text/html": [
       "<div>\n",
       "<style scoped>\n",
       "    .dataframe tbody tr th:only-of-type {\n",
       "        vertical-align: middle;\n",
       "    }\n",
       "\n",
       "    .dataframe tbody tr th {\n",
       "        vertical-align: top;\n",
       "    }\n",
       "\n",
       "    .dataframe thead th {\n",
       "        text-align: right;\n",
       "    }\n",
       "</style>\n",
       "<table border=\"1\" class=\"dataframe tex2jax_ignore\">\n",
       "  <thead>\n",
       "    <tr style=\"text-align: right;\">\n",
       "      <th></th>\n",
       "      <th>tweet</th>\n",
       "      <th>product_or_company</th>\n",
       "      <th>sentiment</th>\n",
       "    </tr>\n",
       "  </thead>\n",
       "  <tbody>\n",
       "    <tr>\n",
       "      <th>5</th>\n",
       "      <td>@teachntech00 New iPad Apps For #SpeechTherapy And Communication Are Showcased At The #SXSW Conference http://ht.ly/49n4M #iear #edchat #asd</td>\n",
       "      <td>NaN</td>\n",
       "      <td>No emotion toward brand or product</td>\n",
       "    </tr>\n",
       "    <tr>\n",
       "      <th>16</th>\n",
       "      <td>Holler Gram for iPad on the iTunes App Store -  http://t.co/kfN3f5Q (via @marc_is_ken) #sxsw</td>\n",
       "      <td>NaN</td>\n",
       "      <td>No emotion toward brand or product</td>\n",
       "    </tr>\n",
       "    <tr>\n",
       "      <th>32</th>\n",
       "      <td>Attn: All  #SXSW frineds, @mention Register for #GDGTLive  and see Cobra iRadar for Android. {link}</td>\n",
       "      <td>NaN</td>\n",
       "      <td>No emotion toward brand or product</td>\n",
       "    </tr>\n",
       "    <tr>\n",
       "      <th>33</th>\n",
       "      <td>Anyone at  #sxsw want to sell their old iPad?</td>\n",
       "      <td>NaN</td>\n",
       "      <td>No emotion toward brand or product</td>\n",
       "    </tr>\n",
       "    <tr>\n",
       "      <th>34</th>\n",
       "      <td>Anyone at  #SXSW who bought the new iPad want to sell their older iPad to me?</td>\n",
       "      <td>NaN</td>\n",
       "      <td>No emotion toward brand or product</td>\n",
       "    </tr>\n",
       "    <tr>\n",
       "      <th>...</th>\n",
       "      <td>...</td>\n",
       "      <td>...</td>\n",
       "      <td>...</td>\n",
       "    </tr>\n",
       "    <tr>\n",
       "      <th>9087</th>\n",
       "      <td>@mention Yup, but I don't have a third app yet. I'm on Android, any suggestions? #SXSW CC: @mention</td>\n",
       "      <td>NaN</td>\n",
       "      <td>No emotion toward brand or product</td>\n",
       "    </tr>\n",
       "    <tr>\n",
       "      <th>9089</th>\n",
       "      <td>Wave, buzz... RT @mention We interrupt your regularly scheduled #sxsw geek programming with big news {link}  #google #circles</td>\n",
       "      <td>NaN</td>\n",
       "      <td>No emotion toward brand or product</td>\n",
       "    </tr>\n",
       "    <tr>\n",
       "      <th>9090</th>\n",
       "      <td>Google's Zeiger, a physician never reported potential AE. Yet FDA relies on physicians. &amp;quot;We're operating w/out data.&amp;quot; #sxsw #health2dev</td>\n",
       "      <td>NaN</td>\n",
       "      <td>No emotion toward brand or product</td>\n",
       "    </tr>\n",
       "    <tr>\n",
       "      <th>9091</th>\n",
       "      <td>Some Verizon iPhone customers complained their time fell back an hour this weekend.  Of course they were the New Yorkers who attended #SXSW.</td>\n",
       "      <td>NaN</td>\n",
       "      <td>No emotion toward brand or product</td>\n",
       "    </tr>\n",
       "    <tr>\n",
       "      <th>9092</th>\n",
       "      <td>Ï¡Ïàü_ÊÎÒ£Áââ_£â_ÛâRT @mention Google Tests ÛÏCheck-in OffersÛ At #SXSW {link}</td>\n",
       "      <td>NaN</td>\n",
       "      <td>No emotion toward brand or product</td>\n",
       "    </tr>\n",
       "  </tbody>\n",
       "</table>\n",
       "<p>5801 rows × 3 columns</p>\n",
       "</div>"
      ],
      "text/plain": [
       "                                                                                                                                                  tweet  \\\n",
       "5          @teachntech00 New iPad Apps For #SpeechTherapy And Communication Are Showcased At The #SXSW Conference http://ht.ly/49n4M #iear #edchat #asd   \n",
       "16                                                         Holler Gram for iPad on the iTunes App Store -  http://t.co/kfN3f5Q (via @marc_is_ken) #sxsw   \n",
       "32                                                  Attn: All  #SXSW frineds, @mention Register for #GDGTLive  and see Cobra iRadar for Android. {link}   \n",
       "33                                                                                                        Anyone at  #sxsw want to sell their old iPad?   \n",
       "34                                                                        Anyone at  #SXSW who bought the new iPad want to sell their older iPad to me?   \n",
       "...                                                                                                                                                 ...   \n",
       "9087                                                @mention Yup, but I don't have a third app yet. I'm on Android, any suggestions? #SXSW CC: @mention   \n",
       "9089                      Wave, buzz... RT @mention We interrupt your regularly scheduled #sxsw geek programming with big news {link}  #google #circles   \n",
       "9090  Google's Zeiger, a physician never reported potential AE. Yet FDA relies on physicians. &quot;We're operating w/out data.&quot; #sxsw #health2dev   \n",
       "9091       Some Verizon iPhone customers complained their time fell back an hour this weekend.  Of course they were the New Yorkers who attended #SXSW.   \n",
       "9092                                           Ï¡Ïàü_ÊÎÒ£Áââ_£â_ÛâRT @mention Google Tests ÛÏCheck-in OffersÛ At #SXSW {link}   \n",
       "\n",
       "     product_or_company                           sentiment  \n",
       "5                   NaN  No emotion toward brand or product  \n",
       "16                  NaN  No emotion toward brand or product  \n",
       "32                  NaN  No emotion toward brand or product  \n",
       "33                  NaN  No emotion toward brand or product  \n",
       "34                  NaN  No emotion toward brand or product  \n",
       "...                 ...                                 ...  \n",
       "9087                NaN  No emotion toward brand or product  \n",
       "9089                NaN  No emotion toward brand or product  \n",
       "9090                NaN  No emotion toward brand or product  \n",
       "9091                NaN  No emotion toward brand or product  \n",
       "9092                NaN  No emotion toward brand or product  \n",
       "\n",
       "[5801 rows x 3 columns]"
      ]
     },
     "execution_count": 16,
     "metadata": {},
     "output_type": "execute_result"
    }
   ],
   "source": [
    "# Inspecting the tweet containing null information \n",
    "df[df['product_or_company'].isnull()]"
   ]
  },
  {
   "cell_type": "code",
   "execution_count": 17,
   "id": "a9ec8d56",
   "metadata": {},
   "outputs": [],
   "source": [
    "# Replacing the null product or company with 'undefined'\n",
    "df['product_or_company'] = df['product_or_company'].fillna('undefined')"
   ]
  },
  {
   "cell_type": "code",
   "execution_count": 18,
   "id": "7222f880",
   "metadata": {
    "scrolled": true
   },
   "outputs": [
    {
     "name": "stdout",
     "output_type": "stream",
     "text": [
      "<class 'pandas.core.frame.DataFrame'>\n",
      "Int64Index: 9092 entries, 0 to 9092\n",
      "Data columns (total 3 columns):\n",
      " #   Column              Non-Null Count  Dtype \n",
      "---  ------              --------------  ----- \n",
      " 0   tweet               9092 non-null   object\n",
      " 1   product_or_company  9092 non-null   object\n",
      " 2   sentiment           9092 non-null   object\n",
      "dtypes: object(3)\n",
      "memory usage: 284.1+ KB\n"
     ]
    }
   ],
   "source": [
    "# Verifying it was correctly handled\n",
    "df.info()"
   ]
  },
  {
   "cell_type": "code",
   "execution_count": 19,
   "id": "e47ec998",
   "metadata": {
    "scrolled": true
   },
   "outputs": [
    {
     "name": "stdout",
     "output_type": "stream",
     "text": [
      "The dataset still has 9092.\n"
     ]
    }
   ],
   "source": [
    "print(f'The dataset still has '+ str(len(df)) + '.' )"
   ]
  },
  {
   "cell_type": "code",
   "execution_count": 20,
   "id": "2ed26587",
   "metadata": {
    "scrolled": true
   },
   "outputs": [
    {
     "data": {
      "text/plain": [
       "undefined                          5801\n",
       "iPad                                946\n",
       "Apple                               661\n",
       "iPad or iPhone App                  470\n",
       "Google                              430\n",
       "iPhone                              297\n",
       "Other Google product or service     293\n",
       "Android App                          81\n",
       "Android                              78\n",
       "Other Apple product or service       35\n",
       "Name: product_or_company, dtype: int64"
      ]
     },
     "execution_count": 20,
     "metadata": {},
     "output_type": "execute_result"
    }
   ],
   "source": [
    "# Verifying the count of rows by unique value in this column\n",
    "df['product_or_company'].value_counts()"
   ]
  },
  {
   "cell_type": "markdown",
   "id": "c0cfb9ad",
   "metadata": {},
   "source": [
    "### 4. d) Handling duplicates"
   ]
  },
  {
   "cell_type": "code",
   "execution_count": 21,
   "id": "a575b2ab",
   "metadata": {},
   "outputs": [
    {
     "name": "stdout",
     "output_type": "stream",
     "text": [
      "22 duplicate rows were identified.\n"
     ]
    }
   ],
   "source": [
    "# How many rows were duplicates\n",
    "print(str(len(df[df.duplicated()])) + f' duplicate rows were identified.')"
   ]
  },
  {
   "cell_type": "code",
   "execution_count": 22,
   "id": "d79fdb11",
   "metadata": {},
   "outputs": [
    {
     "data": {
      "text/html": [
       "<div>\n",
       "<style scoped>\n",
       "    .dataframe tbody tr th:only-of-type {\n",
       "        vertical-align: middle;\n",
       "    }\n",
       "\n",
       "    .dataframe tbody tr th {\n",
       "        vertical-align: top;\n",
       "    }\n",
       "\n",
       "    .dataframe thead th {\n",
       "        text-align: right;\n",
       "    }\n",
       "</style>\n",
       "<table border=\"1\" class=\"dataframe tex2jax_ignore\">\n",
       "  <thead>\n",
       "    <tr style=\"text-align: right;\">\n",
       "      <th></th>\n",
       "      <th>tweet</th>\n",
       "      <th>product_or_company</th>\n",
       "      <th>sentiment</th>\n",
       "    </tr>\n",
       "  </thead>\n",
       "  <tbody>\n",
       "    <tr>\n",
       "      <th>468</th>\n",
       "      <td>Before It Even Begins, Apple Wins #SXSW {link}</td>\n",
       "      <td>Apple</td>\n",
       "      <td>Positive emotion</td>\n",
       "    </tr>\n",
       "    <tr>\n",
       "      <th>776</th>\n",
       "      <td>Google to Launch Major New Social Network Called Circles, Possibly Today {link} #sxsw</td>\n",
       "      <td>undefined</td>\n",
       "      <td>No emotion toward brand or product</td>\n",
       "    </tr>\n",
       "    <tr>\n",
       "      <th>2232</th>\n",
       "      <td>Marissa Mayer: Google Will Connect the Digital &amp;amp; Physical Worlds Through Mobile - {link} #sxsw</td>\n",
       "      <td>undefined</td>\n",
       "      <td>No emotion toward brand or product</td>\n",
       "    </tr>\n",
       "    <tr>\n",
       "      <th>2559</th>\n",
       "      <td>Counting down the days to #sxsw plus strong Canadian dollar means stock up on Apple gear</td>\n",
       "      <td>Apple</td>\n",
       "      <td>Positive emotion</td>\n",
       "    </tr>\n",
       "    <tr>\n",
       "      <th>3950</th>\n",
       "      <td>Really enjoying the changes in Gowalla 3.0 for Android! Looking forward to seeing what else they &amp;amp; Foursquare have up their sleeves at #SXSW</td>\n",
       "      <td>Android App</td>\n",
       "      <td>Positive emotion</td>\n",
       "    </tr>\n",
       "    <tr>\n",
       "      <th>3962</th>\n",
       "      <td>#SXSW is just starting, #CTIA is around the corner and #googleio is only a hop skip and a jump from there, good time to be an #android fan</td>\n",
       "      <td>Android</td>\n",
       "      <td>Positive emotion</td>\n",
       "    </tr>\n",
       "    <tr>\n",
       "      <th>4897</th>\n",
       "      <td>Oh. My. God. The #SXSW app for iPad is pure, unadulterated awesome. It's easier to browse events on iPad than on the website!!!</td>\n",
       "      <td>iPad or iPhone App</td>\n",
       "      <td>Positive emotion</td>\n",
       "    </tr>\n",
       "    <tr>\n",
       "      <th>5338</th>\n",
       "      <td>RT @mention ÷¼ GO BEYOND BORDERS! ÷_ {link} ã_ #edchat #musedchat #sxsw #sxswi #classical #newTwitter</td>\n",
       "      <td>undefined</td>\n",
       "      <td>No emotion toward brand or product</td>\n",
       "    </tr>\n",
       "    <tr>\n",
       "      <th>5341</th>\n",
       "      <td>RT @mention ÷¼ Happy Woman's Day! Make love, not fuss! ÷_ {link} ã_ #edchat #musedchat #sxsw #sxswi #classical #newTwitter</td>\n",
       "      <td>undefined</td>\n",
       "      <td>No emotion toward brand or product</td>\n",
       "    </tr>\n",
       "    <tr>\n",
       "      <th>5881</th>\n",
       "      <td>RT @mention Google to Launch Major New Social Network Called Circles, Possibly Today {link} #sxsw</td>\n",
       "      <td>undefined</td>\n",
       "      <td>No emotion toward brand or product</td>\n",
       "    </tr>\n",
       "    <tr>\n",
       "      <th>5882</th>\n",
       "      <td>RT @mention Google to Launch Major New Social Network Called Circles, Possibly Today {link} #SXSW</td>\n",
       "      <td>undefined</td>\n",
       "      <td>No emotion toward brand or product</td>\n",
       "    </tr>\n",
       "    <tr>\n",
       "      <th>5883</th>\n",
       "      <td>RT @mention Google to Launch Major New Social Network Called Circles, Possibly Today {link} #sxsw</td>\n",
       "      <td>undefined</td>\n",
       "      <td>No emotion toward brand or product</td>\n",
       "    </tr>\n",
       "    <tr>\n",
       "      <th>5884</th>\n",
       "      <td>RT @mention Google to Launch Major New Social Network Called Circles, Possibly Today {link} #SXSW</td>\n",
       "      <td>undefined</td>\n",
       "      <td>No emotion toward brand or product</td>\n",
       "    </tr>\n",
       "    <tr>\n",
       "      <th>5885</th>\n",
       "      <td>RT @mention Google to Launch Major New Social Network Called Circles, Possibly Today {link} #sxsw</td>\n",
       "      <td>undefined</td>\n",
       "      <td>No emotion toward brand or product</td>\n",
       "    </tr>\n",
       "    <tr>\n",
       "      <th>6296</th>\n",
       "      <td>RT @mention Marissa Mayer: Google Will Connect the Digital &amp;amp; Physical Worlds Through Mobile - {link} #sxsw</td>\n",
       "      <td>Google</td>\n",
       "      <td>Positive emotion</td>\n",
       "    </tr>\n",
       "    <tr>\n",
       "      <th>6297</th>\n",
       "      <td>RT @mention Marissa Mayer: Google Will Connect the Digital &amp;amp; Physical Worlds Through Mobile - {link} #SXSW</td>\n",
       "      <td>undefined</td>\n",
       "      <td>No emotion toward brand or product</td>\n",
       "    </tr>\n",
       "    <tr>\n",
       "      <th>6298</th>\n",
       "      <td>RT @mention Marissa Mayer: Google Will Connect the Digital &amp;amp; Physical Worlds Through Mobile - {link} #sxsw</td>\n",
       "      <td>Google</td>\n",
       "      <td>Positive emotion</td>\n",
       "    </tr>\n",
       "    <tr>\n",
       "      <th>6299</th>\n",
       "      <td>RT @mention Marissa Mayer: Google Will Connect the Digital &amp;amp; Physical Worlds Through Mobile - {link} #SXSW</td>\n",
       "      <td>undefined</td>\n",
       "      <td>No emotion toward brand or product</td>\n",
       "    </tr>\n",
       "    <tr>\n",
       "      <th>6300</th>\n",
       "      <td>RT @mention Marissa Mayer: Google Will Connect the Digital &amp;amp; Physical Worlds Through Mobile - {link} #sxsw</td>\n",
       "      <td>undefined</td>\n",
       "      <td>No emotion toward brand or product</td>\n",
       "    </tr>\n",
       "    <tr>\n",
       "      <th>6546</th>\n",
       "      <td>RT @mention RT @mention Google to Launch Major New Social Network Called Circles, Possibly Today {link} #sxsw</td>\n",
       "      <td>undefined</td>\n",
       "      <td>No emotion toward brand or product</td>\n",
       "    </tr>\n",
       "    <tr>\n",
       "      <th>8483</th>\n",
       "      <td>I just noticed DST is coming this weekend. How many iPhone users will be an hour late at SXSW come Sunday morning? #SXSW #iPhone</td>\n",
       "      <td>iPhone</td>\n",
       "      <td>Negative emotion</td>\n",
       "    </tr>\n",
       "    <tr>\n",
       "      <th>8747</th>\n",
       "      <td>Need to buy an iPad2 while I'm in Austin at #sxsw. Not sure if I'll need to Q up at an Austin Apple store?</td>\n",
       "      <td>iPad</td>\n",
       "      <td>Positive emotion</td>\n",
       "    </tr>\n",
       "  </tbody>\n",
       "</table>\n",
       "</div>"
      ],
      "text/plain": [
       "                                                                                                                                                 tweet  \\\n",
       "468                                                                                                     Before It Even Begins, Apple Wins #SXSW {link}   \n",
       "776                                                              Google to Launch Major New Social Network Called Circles, Possibly Today {link} #sxsw   \n",
       "2232                                                Marissa Mayer: Google Will Connect the Digital &amp; Physical Worlds Through Mobile - {link} #sxsw   \n",
       "2559                                                          Counting down the days to #sxsw plus strong Canadian dollar means stock up on Apple gear   \n",
       "3950  Really enjoying the changes in Gowalla 3.0 for Android! Looking forward to seeing what else they &amp; Foursquare have up their sleeves at #SXSW   \n",
       "3962        #SXSW is just starting, #CTIA is around the corner and #googleio is only a hop skip and a jump from there, good time to be an #android fan   \n",
       "4897                   Oh. My. God. The #SXSW app for iPad is pure, unadulterated awesome. It's easier to browse events on iPad than on the website!!!   \n",
       "5338                                          RT @mention ÷¼ GO BEYOND BORDERS! ÷_ {link} ã_ #edchat #musedchat #sxsw #sxswi #classical #newTwitter   \n",
       "5341                     RT @mention ÷¼ Happy Woman's Day! Make love, not fuss! ÷_ {link} ã_ #edchat #musedchat #sxsw #sxswi #classical #newTwitter   \n",
       "5881                                                 RT @mention Google to Launch Major New Social Network Called Circles, Possibly Today {link} #sxsw   \n",
       "5882                                                 RT @mention Google to Launch Major New Social Network Called Circles, Possibly Today {link} #SXSW   \n",
       "5883                                                 RT @mention Google to Launch Major New Social Network Called Circles, Possibly Today {link} #sxsw   \n",
       "5884                                                 RT @mention Google to Launch Major New Social Network Called Circles, Possibly Today {link} #SXSW   \n",
       "5885                                                 RT @mention Google to Launch Major New Social Network Called Circles, Possibly Today {link} #sxsw   \n",
       "6296                                    RT @mention Marissa Mayer: Google Will Connect the Digital &amp; Physical Worlds Through Mobile - {link} #sxsw   \n",
       "6297                                    RT @mention Marissa Mayer: Google Will Connect the Digital &amp; Physical Worlds Through Mobile - {link} #SXSW   \n",
       "6298                                    RT @mention Marissa Mayer: Google Will Connect the Digital &amp; Physical Worlds Through Mobile - {link} #sxsw   \n",
       "6299                                    RT @mention Marissa Mayer: Google Will Connect the Digital &amp; Physical Worlds Through Mobile - {link} #SXSW   \n",
       "6300                                    RT @mention Marissa Mayer: Google Will Connect the Digital &amp; Physical Worlds Through Mobile - {link} #sxsw   \n",
       "6546                                     RT @mention RT @mention Google to Launch Major New Social Network Called Circles, Possibly Today {link} #sxsw   \n",
       "8483                  I just noticed DST is coming this weekend. How many iPhone users will be an hour late at SXSW come Sunday morning? #SXSW #iPhone   \n",
       "8747                                        Need to buy an iPad2 while I'm in Austin at #sxsw. Not sure if I'll need to Q up at an Austin Apple store?   \n",
       "\n",
       "      product_or_company                           sentiment  \n",
       "468                Apple                    Positive emotion  \n",
       "776            undefined  No emotion toward brand or product  \n",
       "2232           undefined  No emotion toward brand or product  \n",
       "2559               Apple                    Positive emotion  \n",
       "3950         Android App                    Positive emotion  \n",
       "3962             Android                    Positive emotion  \n",
       "4897  iPad or iPhone App                    Positive emotion  \n",
       "5338           undefined  No emotion toward brand or product  \n",
       "5341           undefined  No emotion toward brand or product  \n",
       "5881           undefined  No emotion toward brand or product  \n",
       "5882           undefined  No emotion toward brand or product  \n",
       "5883           undefined  No emotion toward brand or product  \n",
       "5884           undefined  No emotion toward brand or product  \n",
       "5885           undefined  No emotion toward brand or product  \n",
       "6296              Google                    Positive emotion  \n",
       "6297           undefined  No emotion toward brand or product  \n",
       "6298              Google                    Positive emotion  \n",
       "6299           undefined  No emotion toward brand or product  \n",
       "6300           undefined  No emotion toward brand or product  \n",
       "6546           undefined  No emotion toward brand or product  \n",
       "8483              iPhone                    Negative emotion  \n",
       "8747                iPad                    Positive emotion  "
      ]
     },
     "execution_count": 22,
     "metadata": {},
     "output_type": "execute_result"
    }
   ],
   "source": [
    "# Viewing the duplicate rows\n",
    "df[df.duplicated()]"
   ]
  },
  {
   "cell_type": "code",
   "execution_count": 23,
   "id": "26a2e360",
   "metadata": {},
   "outputs": [
    {
     "data": {
      "text/html": [
       "<div>\n",
       "<style scoped>\n",
       "    .dataframe tbody tr th:only-of-type {\n",
       "        vertical-align: middle;\n",
       "    }\n",
       "\n",
       "    .dataframe tbody tr th {\n",
       "        vertical-align: top;\n",
       "    }\n",
       "\n",
       "    .dataframe thead th {\n",
       "        text-align: right;\n",
       "    }\n",
       "</style>\n",
       "<table border=\"1\" class=\"dataframe tex2jax_ignore\">\n",
       "  <thead>\n",
       "    <tr style=\"text-align: right;\">\n",
       "      <th></th>\n",
       "      <th>tweet</th>\n",
       "      <th>product_or_company</th>\n",
       "      <th>sentiment</th>\n",
       "    </tr>\n",
       "  </thead>\n",
       "  <tbody>\n",
       "    <tr>\n",
       "      <th>466</th>\n",
       "      <td>Before It Even Begins, Apple Wins #SXSW {link}</td>\n",
       "      <td>Apple</td>\n",
       "      <td>Positive emotion</td>\n",
       "    </tr>\n",
       "    <tr>\n",
       "      <th>468</th>\n",
       "      <td>Before It Even Begins, Apple Wins #SXSW {link}</td>\n",
       "      <td>Apple</td>\n",
       "      <td>Positive emotion</td>\n",
       "    </tr>\n",
       "  </tbody>\n",
       "</table>\n",
       "</div>"
      ],
      "text/plain": [
       "                                              tweet product_or_company  \\\n",
       "466  Before It Even Begins, Apple Wins #SXSW {link}              Apple   \n",
       "468  Before It Even Begins, Apple Wins #SXSW {link}              Apple   \n",
       "\n",
       "            sentiment  \n",
       "466  Positive emotion  \n",
       "468  Positive emotion  "
      ]
     },
     "execution_count": 23,
     "metadata": {},
     "output_type": "execute_result"
    }
   ],
   "source": [
    "# Verifying with one example that tweets were indeed duplicated \n",
    "df[df['tweet'] == 'Before It Even Begins, Apple Wins #SXSW {link}']"
   ]
  },
  {
   "cell_type": "code",
   "execution_count": 24,
   "id": "47f4815f",
   "metadata": {},
   "outputs": [
    {
     "name": "stdout",
     "output_type": "stream",
     "text": [
      "<class 'pandas.core.frame.DataFrame'>\n",
      "Int64Index: 9070 entries, 0 to 9092\n",
      "Data columns (total 3 columns):\n",
      " #   Column              Non-Null Count  Dtype \n",
      "---  ------              --------------  ----- \n",
      " 0   tweet               9070 non-null   object\n",
      " 1   product_or_company  9070 non-null   object\n",
      " 2   sentiment           9070 non-null   object\n",
      "dtypes: object(3)\n",
      "memory usage: 283.4+ KB\n"
     ]
    }
   ],
   "source": [
    "# Dropping duplicates\n",
    "df.drop_duplicates(inplace=True)\n",
    "df.info()"
   ]
  },
  {
   "cell_type": "markdown",
   "id": "22a598d6",
   "metadata": {},
   "source": [
    "### 4. d) Turning sentiment classification into a binary one"
   ]
  },
  {
   "cell_type": "markdown",
   "id": "5328881f",
   "metadata": {},
   "source": [
    "* **Product or Company**"
   ]
  },
  {
   "cell_type": "markdown",
   "id": "d37b1f74",
   "metadata": {},
   "source": [
    "The product or company column does not have an impact on whether a tweet is positive or negative, so it will not be transformed as it will not be used further for predictions. "
   ]
  },
  {
   "cell_type": "markdown",
   "id": "d70baaac",
   "metadata": {},
   "source": [
    "* **Sentiment**"
   ]
  },
  {
   "cell_type": "markdown",
   "id": "c2ee879e",
   "metadata": {},
   "source": [
    "Four sentiment categories are described, which could be grouped in three: positive, negative, neutral. \n",
    "<br>This is what will be covered over the next section. "
   ]
  },
  {
   "cell_type": "code",
   "execution_count": 25,
   "id": "ba0163c4",
   "metadata": {},
   "outputs": [
    {
     "data": {
      "text/plain": [
       "No emotion toward brand or product    5375\n",
       "Positive emotion                      2970\n",
       "Negative emotion                       569\n",
       "I can't tell                           156\n",
       "Name: sentiment, dtype: int64"
      ]
     },
     "execution_count": 25,
     "metadata": {},
     "output_type": "execute_result"
    }
   ],
   "source": [
    "# Number of rows by emotion\n",
    "df['sentiment'].value_counts()"
   ]
  },
  {
   "cell_type": "markdown",
   "id": "7533c0b3",
   "metadata": {},
   "source": [
    "* **Categorizing**"
   ]
  },
  {
   "cell_type": "markdown",
   "id": "d790dc9b",
   "metadata": {},
   "source": [
    "Due to the nature of the target, we will focus on the positive ones. Hence all the other tweets, whether they are neutral or negative, will be considered *not positive*, so will be identified as negative."
   ]
  },
  {
   "cell_type": "code",
   "execution_count": 26,
   "id": "e361457d",
   "metadata": {},
   "outputs": [],
   "source": [
    "# Defining the new classifications for the sentiment column \n",
    "classification_columns = {\n",
    "    'sentiment': {\n",
    "        \"No emotion toward brand or product\": \"negative\", \n",
    "        \"I can't tell\": \"negative\", \n",
    "        \"Positive emotion\": \"positive\", \n",
    "        \"Negative emotion\": \"negative\" \n",
    "    }\n",
    "}"
   ]
  },
  {
   "cell_type": "code",
   "execution_count": 27,
   "id": "0d7e19d7",
   "metadata": {},
   "outputs": [],
   "source": [
    "# Converting the sentiment column classification\n",
    "\n",
    "# Defining columns to change\n",
    "column_classification = ['sentiment']\n",
    "\n",
    "def convert_class(df, columns_mapping):\n",
    "    for column, mapping in columns_mapping.items():\n",
    "        print('Before: ' + column, df[column].unique())\n",
    "        df[column] = df[column].map(mapping)\n",
    "        print('After: ' + column, df[column].unique())\n",
    "    "
   ]
  },
  {
   "cell_type": "code",
   "execution_count": 28,
   "id": "fc2cfc7e",
   "metadata": {
    "scrolled": true
   },
   "outputs": [
    {
     "name": "stdout",
     "output_type": "stream",
     "text": [
      "Before: sentiment ['Negative emotion' 'Positive emotion'\n",
      " 'No emotion toward brand or product' \"I can't tell\"]\n",
      "After: sentiment ['negative' 'positive']\n"
     ]
    }
   ],
   "source": [
    "convert_class(df, classification_columns)"
   ]
  },
  {
   "cell_type": "code",
   "execution_count": 29,
   "id": "d685548c",
   "metadata": {},
   "outputs": [
    {
     "data": {
      "text/plain": [
       "negative    6100\n",
       "positive    2970\n",
       "Name: sentiment, dtype: int64"
      ]
     },
     "execution_count": 29,
     "metadata": {},
     "output_type": "execute_result"
    }
   ],
   "source": [
    "# Number of rows by unique sentiment\n",
    "df['sentiment'].value_counts()"
   ]
  },
  {
   "cell_type": "code",
   "execution_count": 41,
   "id": "233f8fed",
   "metadata": {},
   "outputs": [
    {
     "data": {
      "image/png": "[encoded data removed]",
      "text/plain": [
       "<Figure size 1000x600 with 1 Axes>"
      ]
     },
     "metadata": {},
     "output_type": "display_data"
    }
   ],
   "source": [
    "# Creating a bar chart for to visualize class imbalance\n",
    "fig, ax = plt.subplots(figsize=(10,6))\n",
    "\n",
    "# Defining custom colors \n",
    "custom_colors = ['#3B3935', '#00917C']\n",
    "\n",
    "sns.countplot(data=df, x='sentiment', order=df['sentiment'].value_counts().index, palette=custom_colors)\n",
    "\n",
    "ax.set_xlabel(xlabel = 'Sentiment', fontsize=15)\n",
    "ax.set_ylabel(ylabel = 'Number of Tweets', fontsize=15)\n",
    "\n",
    "ax.set_xticklabels(labels=['Negative', 'Positive'])\n",
    "\n",
    "ax.set_title(f'Number of tweets per sentiment')\n",
    "\n",
    "plt.show()"
   ]
  },
  {
   "cell_type": "markdown",
   "id": "5ebc6807",
   "metadata": {},
   "source": [
    "### 4. e) Performing a Train-Test Split"
   ]
  },
  {
   "cell_type": "code",
   "execution_count": 42,
   "id": "55b7a3f5",
   "metadata": {},
   "outputs": [],
   "source": [
    "# Splitting df into X and y\n",
    "X = df.drop('sentiment', axis=1)\n",
    "y = df['sentiment']"
   ]
  },
  {
   "cell_type": "code",
   "execution_count": 43,
   "id": "b1e4495d",
   "metadata": {},
   "outputs": [],
   "source": [
    "X_train, X_test, y_train, _test = train_test_split(X, y, random_state=42, stratify=y)"
   ]
  },
  {
   "cell_type": "code",
   "execution_count": 45,
   "id": "75cbc748",
   "metadata": {},
   "outputs": [
    {
     "data": {
      "text/html": [
       "<div>\n",
       "<style scoped>\n",
       "    .dataframe tbody tr th:only-of-type {\n",
       "        vertical-align: middle;\n",
       "    }\n",
       "\n",
       "    .dataframe tbody tr th {\n",
       "        vertical-align: top;\n",
       "    }\n",
       "\n",
       "    .dataframe thead th {\n",
       "        text-align: right;\n",
       "    }\n",
       "</style>\n",
       "<table border=\"1\" class=\"dataframe tex2jax_ignore\">\n",
       "  <thead>\n",
       "    <tr style=\"text-align: right;\">\n",
       "      <th></th>\n",
       "      <th>tweet</th>\n",
       "      <th>product_or_company</th>\n",
       "    </tr>\n",
       "  </thead>\n",
       "  <tbody>\n",
       "    <tr>\n",
       "      <th>8268</th>\n",
       "      <td>Huge shout out to GSDM &amp;amp; Google for the kick ass party tonight! We had an unbelievable time. #SXSW</td>\n",
       "      <td>Google</td>\n",
       "    </tr>\n",
       "    <tr>\n",
       "      <th>945</th>\n",
       "      <td>#SXSW 20% of Google searches are for local information: Marissa Mayer. 6 million places claimed by their owners and logged by #Google</td>\n",
       "      <td>undefined</td>\n",
       "    </tr>\n",
       "    <tr>\n",
       "      <th>8832</th>\n",
       "      <td>free #sxsw playlist.. enjoy {link}</td>\n",
       "      <td>undefined</td>\n",
       "    </tr>\n",
       "    <tr>\n",
       "      <th>7771</th>\n",
       "      <td>Awesome! RT @mention Yes! Gowalla wins best Andoid app at the Team Android Choice Awards. Thanks all! #sxsw</td>\n",
       "      <td>Android App</td>\n",
       "    </tr>\n",
       "    <tr>\n",
       "      <th>1643</th>\n",
       "      <td>#justmet @mention who worked for Apple for 25 years! #SXSW</td>\n",
       "      <td>Apple</td>\n",
       "    </tr>\n",
       "  </tbody>\n",
       "</table>\n",
       "</div>"
      ],
      "text/plain": [
       "                                                                                                                                      tweet  \\\n",
       "8268                                 Huge shout out to GSDM &amp; Google for the kick ass party tonight! We had an unbelievable time. #SXSW   \n",
       "945   #SXSW 20% of Google searches are for local information: Marissa Mayer. 6 million places claimed by their owners and logged by #Google   \n",
       "8832                                                                                                     free #sxsw playlist.. enjoy {link}   \n",
       "7771                            Awesome! RT @mention Yes! Gowalla wins best Andoid app at the Team Android Choice Awards. Thanks all! #sxsw   \n",
       "1643                                                                             #justmet @mention who worked for Apple for 25 years! #SXSW   \n",
       "\n",
       "     product_or_company  \n",
       "8268             Google  \n",
       "945           undefined  \n",
       "8832          undefined  \n",
       "7771        Android App  \n",
       "1643              Apple  "
      ]
     },
     "execution_count": 45,
     "metadata": {},
     "output_type": "execute_result"
    }
   ],
   "source": [
    "X_train.head()"
   ]
  },
  {
   "cell_type": "code",
   "execution_count": 46,
   "id": "85b7d4d3",
   "metadata": {},
   "outputs": [
    {
     "data": {
      "text/plain": [
       "8268    positive\n",
       "945     negative\n",
       "8832    negative\n",
       "7771    positive\n",
       "1643    positive\n",
       "Name: sentiment, dtype: object"
      ]
     },
     "execution_count": 46,
     "metadata": {},
     "output_type": "execute_result"
    }
   ],
   "source": [
    "y_train.head()"
   ]
  },
  {
   "cell_type": "markdown",
   "id": "82c7863e",
   "metadata": {},
   "source": [
    "* **Distribution of Target**"
   ]
  },
  {
   "cell_type": "code",
   "execution_count": 38,
   "id": "02e8d405",
   "metadata": {},
   "outputs": [],
   "source": [
    "train_target_counts = pd.DataFrame(y_train.value_counts())\n",
    "train_target_counts.index.name = 'target name'\n",
    "train_target_counts.rename(columns={'sentiment': 'count'}, inplace=True)"
   ]
  },
  {
   "cell_type": "code",
   "execution_count": 39,
   "id": "ab19ce95",
   "metadata": {
    "scrolled": true
   },
   "outputs": [
    {
     "data": {
      "text/html": [
       "<div>\n",
       "<style scoped>\n",
       "    .dataframe tbody tr th:only-of-type {\n",
       "        vertical-align: middle;\n",
       "    }\n",
       "\n",
       "    .dataframe tbody tr th {\n",
       "        vertical-align: top;\n",
       "    }\n",
       "\n",
       "    .dataframe thead th {\n",
       "        text-align: right;\n",
       "    }\n",
       "</style>\n",
       "<table border=\"1\" class=\"dataframe tex2jax_ignore\">\n",
       "  <thead>\n",
       "    <tr style=\"text-align: right;\">\n",
       "      <th></th>\n",
       "      <th>count</th>\n",
       "    </tr>\n",
       "    <tr>\n",
       "      <th>target name</th>\n",
       "      <th></th>\n",
       "    </tr>\n",
       "  </thead>\n",
       "  <tbody>\n",
       "    <tr>\n",
       "      <th>No emotion toward brand or product</th>\n",
       "      <td>4041</td>\n",
       "    </tr>\n",
       "    <tr>\n",
       "      <th>Positive emotion</th>\n",
       "      <td>2233</td>\n",
       "    </tr>\n",
       "    <tr>\n",
       "      <th>Negative emotion</th>\n",
       "      <td>428</td>\n",
       "    </tr>\n",
       "    <tr>\n",
       "      <th>I can't tell</th>\n",
       "      <td>117</td>\n",
       "    </tr>\n",
       "  </tbody>\n",
       "</table>\n",
       "</div>"
      ],
      "text/plain": [
       "                                    count\n",
       "target name                              \n",
       "No emotion toward brand or product   4041\n",
       "Positive emotion                     2233\n",
       "Negative emotion                      428\n",
       "I can't tell                          117"
      ]
     },
     "execution_count": 39,
     "metadata": {},
     "output_type": "execute_result"
    }
   ],
   "source": [
    "train_target_counts"
   ]
  },
  {
   "cell_type": "markdown",
   "id": "ae92d494",
   "metadata": {},
   "source": [
    "* **Visually Inspecting Features**"
   ]
  },
  {
   "cell_type": "code",
   "execution_count": 42,
   "id": "dee42837",
   "metadata": {},
   "outputs": [
    {
     "data": {
      "text/html": [
       "<style type=\"text/css\">\n",
       "#T_a6875_row0_col0, #T_a6875_row0_col1, #T_a6875_row0_col2, #T_a6875_row1_col0, #T_a6875_row1_col1, #T_a6875_row1_col2, #T_a6875_row2_col0, #T_a6875_row2_col1, #T_a6875_row2_col2, #T_a6875_row3_col0, #T_a6875_row3_col1, #T_a6875_row3_col2, #T_a6875_row4_col0, #T_a6875_row4_col1, #T_a6875_row4_col2 {\n",
       "  text-align: left;\n",
       "}\n",
       "</style>\n",
       "<table id=\"T_a6875\">\n",
       "  <thead>\n",
       "    <tr>\n",
       "      <th class=\"blank level0\" >&nbsp;</th>\n",
       "      <th id=\"T_a6875_level0_col0\" class=\"col_heading level0 col0\" >tweet</th>\n",
       "      <th id=\"T_a6875_level0_col1\" class=\"col_heading level0 col1\" >product_or_company</th>\n",
       "      <th id=\"T_a6875_level0_col2\" class=\"col_heading level0 col2\" >label</th>\n",
       "    </tr>\n",
       "  </thead>\n",
       "  <tbody>\n",
       "    <tr>\n",
       "      <th id=\"T_a6875_level0_row0\" class=\"row_heading level0 row0\" >1980</th>\n",
       "      <td id=\"T_a6875_row0_col0\" class=\"data row0 col0\" >Is there an iPhone app that people use for #SXSW scheduling? This @mention is awesome but there isn't an app! #flummoxed</td>\n",
       "      <td id=\"T_a6875_row0_col1\" class=\"data row0 col1\" >iPad or iPhone App</td>\n",
       "      <td id=\"T_a6875_row0_col2\" class=\"data row0 col2\" >Positive emotion</td>\n",
       "    </tr>\n",
       "    <tr>\n",
       "      <th id=\"T_a6875_level0_row1\" class=\"row_heading level0 row1\" >8492</th>\n",
       "      <td id=\"T_a6875_row1_col0\" class=\"data row1 col0\" >who's sitting in the lobby of her hotel after 2am for free wifi so she can set up her new iPad?  yeah, that's me.  #sxsw</td>\n",
       "      <td id=\"T_a6875_row1_col1\" class=\"data row1 col1\" >iPad</td>\n",
       "      <td id=\"T_a6875_row1_col2\" class=\"data row1 col2\" >Positive emotion</td>\n",
       "    </tr>\n",
       "    <tr>\n",
       "      <th id=\"T_a6875_level0_row2\" class=\"row_heading level0 row2\" >2111</th>\n",
       "      <td id=\"T_a6875_row2_col0\" class=\"data row2 col0\" >#sxsw Kawasaki says key to enchantment is likability of @mention trustworthiness of @mention &amp; product of @mention</td>\n",
       "      <td id=\"T_a6875_row2_col1\" class=\"data row2 col1\" >nan</td>\n",
       "      <td id=\"T_a6875_row2_col2\" class=\"data row2 col2\" >No emotion toward brand or product</td>\n",
       "    </tr>\n",
       "    <tr>\n",
       "      <th id=\"T_a6875_level0_row3\" class=\"row_heading level0 row3\" >780</th>\n",
       "      <td id=\"T_a6875_row3_col0\" class=\"data row3 col0\" >Google to Launch Major New Social Network Called Circles, Possibly Today {link} #sxsw @mention</td>\n",
       "      <td id=\"T_a6875_row3_col1\" class=\"data row3 col1\" >nan</td>\n",
       "      <td id=\"T_a6875_row3_col2\" class=\"data row3 col2\" >No emotion toward brand or product</td>\n",
       "    </tr>\n",
       "    <tr>\n",
       "      <th id=\"T_a6875_level0_row4\" class=\"row_heading level0 row4\" >2487</th>\n",
       "      <td id=\"T_a6875_row4_col0\" class=\"data row4 col0\" >Now: Poked, Liked and Re-tweeted - a Google Love Story - Alisa (iCrossing). #sxsw #futurefifteen</td>\n",
       "      <td id=\"T_a6875_row4_col1\" class=\"data row4 col1\" >nan</td>\n",
       "      <td id=\"T_a6875_row4_col2\" class=\"data row4 col2\" >No emotion toward brand or product</td>\n",
       "    </tr>\n",
       "  </tbody>\n",
       "</table>\n"
      ],
      "text/plain": [
       "<pandas.io.formats.style.Styler at 0x27fa3d9f2d0>"
      ]
     },
     "execution_count": 42,
     "metadata": {},
     "output_type": "execute_result"
    }
   ],
   "source": [
    "# Making a sample of 5 records to display the full text of each\n",
    "train_sample = X_train.sample(5, random_state=22)\n",
    "train_sample['label'] = [y_train[val] for val in train_sample.index]\n",
    "train_sample.style.set_properties(**{'text-align': 'left'})"
   ]
  },
  {
   "cell_type": "code",
   "execution_count": null,
   "id": "f70fa800",
   "metadata": {},
   "outputs": [],
   "source": []
  },
  {
   "cell_type": "markdown",
   "id": "06d2cdc9",
   "metadata": {},
   "source": [
    "## 4. or 5. ?"
   ]
  },
  {
   "cell_type": "markdown",
   "id": "12d6f72c",
   "metadata": {},
   "source": [
    "## 4. Data Preparation Continuity or Preprocessing?"
   ]
  },
  {
   "cell_type": "markdown",
   "id": "abcb1807",
   "metadata": {},
   "source": [
    "### 4. e) Standardizing Case"
   ]
  },
  {
   "cell_type": "markdown",
   "id": "a0854ff5",
   "metadata": {},
   "source": [
    "Before starting any exploratory analysis, two fundamental data cleaning tasks will be performed on the text data: standardizing case and tokenizing. The first one will be standardizing."
   ]
  },
  {
   "cell_type": "markdown",
   "id": "dadc305a",
   "metadata": {},
   "source": [
    "### 4. f) Tokenizing"
   ]
  },
  {
   "cell_type": "markdown",
   "id": "0ab50da4",
   "metadata": {},
   "source": [
    "Before starting any exploratory analysis, two fundamental data cleaning tasks will be performed on the text data: standardizing case and tokenizing."
   ]
  },
  {
   "cell_type": "markdown",
   "id": "61f7b24a",
   "metadata": {},
   "source": [
    "## 5. Modeling"
   ]
  },
  {
   "cell_type": "markdown",
   "id": "3e686b3c",
   "metadata": {},
   "source": [
    "*what modeling package(s) did you use, which model(s) within the package(s), and what tuning steps did you take?*\n",
    "* For some projects there may be only one applicable package; you should still briefly explain why this was the appropriate choice"
   ]
  },
  {
   "cell_type": "markdown",
   "id": "9564c01a",
   "metadata": {},
   "source": [
    "Text Text Text Text Text Text "
   ]
  },
  {
   "cell_type": "markdown",
   "id": "1d96e24d",
   "metadata": {},
   "source": [
    "Text Text Text Text Text Text "
   ]
  },
  {
   "cell_type": "markdown",
   "id": "48489914",
   "metadata": {},
   "source": [
    "## 6. Evaluation"
   ]
  },
  {
   "cell_type": "markdown",
   "id": "f5931c29",
   "metadata": {},
   "source": [
    "*how well did your final model perform?*\n",
    "* Include one or more relevant metrics\n",
    " \n",
    "* Be sure to briefly describe your validation approach"
   ]
  },
  {
   "cell_type": "markdown",
   "id": "570161ef",
   "metadata": {},
   "source": [
    "Text Text Text Text Text Text "
   ]
  },
  {
   "cell_type": "markdown",
   "id": "923d025f",
   "metadata": {},
   "source": [
    "Text Text Text Text Text Text "
   ]
  },
  {
   "cell_type": "markdown",
   "id": "60006f49",
   "metadata": {},
   "source": [
    "## 7. Findings & Recommendations"
   ]
  },
  {
   "cell_type": "markdown",
   "id": "9b153038",
   "metadata": {},
   "source": [
    "Text Text Text Text Text Text "
   ]
  },
  {
   "cell_type": "markdown",
   "id": "1a7bb239",
   "metadata": {},
   "source": [
    "Text Text Text Text Text Text "
   ]
  },
  {
   "cell_type": "markdown",
   "id": "502ade41",
   "metadata": {},
   "source": [
    "## 8. Limits & Next Steps"
   ]
  },
  {
   "cell_type": "markdown",
   "id": "ab8065e3",
   "metadata": {},
   "source": [
    "Text Text Text Text Text Text "
   ]
  },
  {
   "cell_type": "markdown",
   "id": "9cfb2dd8",
   "metadata": {},
   "source": [
    "Text Text Text Text Text Text "
   ]
  },
  {
   "cell_type": "code",
   "execution_count": null,
   "id": "ba4f8a26",
   "metadata": {},
   "outputs": [],
   "source": []
  }
 ],
 "metadata": {
  "kernelspec": {
   "display_name": "Python 3 (ipykernel)",
   "language": "python",
   "name": "python3"
  },
  "language_info": {
   "codemirror_mode": {
    "name": "ipython",
    "version": 3
   },
   "file_extension": ".py",
   "mimetype": "text/x-python",
   "name": "python",
   "nbconvert_exporter": "python",
   "pygments_lexer": "ipython3",
   "version": "3.11.3"
  }
 },
 "nbformat": 4,
 "nbformat_minor": 5
}
