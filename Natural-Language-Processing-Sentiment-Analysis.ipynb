{
 "cells": [
  {
   "cell_type": "markdown",
   "id": "e9d4037f",
   "metadata": {},
   "source": [
    "# Natural Language Processing: Sentiment Analysis"
   ]
  },
  {
   "cell_type": "markdown",
   "id": "182a2e48",
   "metadata": {},
   "source": [
    "**Author**: Albane Colmenares <br>\n",
    "**Date**: December 12th, 2023 <br>\n",
    "___________________________________________________________________________"
   ]
  },
  {
   "cell_type": "markdown",
   "id": "90e25ce2",
   "metadata": {},
   "source": [
    "### <u>Table of Content</u>\n",
    "**1. Overview**<br>\n",
    "**2. Business Understanding**<br>\n",
    "**3. Data Understanding**<br>\n",
    "**4. Data Preparation**<br>\n",
    "**5. Modeling**<br>\n",
    "**6. Evaluation**<br>\n",
    "**7. Findings & Recommendations**<br>\n",
    "**8. Limits & Next Steps**<br>"
   ]
  },
  {
   "cell_type": "markdown",
   "id": "2d7bc745",
   "metadata": {},
   "source": [
    "## 1. Overview"
   ]
  },
  {
   "cell_type": "markdown",
   "id": "4a88bbf7",
   "metadata": {},
   "source": [
    "This notebook examines tweets about several brands and products and predicts whether the sentiment of the short text is positive, negative or neutral. <br>\n",
    "The organization of this notebook follows the CRoss Industry Standard Process for Data Mining (CRISP-DM) is a process model that serves as the base for a data science process."
   ]
  },
  {
   "cell_type": "markdown",
   "id": "eff9197d",
   "metadata": {},
   "source": [
    "Text Text Text Text Text Text "
   ]
  },
  {
   "cell_type": "markdown",
   "id": "9cc41608",
   "metadata": {},
   "source": [
    "## 2. Business Understanding"
   ]
  },
  {
   "cell_type": "markdown",
   "id": "acc5355c",
   "metadata": {},
   "source": [
    "Business and data understanding: *what kind of data are you using, and what makes it well-suited for the business problem?*\n",
    "* You do not need to include any data visualizations in your summary, but consider including relevant descriptive statistics"
   ]
  },
  {
   "cell_type": "markdown",
   "id": "cc38a169",
   "metadata": {},
   "source": [
    "Text Text Text Text Text Text "
   ]
  },
  {
   "cell_type": "markdown",
   "id": "0868d126",
   "metadata": {},
   "source": [
    "Text Text Text Text Text Text "
   ]
  },
  {
   "cell_type": "markdown",
   "id": "4cf0faaa",
   "metadata": {},
   "source": [
    "## 3. Data Understanding"
   ]
  },
  {
   "cell_type": "markdown",
   "id": "cc8bc5af",
   "metadata": {},
   "source": [
    "**Data Source**"
   ]
  },
  {
   "cell_type": "markdown",
   "id": "388e4ef7",
   "metadata": {},
   "source": [
    "The data comes from CrowdFlower via [data.world](https://data.world/crowdflower/brands-and-product-emotions). \n",
    "\n",
    "\n",
    "------------- REPHRASE THIS ------------- \n",
    "\n",
    "*Human raters rated the sentiment in over 9,000 Tweets as positive, negative, or neither.*\n",
    "\n",
    "------------- REPHRASE THIS ------------- \n",
    "\n",
    "The file `judge-1377884607_tweet_product_company.csv` can be downloaded at the provided link. \n",
    "It was then renamed to `tweet_product_company.csv`and saved into the current folder, within the 'data' subfolder, to be accessed into the raw DataFrame. \n"
   ]
  },
  {
   "cell_type": "markdown",
   "id": "ae56079d",
   "metadata": {},
   "source": [
    "Text Text Text Text Text Text "
   ]
  },
  {
   "cell_type": "markdown",
   "id": "6e546fea",
   "metadata": {},
   "source": [
    "**Features**"
   ]
  },
  {
   "cell_type": "markdown",
   "id": "2e8e3b22",
   "metadata": {},
   "source": [
    "Prior to preprocessing, the columns are: \n",
    "\n",
    "* `tweet_text`: the actual tweet's record\n",
    "* `emotion_in_tweet_is_directed_at`: the product or company referred to in the tweet\n",
    "* `is_there_an_emotion_directed_at_a_brand_or_product`: the tweet's sentiment"
   ]
  },
  {
   "cell_type": "markdown",
   "id": "cb7a7f11",
   "metadata": {},
   "source": [
    "Text Text Text Text Text Text "
   ]
  },
  {
   "cell_type": "markdown",
   "id": "4402a218",
   "metadata": {},
   "source": [
    "**Target**"
   ]
  },
  {
   "cell_type": "markdown",
   "id": "c0413b34",
   "metadata": {},
   "source": [
    "The tweet's sentiment is the target for the dataset. The specific column is `is_there_an_emotion_directed_at_a_brand_or_product`. Based on a given set of tweets, we will try to predict if the tweet's emotion was positive, negative or neutral. "
   ]
  },
  {
   "cell_type": "markdown",
   "id": "51c7405f",
   "metadata": {},
   "source": [
    "**Loading the data**"
   ]
  },
  {
   "cell_type": "code",
   "execution_count": 1,
   "id": "e87b4e30",
   "metadata": {},
   "outputs": [],
   "source": [
    "# Importing the necessary packages\n",
    "import pandas as pd\n",
    "import numpy as np\n",
    "import matplotlib.pyplot as plt \n",
    "import matplotlib.ticker as ticker\n",
    "import seaborn as sns\n",
    "import warnings\n",
    "from sklearn.model_selection import train_test_split\n",
    "import nltk\n",
    "\n",
    "%matplotlib inline"
   ]
  },
  {
   "cell_type": "code",
   "execution_count": null,
   "id": "ddb1f915",
   "metadata": {},
   "outputs": [],
   "source": []
  },
  {
   "cell_type": "markdown",
   "id": "b79d550d",
   "metadata": {},
   "source": [
    "The text file is encoded using Latin-1 encoding - and is open as is. Several encodings were tried to ensure the right one matched: utf-8, utf-16, ascii for example."
   ]
  },
  {
   "cell_type": "code",
   "execution_count": 2,
   "id": "fa3fa494",
   "metadata": {},
   "outputs": [],
   "source": [
    "# Loading dataset and saving it as raw_df\n",
    "raw_df = pd.read_csv('data/tweet_product_company.csv', encoding='latin-1')"
   ]
  },
  {
   "cell_type": "code",
   "execution_count": 3,
   "id": "d847e810",
   "metadata": {
    "scrolled": false
   },
   "outputs": [
    {
     "data": {
      "text/html": [
       "<div>\n",
       "<style scoped>\n",
       "    .dataframe tbody tr th:only-of-type {\n",
       "        vertical-align: middle;\n",
       "    }\n",
       "\n",
       "    .dataframe tbody tr th {\n",
       "        vertical-align: top;\n",
       "    }\n",
       "\n",
       "    .dataframe thead th {\n",
       "        text-align: right;\n",
       "    }\n",
       "</style>\n",
       "<table border=\"1\" class=\"dataframe\">\n",
       "  <thead>\n",
       "    <tr style=\"text-align: right;\">\n",
       "      <th></th>\n",
       "      <th>tweet_text</th>\n",
       "      <th>emotion_in_tweet_is_directed_at</th>\n",
       "      <th>is_there_an_emotion_directed_at_a_brand_or_product</th>\n",
       "    </tr>\n",
       "  </thead>\n",
       "  <tbody>\n",
       "    <tr>\n",
       "      <th>0</th>\n",
       "      <td>.@wesley83 I have a 3G iPhone. After 3 hrs twe...</td>\n",
       "      <td>iPhone</td>\n",
       "      <td>Negative emotion</td>\n",
       "    </tr>\n",
       "    <tr>\n",
       "      <th>1</th>\n",
       "      <td>@jessedee Know about @fludapp ? Awesome iPad/i...</td>\n",
       "      <td>iPad or iPhone App</td>\n",
       "      <td>Positive emotion</td>\n",
       "    </tr>\n",
       "    <tr>\n",
       "      <th>2</th>\n",
       "      <td>@swonderlin Can not wait for #iPad 2 also. The...</td>\n",
       "      <td>iPad</td>\n",
       "      <td>Positive emotion</td>\n",
       "    </tr>\n",
       "    <tr>\n",
       "      <th>3</th>\n",
       "      <td>@sxsw I hope this year's festival isn't as cra...</td>\n",
       "      <td>iPad or iPhone App</td>\n",
       "      <td>Negative emotion</td>\n",
       "    </tr>\n",
       "    <tr>\n",
       "      <th>4</th>\n",
       "      <td>@sxtxstate great stuff on Fri #SXSW: Marissa M...</td>\n",
       "      <td>Google</td>\n",
       "      <td>Positive emotion</td>\n",
       "    </tr>\n",
       "  </tbody>\n",
       "</table>\n",
       "</div>"
      ],
      "text/plain": [
       "                                          tweet_text  \\\n",
       "0  .@wesley83 I have a 3G iPhone. After 3 hrs twe...   \n",
       "1  @jessedee Know about @fludapp ? Awesome iPad/i...   \n",
       "2  @swonderlin Can not wait for #iPad 2 also. The...   \n",
       "3  @sxsw I hope this year's festival isn't as cra...   \n",
       "4  @sxtxstate great stuff on Fri #SXSW: Marissa M...   \n",
       "\n",
       "  emotion_in_tweet_is_directed_at  \\\n",
       "0                          iPhone   \n",
       "1              iPad or iPhone App   \n",
       "2                            iPad   \n",
       "3              iPad or iPhone App   \n",
       "4                          Google   \n",
       "\n",
       "  is_there_an_emotion_directed_at_a_brand_or_product  \n",
       "0                                   Negative emotion  \n",
       "1                                   Positive emotion  \n",
       "2                                   Positive emotion  \n",
       "3                                   Negative emotion  \n",
       "4                                   Positive emotion  "
      ]
     },
     "execution_count": 3,
     "metadata": {},
     "output_type": "execute_result"
    }
   ],
   "source": [
    "# Inspecting the first 5 rows of the DataFrame\n",
    "raw_df.head()"
   ]
  },
  {
   "cell_type": "code",
   "execution_count": 4,
   "id": "1b15678f",
   "metadata": {},
   "outputs": [
    {
     "name": "stdout",
     "output_type": "stream",
     "text": [
      "The dataset has 9093 rows and 3 columns.\n"
     ]
    }
   ],
   "source": [
    "print(f'The dataset has '+ str(len(raw_df)) + ' rows and 3 columns.' )"
   ]
  },
  {
   "cell_type": "markdown",
   "id": "12216ee6",
   "metadata": {},
   "source": [
    "The various companies and products referred to in the tweets will be reviewed to get an understand of the balance in the dataset, along with what is being most often reviewed.  \n",
    "\n",
    "Similarly, the emotions will be reviewed in a similar way. "
   ]
  },
  {
   "cell_type": "code",
   "execution_count": 5,
   "id": "98f4e4c8",
   "metadata": {
    "scrolled": true
   },
   "outputs": [
    {
     "data": {
      "text/plain": [
       "iPad                               946\n",
       "Apple                              661\n",
       "iPad or iPhone App                 470\n",
       "Google                             430\n",
       "iPhone                             297\n",
       "Other Google product or service    293\n",
       "Android App                         81\n",
       "Android                             78\n",
       "Other Apple product or service      35\n",
       "Name: emotion_in_tweet_is_directed_at, dtype: int64"
      ]
     },
     "execution_count": 5,
     "metadata": {},
     "output_type": "execute_result"
    }
   ],
   "source": [
    "# Inspecting the number of tweets referring to each product or company\n",
    "raw_df['emotion_in_tweet_is_directed_at'].value_counts()"
   ]
  },
  {
   "cell_type": "code",
   "execution_count": 6,
   "id": "eafe7717",
   "metadata": {
    "scrolled": true
   },
   "outputs": [
    {
     "data": {
      "text/plain": [
       "No emotion toward brand or product    5389\n",
       "Positive emotion                      2978\n",
       "Negative emotion                       570\n",
       "I can't tell                           156\n",
       "Name: is_there_an_emotion_directed_at_a_brand_or_product, dtype: int64"
      ]
     },
     "execution_count": 6,
     "metadata": {},
     "output_type": "execute_result"
    }
   ],
   "source": [
    "# Inspecting the number of tweets referring to each emotion\n",
    "raw_df['is_there_an_emotion_directed_at_a_brand_or_product'].value_counts()"
   ]
  },
  {
   "cell_type": "markdown",
   "id": "12fbb6ec",
   "metadata": {},
   "source": [
    "## 4. Data Preparation"
   ]
  },
  {
   "cell_type": "markdown",
   "id": "be807149",
   "metadata": {},
   "source": [
    "This includes data cleaning and exploratory data analysis with `nltk`\n",
    "\n",
    "\n",
    "more text <br>\n",
    "more text <br>\n",
    "more text <br>\n",
    "more text <br>\n",
    "more text <br>\n",
    "more text <br>\n"
   ]
  },
  {
   "cell_type": "markdown",
   "id": "42e4da52",
   "metadata": {},
   "source": [
    "*why did you choose the data preparation steps that you did, and what was the result?*\n",
    "\n",
    "* This should be specific to the kind of data you are working with. For example, if you are doing an NLP project, what did you decide to do with stopwords?\n",
    "* Be sure to list the packages/libraries used to prepare the data, and why\n"
   ]
  },
  {
   "cell_type": "markdown",
   "id": "3b4b857f",
   "metadata": {},
   "source": [
    "For a better readability of the tweets' texts, the column width will be increased. In addition, the use of MathJax will be disabled so that the visual representation of mathematical expressions are not displayed so this doesn't cause issues to the environment. "
   ]
  },
  {
   "cell_type": "code",
   "execution_count": 7,
   "id": "8683a478",
   "metadata": {},
   "outputs": [],
   "source": [
    "# Increasing column width\n",
    "pd.set_option('max_colwidth', 400)\n",
    "pd.set_option('use_mathjax', False)"
   ]
  },
  {
   "cell_type": "markdown",
   "id": "1784b844",
   "metadata": {},
   "source": [
    "### 4. a) Column names' change"
   ]
  },
  {
   "cell_type": "markdown",
   "id": "f3497778",
   "metadata": {},
   "source": [
    "The column names are particularly long. For an easier process to handle, they will be renamed in the new DataFrame called `df`:\n",
    "* `tweet`\n",
    "* `product_or_company`\n",
    "* `sentiment`\n"
   ]
  },
  {
   "cell_type": "code",
   "execution_count": 8,
   "id": "10ce7e2c",
   "metadata": {},
   "outputs": [],
   "source": [
    "# Making a copy of the raw DataFrame to modify it\n",
    "df = raw_df.copy()"
   ]
  },
  {
   "cell_type": "code",
   "execution_count": 9,
   "id": "4c34b4ee",
   "metadata": {},
   "outputs": [],
   "source": [
    "# Defining the new columns' names and attributing them to the new DataFrame\n",
    "df.columns = ['tweet', 'product_or_company', 'sentiment']"
   ]
  },
  {
   "cell_type": "code",
   "execution_count": 10,
   "id": "deac7e5e",
   "metadata": {
    "scrolled": true
   },
   "outputs": [
    {
     "data": {
      "text/html": [
       "<div>\n",
       "<style scoped>\n",
       "    .dataframe tbody tr th:only-of-type {\n",
       "        vertical-align: middle;\n",
       "    }\n",
       "\n",
       "    .dataframe tbody tr th {\n",
       "        vertical-align: top;\n",
       "    }\n",
       "\n",
       "    .dataframe thead th {\n",
       "        text-align: right;\n",
       "    }\n",
       "</style>\n",
       "<table border=\"1\" class=\"dataframe tex2jax_ignore\">\n",
       "  <thead>\n",
       "    <tr style=\"text-align: right;\">\n",
       "      <th></th>\n",
       "      <th>tweet</th>\n",
       "      <th>product_or_company</th>\n",
       "      <th>sentiment</th>\n",
       "    </tr>\n",
       "  </thead>\n",
       "  <tbody>\n",
       "    <tr>\n",
       "      <th>0</th>\n",
       "      <td>.@wesley83 I have a 3G iPhone. After 3 hrs tweeting at #RISE_Austin, it was dead!  I need to upgrade. Plugin stations at #SXSW.</td>\n",
       "      <td>iPhone</td>\n",
       "      <td>Negative emotion</td>\n",
       "    </tr>\n",
       "    <tr>\n",
       "      <th>1</th>\n",
       "      <td>@jessedee Know about @fludapp ? Awesome iPad/iPhone app that you'll likely appreciate for its design. Also, they're giving free Ts at #SXSW</td>\n",
       "      <td>iPad or iPhone App</td>\n",
       "      <td>Positive emotion</td>\n",
       "    </tr>\n",
       "    <tr>\n",
       "      <th>2</th>\n",
       "      <td>@swonderlin Can not wait for #iPad 2 also. They should sale them down at #SXSW.</td>\n",
       "      <td>iPad</td>\n",
       "      <td>Positive emotion</td>\n",
       "    </tr>\n",
       "    <tr>\n",
       "      <th>3</th>\n",
       "      <td>@sxsw I hope this year's festival isn't as crashy as this year's iPhone app. #sxsw</td>\n",
       "      <td>iPad or iPhone App</td>\n",
       "      <td>Negative emotion</td>\n",
       "    </tr>\n",
       "    <tr>\n",
       "      <th>4</th>\n",
       "      <td>@sxtxstate great stuff on Fri #SXSW: Marissa Mayer (Google), Tim O'Reilly (tech books/conferences) &amp;amp; Matt Mullenweg (Wordpress)</td>\n",
       "      <td>Google</td>\n",
       "      <td>Positive emotion</td>\n",
       "    </tr>\n",
       "  </tbody>\n",
       "</table>\n",
       "</div>"
      ],
      "text/plain": [
       "                                                                                                                                         tweet  \\\n",
       "0              .@wesley83 I have a 3G iPhone. After 3 hrs tweeting at #RISE_Austin, it was dead!  I need to upgrade. Plugin stations at #SXSW.   \n",
       "1  @jessedee Know about @fludapp ? Awesome iPad/iPhone app that you'll likely appreciate for its design. Also, they're giving free Ts at #SXSW   \n",
       "2                                                              @swonderlin Can not wait for #iPad 2 also. They should sale them down at #SXSW.   \n",
       "3                                                           @sxsw I hope this year's festival isn't as crashy as this year's iPhone app. #sxsw   \n",
       "4          @sxtxstate great stuff on Fri #SXSW: Marissa Mayer (Google), Tim O'Reilly (tech books/conferences) &amp; Matt Mullenweg (Wordpress)   \n",
       "\n",
       "   product_or_company         sentiment  \n",
       "0              iPhone  Negative emotion  \n",
       "1  iPad or iPhone App  Positive emotion  \n",
       "2                iPad  Positive emotion  \n",
       "3  iPad or iPhone App  Negative emotion  \n",
       "4              Google  Positive emotion  "
      ]
     },
     "execution_count": 10,
     "metadata": {},
     "output_type": "execute_result"
    }
   ],
   "source": [
    "# Verifying the changes applied  \n",
    "df.head()"
   ]
  },
  {
   "cell_type": "code",
   "execution_count": null,
   "id": "8ba6bf6b",
   "metadata": {},
   "outputs": [],
   "source": []
  },
  {
   "cell_type": "code",
   "execution_count": null,
   "id": "55e4af38",
   "metadata": {},
   "outputs": [],
   "source": []
  },
  {
   "cell_type": "markdown",
   "id": "4c4d20cc",
   "metadata": {},
   "source": [
    "### 4. c) Missing data"
   ]
  },
  {
   "cell_type": "markdown",
   "id": "5a7c57da",
   "metadata": {},
   "source": [
    "In the next section, the missing values are inspected and handled by category. \n",
    "<br>\n",
    "The `tweet` column only had 1 row with null values and had no implication on other features: it is removed. \n",
    "<br>\n",
    "The `product_or_company` requires contains many more missing values. "
   ]
  },
  {
   "cell_type": "code",
   "execution_count": 11,
   "id": "c4490695",
   "metadata": {
    "scrolled": true
   },
   "outputs": [
    {
     "name": "stdout",
     "output_type": "stream",
     "text": [
      "<class 'pandas.core.frame.DataFrame'>\n",
      "RangeIndex: 9093 entries, 0 to 9092\n",
      "Data columns (total 3 columns):\n",
      " #   Column              Non-Null Count  Dtype \n",
      "---  ------              --------------  ----- \n",
      " 0   tweet               9092 non-null   object\n",
      " 1   product_or_company  3291 non-null   object\n",
      " 2   sentiment           9093 non-null   object\n",
      "dtypes: object(3)\n",
      "memory usage: 213.2+ KB\n"
     ]
    }
   ],
   "source": [
    "# Looking for missing values\n",
    "df.info()"
   ]
  },
  {
   "cell_type": "markdown",
   "id": "3897d890",
   "metadata": {},
   "source": [
    "* **Tweet**"
   ]
  },
  {
   "cell_type": "markdown",
   "id": "d1008ea2",
   "metadata": {},
   "source": [
    "The tweet column only has one null value with no information on the other columns: it will be dropped from the DataFrame.  "
   ]
  },
  {
   "cell_type": "code",
   "execution_count": 12,
   "id": "2dbe1f98",
   "metadata": {
    "scrolled": true
   },
   "outputs": [
    {
     "data": {
      "text/html": [
       "<div>\n",
       "<style scoped>\n",
       "    .dataframe tbody tr th:only-of-type {\n",
       "        vertical-align: middle;\n",
       "    }\n",
       "\n",
       "    .dataframe tbody tr th {\n",
       "        vertical-align: top;\n",
       "    }\n",
       "\n",
       "    .dataframe thead th {\n",
       "        text-align: right;\n",
       "    }\n",
       "</style>\n",
       "<table border=\"1\" class=\"dataframe tex2jax_ignore\">\n",
       "  <thead>\n",
       "    <tr style=\"text-align: right;\">\n",
       "      <th></th>\n",
       "      <th>tweet</th>\n",
       "      <th>product_or_company</th>\n",
       "      <th>sentiment</th>\n",
       "    </tr>\n",
       "  </thead>\n",
       "  <tbody>\n",
       "    <tr>\n",
       "      <th>6</th>\n",
       "      <td>NaN</td>\n",
       "      <td>NaN</td>\n",
       "      <td>No emotion toward brand or product</td>\n",
       "    </tr>\n",
       "  </tbody>\n",
       "</table>\n",
       "</div>"
      ],
      "text/plain": [
       "  tweet product_or_company                           sentiment\n",
       "6   NaN                NaN  No emotion toward brand or product"
      ]
     },
     "execution_count": 12,
     "metadata": {},
     "output_type": "execute_result"
    }
   ],
   "source": [
    "# Inspecting the tweet containing null information \n",
    "df[df['tweet'].isnull()]"
   ]
  },
  {
   "cell_type": "markdown",
   "id": "88c51618",
   "metadata": {},
   "source": [
    "The null tweet does not contain any information for either column and will be dropped.  "
   ]
  },
  {
   "cell_type": "code",
   "execution_count": 13,
   "id": "40be3a23",
   "metadata": {},
   "outputs": [],
   "source": [
    "# Dropping the null tweet from the DataFrame\n",
    "\n",
    "df = df.dropna(subset=['tweet'])"
   ]
  },
  {
   "cell_type": "code",
   "execution_count": 14,
   "id": "0c1401ac",
   "metadata": {
    "scrolled": true
   },
   "outputs": [
    {
     "name": "stdout",
     "output_type": "stream",
     "text": [
      "<class 'pandas.core.frame.DataFrame'>\n",
      "Int64Index: 9092 entries, 0 to 9092\n",
      "Data columns (total 3 columns):\n",
      " #   Column              Non-Null Count  Dtype \n",
      "---  ------              --------------  ----- \n",
      " 0   tweet               9092 non-null   object\n",
      " 1   product_or_company  3291 non-null   object\n",
      " 2   sentiment           9092 non-null   object\n",
      "dtypes: object(3)\n",
      "memory usage: 284.1+ KB\n"
     ]
    }
   ],
   "source": [
    "# Verifying it was correctly removed\n",
    "df.info()"
   ]
  },
  {
   "cell_type": "code",
   "execution_count": 15,
   "id": "245b70ba",
   "metadata": {
    "scrolled": true
   },
   "outputs": [
    {
     "name": "stdout",
     "output_type": "stream",
     "text": [
      "The dataset now has 9092. The missing tweet was removed.\n"
     ]
    }
   ],
   "source": [
    "print(f'The dataset now has '+ str(len(df)) + '. The missing tweet was removed.' )"
   ]
  },
  {
   "cell_type": "markdown",
   "id": "5e0e13bd",
   "metadata": {},
   "source": [
    "* **Product or Company**"
   ]
  },
  {
   "cell_type": "markdown",
   "id": "8acca6ca",
   "metadata": {},
   "source": [
    "The product_or_company column contains many null values where neither the product or the brand was specified. For now, all null values will be replaced by 'unknown', as the focus is to predict sentiment. \n",
    "<br>If the focus on product or company needs to be done, two columns will be created to identify the product and the brand. "
   ]
  },
  {
   "cell_type": "code",
   "execution_count": 16,
   "id": "a894c971",
   "metadata": {
    "scrolled": false
   },
   "outputs": [
    {
     "data": {
      "text/html": [
       "<div>\n",
       "<style scoped>\n",
       "    .dataframe tbody tr th:only-of-type {\n",
       "        vertical-align: middle;\n",
       "    }\n",
       "\n",
       "    .dataframe tbody tr th {\n",
       "        vertical-align: top;\n",
       "    }\n",
       "\n",
       "    .dataframe thead th {\n",
       "        text-align: right;\n",
       "    }\n",
       "</style>\n",
       "<table border=\"1\" class=\"dataframe tex2jax_ignore\">\n",
       "  <thead>\n",
       "    <tr style=\"text-align: right;\">\n",
       "      <th></th>\n",
       "      <th>tweet</th>\n",
       "      <th>product_or_company</th>\n",
       "      <th>sentiment</th>\n",
       "    </tr>\n",
       "  </thead>\n",
       "  <tbody>\n",
       "    <tr>\n",
       "      <th>5</th>\n",
       "      <td>@teachntech00 New iPad Apps For #SpeechTherapy And Communication Are Showcased At The #SXSW Conference http://ht.ly/49n4M #iear #edchat #asd</td>\n",
       "      <td>NaN</td>\n",
       "      <td>No emotion toward brand or product</td>\n",
       "    </tr>\n",
       "    <tr>\n",
       "      <th>16</th>\n",
       "      <td>Holler Gram for iPad on the iTunes App Store -  http://t.co/kfN3f5Q (via @marc_is_ken) #sxsw</td>\n",
       "      <td>NaN</td>\n",
       "      <td>No emotion toward brand or product</td>\n",
       "    </tr>\n",
       "    <tr>\n",
       "      <th>32</th>\n",
       "      <td>Attn: All  #SXSW frineds, @mention Register for #GDGTLive  and see Cobra iRadar for Android. {link}</td>\n",
       "      <td>NaN</td>\n",
       "      <td>No emotion toward brand or product</td>\n",
       "    </tr>\n",
       "    <tr>\n",
       "      <th>33</th>\n",
       "      <td>Anyone at  #sxsw want to sell their old iPad?</td>\n",
       "      <td>NaN</td>\n",
       "      <td>No emotion toward brand or product</td>\n",
       "    </tr>\n",
       "    <tr>\n",
       "      <th>34</th>\n",
       "      <td>Anyone at  #SXSW who bought the new iPad want to sell their older iPad to me?</td>\n",
       "      <td>NaN</td>\n",
       "      <td>No emotion toward brand or product</td>\n",
       "    </tr>\n",
       "    <tr>\n",
       "      <th>...</th>\n",
       "      <td>...</td>\n",
       "      <td>...</td>\n",
       "      <td>...</td>\n",
       "    </tr>\n",
       "    <tr>\n",
       "      <th>9087</th>\n",
       "      <td>@mention Yup, but I don't have a third app yet. I'm on Android, any suggestions? #SXSW CC: @mention</td>\n",
       "      <td>NaN</td>\n",
       "      <td>No emotion toward brand or product</td>\n",
       "    </tr>\n",
       "    <tr>\n",
       "      <th>9089</th>\n",
       "      <td>Wave, buzz... RT @mention We interrupt your regularly scheduled #sxsw geek programming with big news {link}  #google #circles</td>\n",
       "      <td>NaN</td>\n",
       "      <td>No emotion toward brand or product</td>\n",
       "    </tr>\n",
       "    <tr>\n",
       "      <th>9090</th>\n",
       "      <td>Google's Zeiger, a physician never reported potential AE. Yet FDA relies on physicians. &amp;quot;We're operating w/out data.&amp;quot; #sxsw #health2dev</td>\n",
       "      <td>NaN</td>\n",
       "      <td>No emotion toward brand or product</td>\n",
       "    </tr>\n",
       "    <tr>\n",
       "      <th>9091</th>\n",
       "      <td>Some Verizon iPhone customers complained their time fell back an hour this weekend.  Of course they were the New Yorkers who attended #SXSW.</td>\n",
       "      <td>NaN</td>\n",
       "      <td>No emotion toward brand or product</td>\n",
       "    </tr>\n",
       "    <tr>\n",
       "      <th>9092</th>\n",
       "      <td>Ï¡Ïàü_ÊÎÒ£Áââ_£â_ÛâRT @mention Google Tests ÛÏCheck-in OffersÛ At #SXSW {link}</td>\n",
       "      <td>NaN</td>\n",
       "      <td>No emotion toward brand or product</td>\n",
       "    </tr>\n",
       "  </tbody>\n",
       "</table>\n",
       "<p>5801 rows × 3 columns</p>\n",
       "</div>"
      ],
      "text/plain": [
       "                                                                                                                                                  tweet  \\\n",
       "5          @teachntech00 New iPad Apps For #SpeechTherapy And Communication Are Showcased At The #SXSW Conference http://ht.ly/49n4M #iear #edchat #asd   \n",
       "16                                                         Holler Gram for iPad on the iTunes App Store -  http://t.co/kfN3f5Q (via @marc_is_ken) #sxsw   \n",
       "32                                                  Attn: All  #SXSW frineds, @mention Register for #GDGTLive  and see Cobra iRadar for Android. {link}   \n",
       "33                                                                                                        Anyone at  #sxsw want to sell their old iPad?   \n",
       "34                                                                        Anyone at  #SXSW who bought the new iPad want to sell their older iPad to me?   \n",
       "...                                                                                                                                                 ...   \n",
       "9087                                                @mention Yup, but I don't have a third app yet. I'm on Android, any suggestions? #SXSW CC: @mention   \n",
       "9089                      Wave, buzz... RT @mention We interrupt your regularly scheduled #sxsw geek programming with big news {link}  #google #circles   \n",
       "9090  Google's Zeiger, a physician never reported potential AE. Yet FDA relies on physicians. &quot;We're operating w/out data.&quot; #sxsw #health2dev   \n",
       "9091       Some Verizon iPhone customers complained their time fell back an hour this weekend.  Of course they were the New Yorkers who attended #SXSW.   \n",
       "9092                                           Ï¡Ïàü_ÊÎÒ£Áââ_£â_ÛâRT @mention Google Tests ÛÏCheck-in OffersÛ At #SXSW {link}   \n",
       "\n",
       "     product_or_company                           sentiment  \n",
       "5                   NaN  No emotion toward brand or product  \n",
       "16                  NaN  No emotion toward brand or product  \n",
       "32                  NaN  No emotion toward brand or product  \n",
       "33                  NaN  No emotion toward brand or product  \n",
       "34                  NaN  No emotion toward brand or product  \n",
       "...                 ...                                 ...  \n",
       "9087                NaN  No emotion toward brand or product  \n",
       "9089                NaN  No emotion toward brand or product  \n",
       "9090                NaN  No emotion toward brand or product  \n",
       "9091                NaN  No emotion toward brand or product  \n",
       "9092                NaN  No emotion toward brand or product  \n",
       "\n",
       "[5801 rows x 3 columns]"
      ]
     },
     "execution_count": 16,
     "metadata": {},
     "output_type": "execute_result"
    }
   ],
   "source": [
    "# Inspecting the tweet containing null information \n",
    "df[df['product_or_company'].isnull()]"
   ]
  },
  {
   "cell_type": "code",
   "execution_count": 17,
   "id": "a9ec8d56",
   "metadata": {},
   "outputs": [],
   "source": [
    "# Replacing the null product or company with 'undefined'\n",
    "df['product_or_company'] = df['product_or_company'].fillna('undefined')"
   ]
  },
  {
   "cell_type": "code",
   "execution_count": 18,
   "id": "7222f880",
   "metadata": {
    "scrolled": true
   },
   "outputs": [
    {
     "name": "stdout",
     "output_type": "stream",
     "text": [
      "<class 'pandas.core.frame.DataFrame'>\n",
      "Int64Index: 9092 entries, 0 to 9092\n",
      "Data columns (total 3 columns):\n",
      " #   Column              Non-Null Count  Dtype \n",
      "---  ------              --------------  ----- \n",
      " 0   tweet               9092 non-null   object\n",
      " 1   product_or_company  9092 non-null   object\n",
      " 2   sentiment           9092 non-null   object\n",
      "dtypes: object(3)\n",
      "memory usage: 284.1+ KB\n"
     ]
    }
   ],
   "source": [
    "# Verifying it was correctly handled\n",
    "df.info()"
   ]
  },
  {
   "cell_type": "code",
   "execution_count": 19,
   "id": "e47ec998",
   "metadata": {
    "scrolled": true
   },
   "outputs": [
    {
     "name": "stdout",
     "output_type": "stream",
     "text": [
      "The dataset still has 9092.\n"
     ]
    }
   ],
   "source": [
    "print(f'The dataset still has '+ str(len(df)) + '.' )"
   ]
  },
  {
   "cell_type": "code",
   "execution_count": 20,
   "id": "2ed26587",
   "metadata": {
    "scrolled": true
   },
   "outputs": [
    {
     "data": {
      "text/plain": [
       "undefined                          5801\n",
       "iPad                                946\n",
       "Apple                               661\n",
       "iPad or iPhone App                  470\n",
       "Google                              430\n",
       "iPhone                              297\n",
       "Other Google product or service     293\n",
       "Android App                          81\n",
       "Android                              78\n",
       "Other Apple product or service       35\n",
       "Name: product_or_company, dtype: int64"
      ]
     },
     "execution_count": 20,
     "metadata": {},
     "output_type": "execute_result"
    }
   ],
   "source": [
    "# Verifying the count of rows by unique value in this column\n",
    "df['product_or_company'].value_counts()"
   ]
  },
  {
   "cell_type": "code",
   "execution_count": 21,
   "id": "c288a677",
   "metadata": {
    "scrolled": true
   },
   "outputs": [
    {
     "data": {
      "text/plain": [
       "undefined                          0.638033\n",
       "iPad                               0.104048\n",
       "Apple                              0.072701\n",
       "iPad or iPhone App                 0.051694\n",
       "Google                             0.047294\n",
       "iPhone                             0.032666\n",
       "Other Google product or service    0.032226\n",
       "Android App                        0.008909\n",
       "Android                            0.008579\n",
       "Other Apple product or service     0.003850\n",
       "Name: product_or_company, dtype: float64"
      ]
     },
     "execution_count": 21,
     "metadata": {},
     "output_type": "execute_result"
    }
   ],
   "source": [
    "# Verifying the count of rows by unique value in this column\n",
    "df['product_or_company'].value_counts(normalize=True)"
   ]
  },
  {
   "cell_type": "markdown",
   "id": "c0cfb9ad",
   "metadata": {},
   "source": [
    "### 4. d) Handling duplicates"
   ]
  },
  {
   "cell_type": "code",
   "execution_count": 22,
   "id": "a575b2ab",
   "metadata": {},
   "outputs": [
    {
     "name": "stdout",
     "output_type": "stream",
     "text": [
      "22 duplicate rows were identified.\n"
     ]
    }
   ],
   "source": [
    "# How many rows were duplicates\n",
    "print(str(len(df[df.duplicated()])) + f' duplicate rows were identified.')"
   ]
  },
  {
   "cell_type": "code",
   "execution_count": 23,
   "id": "d79fdb11",
   "metadata": {},
   "outputs": [
    {
     "data": {
      "text/html": [
       "<div>\n",
       "<style scoped>\n",
       "    .dataframe tbody tr th:only-of-type {\n",
       "        vertical-align: middle;\n",
       "    }\n",
       "\n",
       "    .dataframe tbody tr th {\n",
       "        vertical-align: top;\n",
       "    }\n",
       "\n",
       "    .dataframe thead th {\n",
       "        text-align: right;\n",
       "    }\n",
       "</style>\n",
       "<table border=\"1\" class=\"dataframe tex2jax_ignore\">\n",
       "  <thead>\n",
       "    <tr style=\"text-align: right;\">\n",
       "      <th></th>\n",
       "      <th>tweet</th>\n",
       "      <th>product_or_company</th>\n",
       "      <th>sentiment</th>\n",
       "    </tr>\n",
       "  </thead>\n",
       "  <tbody>\n",
       "    <tr>\n",
       "      <th>468</th>\n",
       "      <td>Before It Even Begins, Apple Wins #SXSW {link}</td>\n",
       "      <td>Apple</td>\n",
       "      <td>Positive emotion</td>\n",
       "    </tr>\n",
       "    <tr>\n",
       "      <th>776</th>\n",
       "      <td>Google to Launch Major New Social Network Called Circles, Possibly Today {link} #sxsw</td>\n",
       "      <td>undefined</td>\n",
       "      <td>No emotion toward brand or product</td>\n",
       "    </tr>\n",
       "    <tr>\n",
       "      <th>2232</th>\n",
       "      <td>Marissa Mayer: Google Will Connect the Digital &amp;amp; Physical Worlds Through Mobile - {link} #sxsw</td>\n",
       "      <td>undefined</td>\n",
       "      <td>No emotion toward brand or product</td>\n",
       "    </tr>\n",
       "    <tr>\n",
       "      <th>2559</th>\n",
       "      <td>Counting down the days to #sxsw plus strong Canadian dollar means stock up on Apple gear</td>\n",
       "      <td>Apple</td>\n",
       "      <td>Positive emotion</td>\n",
       "    </tr>\n",
       "    <tr>\n",
       "      <th>3950</th>\n",
       "      <td>Really enjoying the changes in Gowalla 3.0 for Android! Looking forward to seeing what else they &amp;amp; Foursquare have up their sleeves at #SXSW</td>\n",
       "      <td>Android App</td>\n",
       "      <td>Positive emotion</td>\n",
       "    </tr>\n",
       "    <tr>\n",
       "      <th>3962</th>\n",
       "      <td>#SXSW is just starting, #CTIA is around the corner and #googleio is only a hop skip and a jump from there, good time to be an #android fan</td>\n",
       "      <td>Android</td>\n",
       "      <td>Positive emotion</td>\n",
       "    </tr>\n",
       "    <tr>\n",
       "      <th>4897</th>\n",
       "      <td>Oh. My. God. The #SXSW app for iPad is pure, unadulterated awesome. It's easier to browse events on iPad than on the website!!!</td>\n",
       "      <td>iPad or iPhone App</td>\n",
       "      <td>Positive emotion</td>\n",
       "    </tr>\n",
       "    <tr>\n",
       "      <th>5338</th>\n",
       "      <td>RT @mention ÷¼ GO BEYOND BORDERS! ÷_ {link} ã_ #edchat #musedchat #sxsw #sxswi #classical #newTwitter</td>\n",
       "      <td>undefined</td>\n",
       "      <td>No emotion toward brand or product</td>\n",
       "    </tr>\n",
       "    <tr>\n",
       "      <th>5341</th>\n",
       "      <td>RT @mention ÷¼ Happy Woman's Day! Make love, not fuss! ÷_ {link} ã_ #edchat #musedchat #sxsw #sxswi #classical #newTwitter</td>\n",
       "      <td>undefined</td>\n",
       "      <td>No emotion toward brand or product</td>\n",
       "    </tr>\n",
       "    <tr>\n",
       "      <th>5881</th>\n",
       "      <td>RT @mention Google to Launch Major New Social Network Called Circles, Possibly Today {link} #sxsw</td>\n",
       "      <td>undefined</td>\n",
       "      <td>No emotion toward brand or product</td>\n",
       "    </tr>\n",
       "    <tr>\n",
       "      <th>5882</th>\n",
       "      <td>RT @mention Google to Launch Major New Social Network Called Circles, Possibly Today {link} #SXSW</td>\n",
       "      <td>undefined</td>\n",
       "      <td>No emotion toward brand or product</td>\n",
       "    </tr>\n",
       "    <tr>\n",
       "      <th>5883</th>\n",
       "      <td>RT @mention Google to Launch Major New Social Network Called Circles, Possibly Today {link} #sxsw</td>\n",
       "      <td>undefined</td>\n",
       "      <td>No emotion toward brand or product</td>\n",
       "    </tr>\n",
       "    <tr>\n",
       "      <th>5884</th>\n",
       "      <td>RT @mention Google to Launch Major New Social Network Called Circles, Possibly Today {link} #SXSW</td>\n",
       "      <td>undefined</td>\n",
       "      <td>No emotion toward brand or product</td>\n",
       "    </tr>\n",
       "    <tr>\n",
       "      <th>5885</th>\n",
       "      <td>RT @mention Google to Launch Major New Social Network Called Circles, Possibly Today {link} #sxsw</td>\n",
       "      <td>undefined</td>\n",
       "      <td>No emotion toward brand or product</td>\n",
       "    </tr>\n",
       "    <tr>\n",
       "      <th>6296</th>\n",
       "      <td>RT @mention Marissa Mayer: Google Will Connect the Digital &amp;amp; Physical Worlds Through Mobile - {link} #sxsw</td>\n",
       "      <td>Google</td>\n",
       "      <td>Positive emotion</td>\n",
       "    </tr>\n",
       "    <tr>\n",
       "      <th>6297</th>\n",
       "      <td>RT @mention Marissa Mayer: Google Will Connect the Digital &amp;amp; Physical Worlds Through Mobile - {link} #SXSW</td>\n",
       "      <td>undefined</td>\n",
       "      <td>No emotion toward brand or product</td>\n",
       "    </tr>\n",
       "    <tr>\n",
       "      <th>6298</th>\n",
       "      <td>RT @mention Marissa Mayer: Google Will Connect the Digital &amp;amp; Physical Worlds Through Mobile - {link} #sxsw</td>\n",
       "      <td>Google</td>\n",
       "      <td>Positive emotion</td>\n",
       "    </tr>\n",
       "    <tr>\n",
       "      <th>6299</th>\n",
       "      <td>RT @mention Marissa Mayer: Google Will Connect the Digital &amp;amp; Physical Worlds Through Mobile - {link} #SXSW</td>\n",
       "      <td>undefined</td>\n",
       "      <td>No emotion toward brand or product</td>\n",
       "    </tr>\n",
       "    <tr>\n",
       "      <th>6300</th>\n",
       "      <td>RT @mention Marissa Mayer: Google Will Connect the Digital &amp;amp; Physical Worlds Through Mobile - {link} #sxsw</td>\n",
       "      <td>undefined</td>\n",
       "      <td>No emotion toward brand or product</td>\n",
       "    </tr>\n",
       "    <tr>\n",
       "      <th>6546</th>\n",
       "      <td>RT @mention RT @mention Google to Launch Major New Social Network Called Circles, Possibly Today {link} #sxsw</td>\n",
       "      <td>undefined</td>\n",
       "      <td>No emotion toward brand or product</td>\n",
       "    </tr>\n",
       "    <tr>\n",
       "      <th>8483</th>\n",
       "      <td>I just noticed DST is coming this weekend. How many iPhone users will be an hour late at SXSW come Sunday morning? #SXSW #iPhone</td>\n",
       "      <td>iPhone</td>\n",
       "      <td>Negative emotion</td>\n",
       "    </tr>\n",
       "    <tr>\n",
       "      <th>8747</th>\n",
       "      <td>Need to buy an iPad2 while I'm in Austin at #sxsw. Not sure if I'll need to Q up at an Austin Apple store?</td>\n",
       "      <td>iPad</td>\n",
       "      <td>Positive emotion</td>\n",
       "    </tr>\n",
       "  </tbody>\n",
       "</table>\n",
       "</div>"
      ],
      "text/plain": [
       "                                                                                                                                                 tweet  \\\n",
       "468                                                                                                     Before It Even Begins, Apple Wins #SXSW {link}   \n",
       "776                                                              Google to Launch Major New Social Network Called Circles, Possibly Today {link} #sxsw   \n",
       "2232                                                Marissa Mayer: Google Will Connect the Digital &amp; Physical Worlds Through Mobile - {link} #sxsw   \n",
       "2559                                                          Counting down the days to #sxsw plus strong Canadian dollar means stock up on Apple gear   \n",
       "3950  Really enjoying the changes in Gowalla 3.0 for Android! Looking forward to seeing what else they &amp; Foursquare have up their sleeves at #SXSW   \n",
       "3962        #SXSW is just starting, #CTIA is around the corner and #googleio is only a hop skip and a jump from there, good time to be an #android fan   \n",
       "4897                   Oh. My. God. The #SXSW app for iPad is pure, unadulterated awesome. It's easier to browse events on iPad than on the website!!!   \n",
       "5338                                          RT @mention ÷¼ GO BEYOND BORDERS! ÷_ {link} ã_ #edchat #musedchat #sxsw #sxswi #classical #newTwitter   \n",
       "5341                     RT @mention ÷¼ Happy Woman's Day! Make love, not fuss! ÷_ {link} ã_ #edchat #musedchat #sxsw #sxswi #classical #newTwitter   \n",
       "5881                                                 RT @mention Google to Launch Major New Social Network Called Circles, Possibly Today {link} #sxsw   \n",
       "5882                                                 RT @mention Google to Launch Major New Social Network Called Circles, Possibly Today {link} #SXSW   \n",
       "5883                                                 RT @mention Google to Launch Major New Social Network Called Circles, Possibly Today {link} #sxsw   \n",
       "5884                                                 RT @mention Google to Launch Major New Social Network Called Circles, Possibly Today {link} #SXSW   \n",
       "5885                                                 RT @mention Google to Launch Major New Social Network Called Circles, Possibly Today {link} #sxsw   \n",
       "6296                                    RT @mention Marissa Mayer: Google Will Connect the Digital &amp; Physical Worlds Through Mobile - {link} #sxsw   \n",
       "6297                                    RT @mention Marissa Mayer: Google Will Connect the Digital &amp; Physical Worlds Through Mobile - {link} #SXSW   \n",
       "6298                                    RT @mention Marissa Mayer: Google Will Connect the Digital &amp; Physical Worlds Through Mobile - {link} #sxsw   \n",
       "6299                                    RT @mention Marissa Mayer: Google Will Connect the Digital &amp; Physical Worlds Through Mobile - {link} #SXSW   \n",
       "6300                                    RT @mention Marissa Mayer: Google Will Connect the Digital &amp; Physical Worlds Through Mobile - {link} #sxsw   \n",
       "6546                                     RT @mention RT @mention Google to Launch Major New Social Network Called Circles, Possibly Today {link} #sxsw   \n",
       "8483                  I just noticed DST is coming this weekend. How many iPhone users will be an hour late at SXSW come Sunday morning? #SXSW #iPhone   \n",
       "8747                                        Need to buy an iPad2 while I'm in Austin at #sxsw. Not sure if I'll need to Q up at an Austin Apple store?   \n",
       "\n",
       "      product_or_company                           sentiment  \n",
       "468                Apple                    Positive emotion  \n",
       "776            undefined  No emotion toward brand or product  \n",
       "2232           undefined  No emotion toward brand or product  \n",
       "2559               Apple                    Positive emotion  \n",
       "3950         Android App                    Positive emotion  \n",
       "3962             Android                    Positive emotion  \n",
       "4897  iPad or iPhone App                    Positive emotion  \n",
       "5338           undefined  No emotion toward brand or product  \n",
       "5341           undefined  No emotion toward brand or product  \n",
       "5881           undefined  No emotion toward brand or product  \n",
       "5882           undefined  No emotion toward brand or product  \n",
       "5883           undefined  No emotion toward brand or product  \n",
       "5884           undefined  No emotion toward brand or product  \n",
       "5885           undefined  No emotion toward brand or product  \n",
       "6296              Google                    Positive emotion  \n",
       "6297           undefined  No emotion toward brand or product  \n",
       "6298              Google                    Positive emotion  \n",
       "6299           undefined  No emotion toward brand or product  \n",
       "6300           undefined  No emotion toward brand or product  \n",
       "6546           undefined  No emotion toward brand or product  \n",
       "8483              iPhone                    Negative emotion  \n",
       "8747                iPad                    Positive emotion  "
      ]
     },
     "execution_count": 23,
     "metadata": {},
     "output_type": "execute_result"
    }
   ],
   "source": [
    "# Viewing the duplicate rows\n",
    "df[df.duplicated()]"
   ]
  },
  {
   "cell_type": "code",
   "execution_count": 24,
   "id": "26a2e360",
   "metadata": {},
   "outputs": [
    {
     "data": {
      "text/html": [
       "<div>\n",
       "<style scoped>\n",
       "    .dataframe tbody tr th:only-of-type {\n",
       "        vertical-align: middle;\n",
       "    }\n",
       "\n",
       "    .dataframe tbody tr th {\n",
       "        vertical-align: top;\n",
       "    }\n",
       "\n",
       "    .dataframe thead th {\n",
       "        text-align: right;\n",
       "    }\n",
       "</style>\n",
       "<table border=\"1\" class=\"dataframe tex2jax_ignore\">\n",
       "  <thead>\n",
       "    <tr style=\"text-align: right;\">\n",
       "      <th></th>\n",
       "      <th>tweet</th>\n",
       "      <th>product_or_company</th>\n",
       "      <th>sentiment</th>\n",
       "    </tr>\n",
       "  </thead>\n",
       "  <tbody>\n",
       "    <tr>\n",
       "      <th>466</th>\n",
       "      <td>Before It Even Begins, Apple Wins #SXSW {link}</td>\n",
       "      <td>Apple</td>\n",
       "      <td>Positive emotion</td>\n",
       "    </tr>\n",
       "    <tr>\n",
       "      <th>468</th>\n",
       "      <td>Before It Even Begins, Apple Wins #SXSW {link}</td>\n",
       "      <td>Apple</td>\n",
       "      <td>Positive emotion</td>\n",
       "    </tr>\n",
       "  </tbody>\n",
       "</table>\n",
       "</div>"
      ],
      "text/plain": [
       "                                              tweet product_or_company  \\\n",
       "466  Before It Even Begins, Apple Wins #SXSW {link}              Apple   \n",
       "468  Before It Even Begins, Apple Wins #SXSW {link}              Apple   \n",
       "\n",
       "            sentiment  \n",
       "466  Positive emotion  \n",
       "468  Positive emotion  "
      ]
     },
     "execution_count": 24,
     "metadata": {},
     "output_type": "execute_result"
    }
   ],
   "source": [
    "# Verifying with one example that tweets were indeed duplicated \n",
    "df[df['tweet'] == 'Before It Even Begins, Apple Wins #SXSW {link}']"
   ]
  },
  {
   "cell_type": "code",
   "execution_count": 25,
   "id": "47f4815f",
   "metadata": {},
   "outputs": [
    {
     "name": "stdout",
     "output_type": "stream",
     "text": [
      "<class 'pandas.core.frame.DataFrame'>\n",
      "Int64Index: 9070 entries, 0 to 9092\n",
      "Data columns (total 3 columns):\n",
      " #   Column              Non-Null Count  Dtype \n",
      "---  ------              --------------  ----- \n",
      " 0   tweet               9070 non-null   object\n",
      " 1   product_or_company  9070 non-null   object\n",
      " 2   sentiment           9070 non-null   object\n",
      "dtypes: object(3)\n",
      "memory usage: 283.4+ KB\n"
     ]
    }
   ],
   "source": [
    "# Dropping duplicates\n",
    "df.drop_duplicates(inplace=True)\n",
    "df.info()"
   ]
  },
  {
   "cell_type": "markdown",
   "id": "22a598d6",
   "metadata": {},
   "source": [
    "### 4. d) Turning sentiment classification into a binary one"
   ]
  },
  {
   "cell_type": "markdown",
   "id": "5328881f",
   "metadata": {},
   "source": [
    "* **Product or Company**"
   ]
  },
  {
   "cell_type": "markdown",
   "id": "d37b1f74",
   "metadata": {},
   "source": [
    "The product or company column does not have an impact on whether a tweet is positive or negative, so it will not be transformed as it will not be used further for predictions. "
   ]
  },
  {
   "cell_type": "markdown",
   "id": "d70baaac",
   "metadata": {},
   "source": [
    "* **Sentiment**"
   ]
  },
  {
   "cell_type": "markdown",
   "id": "c2ee879e",
   "metadata": {},
   "source": [
    "Four sentiment categories are described, which could be grouped in three: positive, negative, neutral. \n",
    "<br>This is what will be covered over the next section. "
   ]
  },
  {
   "cell_type": "code",
   "execution_count": 26,
   "id": "ba0163c4",
   "metadata": {},
   "outputs": [
    {
     "data": {
      "text/plain": [
       "No emotion toward brand or product    5375\n",
       "Positive emotion                      2970\n",
       "Negative emotion                       569\n",
       "I can't tell                           156\n",
       "Name: sentiment, dtype: int64"
      ]
     },
     "execution_count": 26,
     "metadata": {},
     "output_type": "execute_result"
    }
   ],
   "source": [
    "# Number of rows by emotion\n",
    "df['sentiment'].value_counts()"
   ]
  },
  {
   "cell_type": "markdown",
   "id": "7533c0b3",
   "metadata": {},
   "source": [
    "* **Categorizing**"
   ]
  },
  {
   "cell_type": "markdown",
   "id": "d790dc9b",
   "metadata": {},
   "source": [
    "Due to the nature of the target, we will focus on the positive ones. Hence all the other tweets, whether they are neutral or negative, will be considered *not positive*, so will be identified as negative."
   ]
  },
  {
   "cell_type": "code",
   "execution_count": 27,
   "id": "e361457d",
   "metadata": {},
   "outputs": [],
   "source": [
    "# Defining the new classifications for the sentiment column \n",
    "classification_columns = {\n",
    "    'sentiment': {\n",
    "        \"No emotion toward brand or product\": \"negative\", \n",
    "        \"I can't tell\": \"negative\", \n",
    "        \"Positive emotion\": \"positive\", \n",
    "        \"Negative emotion\": \"negative\" \n",
    "    }\n",
    "}"
   ]
  },
  {
   "cell_type": "code",
   "execution_count": 28,
   "id": "0d7e19d7",
   "metadata": {},
   "outputs": [],
   "source": [
    "# Converting the sentiment column classification\n",
    "\n",
    "# Defining columns to change\n",
    "column_classification = ['sentiment']\n",
    "\n",
    "def convert_class(df, columns_mapping):\n",
    "    for column, mapping in columns_mapping.items():\n",
    "        print('Before: ' + column, df[column].unique())\n",
    "        df[column] = df[column].map(mapping)\n",
    "        print('After: ' + column, df[column].unique())\n",
    "    "
   ]
  },
  {
   "cell_type": "code",
   "execution_count": 29,
   "id": "fc2cfc7e",
   "metadata": {
    "scrolled": true
   },
   "outputs": [
    {
     "name": "stdout",
     "output_type": "stream",
     "text": [
      "Before: sentiment ['Negative emotion' 'Positive emotion'\n",
      " 'No emotion toward brand or product' \"I can't tell\"]\n",
      "After: sentiment ['negative' 'positive']\n"
     ]
    }
   ],
   "source": [
    "convert_class(df, classification_columns)"
   ]
  },
  {
   "cell_type": "code",
   "execution_count": 30,
   "id": "d685548c",
   "metadata": {},
   "outputs": [
    {
     "data": {
      "text/plain": [
       "negative    6100\n",
       "positive    2970\n",
       "Name: sentiment, dtype: int64"
      ]
     },
     "execution_count": 30,
     "metadata": {},
     "output_type": "execute_result"
    }
   ],
   "source": [
    "# Number of rows by unique sentiment\n",
    "df['sentiment'].value_counts()"
   ]
  },
  {
   "cell_type": "code",
   "execution_count": 31,
   "id": "233f8fed",
   "metadata": {},
   "outputs": [
    {
     "data": {
      "image/png": "[encoded data removed]",
      "text/plain": [
       "<Figure size 1000x600 with 1 Axes>"
      ]
     },
     "metadata": {},
     "output_type": "display_data"
    }
   ],
   "source": [
    "# Creating a bar chart for to visualize class imbalance\n",
    "fig, ax = plt.subplots(figsize=(10,6))\n",
    "\n",
    "# Defining custom colors \n",
    "custom_colors = ['#3B3935', '#00917C']\n",
    "\n",
    "sns.countplot(data=df, x='sentiment', order=df['sentiment'].value_counts().index, palette=custom_colors)\n",
    "\n",
    "ax.set_xlabel(xlabel = 'Sentiment', fontsize=15)\n",
    "ax.set_ylabel(ylabel = 'Number of Tweets', fontsize=15)\n",
    "\n",
    "ax.set_xticklabels(labels=['Negative', 'Positive'])\n",
    "\n",
    "ax.set_title(f'Number of tweets per sentiment')\n",
    "\n",
    "plt.show()"
   ]
  },
  {
   "cell_type": "markdown",
   "id": "5ebc6807",
   "metadata": {},
   "source": [
    "### 4. e) Performing a Train-Test Split"
   ]
  },
  {
   "cell_type": "code",
   "execution_count": 32,
   "id": "55b7a3f5",
   "metadata": {},
   "outputs": [],
   "source": [
    "# Splitting df into X and y\n",
    "X = df.drop('sentiment', axis=1)\n",
    "y = df['sentiment']"
   ]
  },
  {
   "cell_type": "code",
   "execution_count": 33,
   "id": "b1e4495d",
   "metadata": {},
   "outputs": [],
   "source": [
    "X_train, X_test, y_train, _test = train_test_split(X, y, random_state=42, stratify=y)"
   ]
  },
  {
   "cell_type": "code",
   "execution_count": 34,
   "id": "75cbc748",
   "metadata": {},
   "outputs": [
    {
     "data": {
      "text/html": [
       "<div>\n",
       "<style scoped>\n",
       "    .dataframe tbody tr th:only-of-type {\n",
       "        vertical-align: middle;\n",
       "    }\n",
       "\n",
       "    .dataframe tbody tr th {\n",
       "        vertical-align: top;\n",
       "    }\n",
       "\n",
       "    .dataframe thead th {\n",
       "        text-align: right;\n",
       "    }\n",
       "</style>\n",
       "<table border=\"1\" class=\"dataframe tex2jax_ignore\">\n",
       "  <thead>\n",
       "    <tr style=\"text-align: right;\">\n",
       "      <th></th>\n",
       "      <th>tweet</th>\n",
       "      <th>product_or_company</th>\n",
       "    </tr>\n",
       "  </thead>\n",
       "  <tbody>\n",
       "    <tr>\n",
       "      <th>8268</th>\n",
       "      <td>Huge shout out to GSDM &amp;amp; Google for the kick ass party tonight! We had an unbelievable time. #SXSW</td>\n",
       "      <td>Google</td>\n",
       "    </tr>\n",
       "    <tr>\n",
       "      <th>945</th>\n",
       "      <td>#SXSW 20% of Google searches are for local information: Marissa Mayer. 6 million places claimed by their owners and logged by #Google</td>\n",
       "      <td>undefined</td>\n",
       "    </tr>\n",
       "    <tr>\n",
       "      <th>8832</th>\n",
       "      <td>free #sxsw playlist.. enjoy {link}</td>\n",
       "      <td>undefined</td>\n",
       "    </tr>\n",
       "    <tr>\n",
       "      <th>7771</th>\n",
       "      <td>Awesome! RT @mention Yes! Gowalla wins best Andoid app at the Team Android Choice Awards. Thanks all! #sxsw</td>\n",
       "      <td>Android App</td>\n",
       "    </tr>\n",
       "    <tr>\n",
       "      <th>1643</th>\n",
       "      <td>#justmet @mention who worked for Apple for 25 years! #SXSW</td>\n",
       "      <td>Apple</td>\n",
       "    </tr>\n",
       "  </tbody>\n",
       "</table>\n",
       "</div>"
      ],
      "text/plain": [
       "                                                                                                                                      tweet  \\\n",
       "8268                                 Huge shout out to GSDM &amp; Google for the kick ass party tonight! We had an unbelievable time. #SXSW   \n",
       "945   #SXSW 20% of Google searches are for local information: Marissa Mayer. 6 million places claimed by their owners and logged by #Google   \n",
       "8832                                                                                                     free #sxsw playlist.. enjoy {link}   \n",
       "7771                            Awesome! RT @mention Yes! Gowalla wins best Andoid app at the Team Android Choice Awards. Thanks all! #sxsw   \n",
       "1643                                                                             #justmet @mention who worked for Apple for 25 years! #SXSW   \n",
       "\n",
       "     product_or_company  \n",
       "8268             Google  \n",
       "945           undefined  \n",
       "8832          undefined  \n",
       "7771        Android App  \n",
       "1643              Apple  "
      ]
     },
     "execution_count": 34,
     "metadata": {},
     "output_type": "execute_result"
    }
   ],
   "source": [
    "X_train.head()"
   ]
  },
  {
   "cell_type": "code",
   "execution_count": 35,
   "id": "85b7d4d3",
   "metadata": {},
   "outputs": [
    {
     "data": {
      "text/plain": [
       "8268    positive\n",
       "945     negative\n",
       "8832    negative\n",
       "7771    positive\n",
       "1643    positive\n",
       "Name: sentiment, dtype: object"
      ]
     },
     "execution_count": 35,
     "metadata": {},
     "output_type": "execute_result"
    }
   ],
   "source": [
    "y_train.head()"
   ]
  },
  {
   "cell_type": "markdown",
   "id": "82c7863e",
   "metadata": {},
   "source": [
    "* **Distribution of Target**"
   ]
  },
  {
   "cell_type": "code",
   "execution_count": 37,
   "id": "02e8d405",
   "metadata": {},
   "outputs": [],
   "source": [
    "train_target_counts = pd.DataFrame(y_train.value_counts())\n",
    "train_target_counts.index.name = 'target name'\n",
    "train_target_counts.rename(columns={'sentiment': 'count'}, inplace=True)"
   ]
  },
  {
   "cell_type": "code",
   "execution_count": 38,
   "id": "ab19ce95",
   "metadata": {
    "scrolled": false
   },
   "outputs": [
    {
     "data": {
      "text/html": [
       "<div>\n",
       "<style scoped>\n",
       "    .dataframe tbody tr th:only-of-type {\n",
       "        vertical-align: middle;\n",
       "    }\n",
       "\n",
       "    .dataframe tbody tr th {\n",
       "        vertical-align: top;\n",
       "    }\n",
       "\n",
       "    .dataframe thead th {\n",
       "        text-align: right;\n",
       "    }\n",
       "</style>\n",
       "<table border=\"1\" class=\"dataframe tex2jax_ignore\">\n",
       "  <thead>\n",
       "    <tr style=\"text-align: right;\">\n",
       "      <th></th>\n",
       "      <th>count</th>\n",
       "    </tr>\n",
       "    <tr>\n",
       "      <th>target name</th>\n",
       "      <th></th>\n",
       "    </tr>\n",
       "  </thead>\n",
       "  <tbody>\n",
       "    <tr>\n",
       "      <th>negative</th>\n",
       "      <td>4575</td>\n",
       "    </tr>\n",
       "    <tr>\n",
       "      <th>positive</th>\n",
       "      <td>2227</td>\n",
       "    </tr>\n",
       "  </tbody>\n",
       "</table>\n",
       "</div>"
      ],
      "text/plain": [
       "             count\n",
       "target name       \n",
       "negative      4575\n",
       "positive      2227"
      ]
     },
     "execution_count": 38,
     "metadata": {},
     "output_type": "execute_result"
    }
   ],
   "source": [
    "train_target_counts"
   ]
  },
  {
   "cell_type": "markdown",
   "id": "ae92d494",
   "metadata": {},
   "source": [
    "* **Visually Inspecting Features**"
   ]
  },
  {
   "cell_type": "code",
   "execution_count": 39,
   "id": "dee42837",
   "metadata": {},
   "outputs": [
    {
     "data": {
      "text/html": [
       "<style type=\"text/css\">\n",
       "#T_15d7c_row0_col0, #T_15d7c_row0_col1, #T_15d7c_row0_col2, #T_15d7c_row1_col0, #T_15d7c_row1_col1, #T_15d7c_row1_col2, #T_15d7c_row2_col0, #T_15d7c_row2_col1, #T_15d7c_row2_col2, #T_15d7c_row3_col0, #T_15d7c_row3_col1, #T_15d7c_row3_col2, #T_15d7c_row4_col0, #T_15d7c_row4_col1, #T_15d7c_row4_col2 {\n",
       "  text-align: left;\n",
       "}\n",
       "</style>\n",
       "<table id=\"T_15d7c\">\n",
       "  <thead>\n",
       "    <tr>\n",
       "      <th class=\"blank level0\" >&nbsp;</th>\n",
       "      <th id=\"T_15d7c_level0_col0\" class=\"col_heading level0 col0\" >tweet</th>\n",
       "      <th id=\"T_15d7c_level0_col1\" class=\"col_heading level0 col1\" >product_or_company</th>\n",
       "      <th id=\"T_15d7c_level0_col2\" class=\"col_heading level0 col2\" >label</th>\n",
       "    </tr>\n",
       "  </thead>\n",
       "  <tbody>\n",
       "    <tr>\n",
       "      <th id=\"T_15d7c_level0_row0\" class=\"row_heading level0 row0\" >3586</th>\n",
       "      <td id=\"T_15d7c_row0_col0\" class=\"data row0 col0\" >Dang it. I've touched an iPad 2. I WANT!  *sigh* #SXSW</td>\n",
       "      <td id=\"T_15d7c_row0_col1\" class=\"data row0 col1\" >iPad</td>\n",
       "      <td id=\"T_15d7c_row0_col2\" class=\"data row0 col2\" >positive</td>\n",
       "    </tr>\n",
       "    <tr>\n",
       "      <th id=\"T_15d7c_level0_row1\" class=\"row_heading level0 row1\" >3901</th>\n",
       "      <td id=\"T_15d7c_row1_col0\" class=\"data row1 col0\" >Has made it into the press room got the swag and registered for an iPad 2. Hopefully get to meet mike tyson and @mention #sxsw</td>\n",
       "      <td id=\"T_15d7c_row1_col1\" class=\"data row1 col1\" >undefined</td>\n",
       "      <td id=\"T_15d7c_row1_col2\" class=\"data row1 col2\" >negative</td>\n",
       "    </tr>\n",
       "    <tr>\n",
       "      <th id=\"T_15d7c_level0_row2\" class=\"row_heading level0 row2\" >133</th>\n",
       "      <td id=\"T_15d7c_row2_col0\" class=\"data row2 col0\" >#Samsung, #Sony follow #Apple, #HP lead @mention {link} #Austin #atx #SXSW</td>\n",
       "      <td id=\"T_15d7c_row2_col1\" class=\"data row2 col1\" >undefined</td>\n",
       "      <td id=\"T_15d7c_row2_col2\" class=\"data row2 col2\" >negative</td>\n",
       "    </tr>\n",
       "    <tr>\n",
       "      <th id=\"T_15d7c_level0_row3\" class=\"row_heading level0 row3\" >7937</th>\n",
       "      <td id=\"T_15d7c_row3_col0\" class=\"data row3 col0\" >UberGenius: Uber Is Taking Control of SXSW Pedicabs {link} #iPhone #LIVESTRONG #NewYorkCity #SanFrancisco #SXSW</td>\n",
       "      <td id=\"T_15d7c_row3_col1\" class=\"data row3 col1\" >undefined</td>\n",
       "      <td id=\"T_15d7c_row3_col2\" class=\"data row3 col2\" >negative</td>\n",
       "    </tr>\n",
       "    <tr>\n",
       "      <th id=\"T_15d7c_level0_row4\" class=\"row_heading level0 row4\" >85</th>\n",
       "      <td id=\"T_15d7c_row4_col0\" class=\"data row4 col0\" >Stay tune @mention showcase #H4ckers {link} #SXSW</td>\n",
       "      <td id=\"T_15d7c_row4_col1\" class=\"data row4 col1\" >undefined</td>\n",
       "      <td id=\"T_15d7c_row4_col2\" class=\"data row4 col2\" >negative</td>\n",
       "    </tr>\n",
       "  </tbody>\n",
       "</table>\n"
      ],
      "text/plain": [
       "<pandas.io.formats.style.Styler at 0x2aaaacffcd0>"
      ]
     },
     "execution_count": 39,
     "metadata": {},
     "output_type": "execute_result"
    }
   ],
   "source": [
    "# Making a sample of 5 records to display the full text of each\n",
    "train_sample = X_train.sample(5, random_state=22)\n",
    "train_sample['label'] = [y_train[val] for val in train_sample.index]\n",
    "train_sample.style.set_properties(**{'text-align': 'left'})"
   ]
  },
  {
   "cell_type": "code",
   "execution_count": null,
   "id": "f70fa800",
   "metadata": {},
   "outputs": [],
   "source": []
  },
  {
   "cell_type": "markdown",
   "id": "12d6f72c",
   "metadata": {},
   "source": [
    "## 5. Exploratory Analysis"
   ]
  },
  {
   "cell_type": "markdown",
   "id": "abcb1807",
   "metadata": {},
   "source": [
    "### 5. a) Standardizing Case"
   ]
  },
  {
   "cell_type": "markdown",
   "id": "a0854ff5",
   "metadata": {},
   "source": [
    "Before starting any exploratory analysis, two fundamental data cleaning tasks will be performed on the text data: standardizing case and tokenizing. The first one will be standardizing."
   ]
  },
  {
   "cell_type": "markdown",
   "id": "cee9777a",
   "metadata": {},
   "source": [
    "We will glance at the first sample of tweet to get an idea of whether we need to standardize case.  "
   ]
  },
  {
   "cell_type": "code",
   "execution_count": 39,
   "id": "5cd6a10c",
   "metadata": {},
   "outputs": [
    {
     "data": {
      "text/plain": [
       "\"Dang it. I've touched an iPad 2. I WANT!  *sigh* #SXSW\""
      ]
     },
     "execution_count": 39,
     "metadata": {},
     "output_type": "execute_result"
    }
   ],
   "source": [
    "# Isolating the first tweet into windows_sample\n",
    "windows_sample = train_sample.iloc[0][\"tweet\"]\n",
    "windows_sample"
   ]
  },
  {
   "cell_type": "markdown",
   "id": "e31a3d9c",
   "metadata": {},
   "source": [
    "Changing to lower case is necessary. We will apply this to the first tweet sample. "
   ]
  },
  {
   "cell_type": "code",
   "execution_count": 40,
   "id": "931a790f",
   "metadata": {},
   "outputs": [
    {
     "data": {
      "text/plain": [
       "\"dang it. i've touched an ipad 2. i want!  *sigh* #sxsw\""
      ]
     },
     "execution_count": 40,
     "metadata": {},
     "output_type": "execute_result"
    }
   ],
   "source": [
    "# Transforming sample data to lowercase\n",
    "windows_sample.lower()"
   ]
  },
  {
   "cell_type": "markdown",
   "id": "fbe71430",
   "metadata": {},
   "source": [
    "This answers our needs - we will apply this to our sample"
   ]
  },
  {
   "cell_type": "markdown",
   "id": "38f8f99e",
   "metadata": {},
   "source": [
    "* **Lower case**"
   ]
  },
  {
   "cell_type": "code",
   "execution_count": 41,
   "id": "74dae3f4",
   "metadata": {},
   "outputs": [
    {
     "data": {
      "text/html": [
       "<style type=\"text/css\">\n",
       "#T_53c92_row0_col0, #T_53c92_row0_col1, #T_53c92_row0_col2, #T_53c92_row1_col0, #T_53c92_row1_col1, #T_53c92_row1_col2, #T_53c92_row2_col0, #T_53c92_row2_col1, #T_53c92_row2_col2, #T_53c92_row3_col0, #T_53c92_row3_col1, #T_53c92_row3_col2, #T_53c92_row4_col0, #T_53c92_row4_col1, #T_53c92_row4_col2 {\n",
       "  text-align: left;\n",
       "}\n",
       "</style>\n",
       "<table id=\"T_53c92\">\n",
       "  <thead>\n",
       "    <tr>\n",
       "      <th class=\"blank level0\" >&nbsp;</th>\n",
       "      <th id=\"T_53c92_level0_col0\" class=\"col_heading level0 col0\" >tweet</th>\n",
       "      <th id=\"T_53c92_level0_col1\" class=\"col_heading level0 col1\" >product_or_company</th>\n",
       "      <th id=\"T_53c92_level0_col2\" class=\"col_heading level0 col2\" >label</th>\n",
       "    </tr>\n",
       "  </thead>\n",
       "  <tbody>\n",
       "    <tr>\n",
       "      <th id=\"T_53c92_level0_row0\" class=\"row_heading level0 row0\" >3586</th>\n",
       "      <td id=\"T_53c92_row0_col0\" class=\"data row0 col0\" >dang it. i've touched an ipad 2. i want!  *sigh* #sxsw</td>\n",
       "      <td id=\"T_53c92_row0_col1\" class=\"data row0 col1\" >iPad</td>\n",
       "      <td id=\"T_53c92_row0_col2\" class=\"data row0 col2\" >positive</td>\n",
       "    </tr>\n",
       "    <tr>\n",
       "      <th id=\"T_53c92_level0_row1\" class=\"row_heading level0 row1\" >3901</th>\n",
       "      <td id=\"T_53c92_row1_col0\" class=\"data row1 col0\" >has made it into the press room got the swag and registered for an ipad 2. hopefully get to meet mike tyson and @mention #sxsw</td>\n",
       "      <td id=\"T_53c92_row1_col1\" class=\"data row1 col1\" >undefined</td>\n",
       "      <td id=\"T_53c92_row1_col2\" class=\"data row1 col2\" >negative</td>\n",
       "    </tr>\n",
       "    <tr>\n",
       "      <th id=\"T_53c92_level0_row2\" class=\"row_heading level0 row2\" >133</th>\n",
       "      <td id=\"T_53c92_row2_col0\" class=\"data row2 col0\" >#samsung, #sony follow #apple, #hp lead @mention {link} #austin #atx #sxsw</td>\n",
       "      <td id=\"T_53c92_row2_col1\" class=\"data row2 col1\" >undefined</td>\n",
       "      <td id=\"T_53c92_row2_col2\" class=\"data row2 col2\" >negative</td>\n",
       "    </tr>\n",
       "    <tr>\n",
       "      <th id=\"T_53c92_level0_row3\" class=\"row_heading level0 row3\" >7937</th>\n",
       "      <td id=\"T_53c92_row3_col0\" class=\"data row3 col0\" >ubergenius: uber is taking control of sxsw pedicabs {link} #iphone #livestrong #newyorkcity #sanfrancisco #sxsw</td>\n",
       "      <td id=\"T_53c92_row3_col1\" class=\"data row3 col1\" >undefined</td>\n",
       "      <td id=\"T_53c92_row3_col2\" class=\"data row3 col2\" >negative</td>\n",
       "    </tr>\n",
       "    <tr>\n",
       "      <th id=\"T_53c92_level0_row4\" class=\"row_heading level0 row4\" >85</th>\n",
       "      <td id=\"T_53c92_row4_col0\" class=\"data row4 col0\" >stay tune @mention showcase #h4ckers {link} #sxsw</td>\n",
       "      <td id=\"T_53c92_row4_col1\" class=\"data row4 col1\" >undefined</td>\n",
       "      <td id=\"T_53c92_row4_col2\" class=\"data row4 col2\" >negative</td>\n",
       "    </tr>\n",
       "  </tbody>\n",
       "</table>\n"
      ],
      "text/plain": [
       "<pandas.io.formats.style.Styler at 0x1ac88e81590>"
      ]
     },
     "execution_count": 41,
     "metadata": {},
     "output_type": "execute_result"
    }
   ],
   "source": [
    "# Transforming sample data to lowercase\n",
    "train_sample['tweet'] = train_sample['tweet'].str.lower()\n",
    "# Displaying full text\n",
    "train_sample.style.set_properties(**{'text-align': 'left'})"
   ]
  },
  {
   "cell_type": "markdown",
   "id": "4492fe78",
   "metadata": {},
   "source": [
    "This answers our needs - we will apply this to our full dataset"
   ]
  },
  {
   "cell_type": "markdown",
   "id": "dadc305a",
   "metadata": {},
   "source": [
    "### 5. b) Tokenizing"
   ]
  },
  {
   "cell_type": "markdown",
   "id": "0ab50da4",
   "metadata": {},
   "source": [
    "The second fundamental data cleaning step is to tokenize the text data."
   ]
  },
  {
   "cell_type": "code",
   "execution_count": 41,
   "id": "4a0c3210",
   "metadata": {},
   "outputs": [
    {
     "data": {
      "text/plain": [
       "\"RT @mention P.S. @mention and Google throw a b!tchin' party. Shout out to The Spazmatics #sxsw\""
      ]
     },
     "execution_count": 41,
     "metadata": {},
     "output_type": "execute_result"
    }
   ],
   "source": [
    "# Reviewing one of our train_sample tweets\n",
    "tweet_sample = X_train.iloc[100]['tweet']\n",
    "tweet_sample"
   ]
  },
  {
   "cell_type": "markdown",
   "id": "302c308e",
   "metadata": {},
   "source": [
    "We will use `RegexpTokenizer` from NLTK to create tokens of tow or more consecutive word characters, which include letters, numbers and underscores."
   ]
  },
  {
   "cell_type": "markdown",
   "id": "32aefe0d",
   "metadata": {},
   "source": [
    "* **Tokenizing Pattern**"
   ]
  },
  {
   "cell_type": "code",
   "execution_count": 42,
   "id": "a0d21fcb",
   "metadata": {},
   "outputs": [],
   "source": [
    "# # Importing RegexpTokenizer\n",
    "# from nltk.tokenize import TweetTokenizer\n",
    "\n",
    "# tweet_tokenizer = TweetTokenizer(reduce_len=True, strip_handles=True)\n",
    "# tweet_tokenizer.tokenize(tweet_sample)"
   ]
  },
  {
   "cell_type": "code",
   "execution_count": 43,
   "id": "2922db24",
   "metadata": {},
   "outputs": [
    {
     "data": {
      "text/plain": [
       "['RT',\n",
       " 'mention',\n",
       " 'mention',\n",
       " 'and',\n",
       " 'Google',\n",
       " 'throw',\n",
       " 'tchin',\n",
       " 'party',\n",
       " 'Shout',\n",
       " 'out',\n",
       " 'to',\n",
       " 'The',\n",
       " 'Spazmatics',\n",
       " 'sxsw']"
      ]
     },
     "execution_count": 43,
     "metadata": {},
     "output_type": "execute_result"
    }
   ],
   "source": [
    "# Importing RegexpTokenizer\n",
    "from nltk.tokenize import RegexpTokenizer\n",
    "\n",
    "basic_token_pattern = r\"(?u)\\b\\w\\w+\\b\"\n",
    "\n",
    "\n",
    "tokenizer = RegexpTokenizer(basic_token_pattern)\n",
    "tokenizer.tokenize(tweet_sample)"
   ]
  },
  {
   "cell_type": "markdown",
   "id": "8874a30b",
   "metadata": {},
   "source": [
    "### 5. c) Stopwords"
   ]
  },
  {
   "cell_type": "markdown",
   "id": "0566b090",
   "metadata": {},
   "source": [
    "The second fundamental data cleaning step is to remove stopwords so we can focus on the the text data's theme."
   ]
  },
  {
   "cell_type": "markdown",
   "id": "c76c6507",
   "metadata": {},
   "source": [
    "**Removing Stopwords**"
   ]
  },
  {
   "cell_type": "markdown",
   "id": "748e9e9a",
   "metadata": {},
   "source": [
    "Typical list of stopwords to which we will add:\n",
    "* `sxsw`: the name of the conference \n",
    "* `mention`: when tweeted\n",
    "* `link`: ?"
   ]
  },
  {
   "cell_type": "code",
   "execution_count": 49,
   "id": "108de336",
   "metadata": {},
   "outputs": [
    {
     "data": {
      "text/plain": [
       "['i', 'me', 'my', 'myself', 'we']"
      ]
     },
     "execution_count": 49,
     "metadata": {},
     "output_type": "execute_result"
    }
   ],
   "source": [
    "# Importing relevant packages\n",
    "import nltk\n",
    "nltk.download('stopwords', quiet=True)\n",
    "from nltk.corpus import stopwords\n",
    "\n",
    "# Creating list to store stopwords\n",
    "stopwords_list = stopwords.words('english')\n",
    "stopwords_list[:5]"
   ]
  },
  {
   "cell_type": "markdown",
   "id": "d767223e",
   "metadata": {},
   "source": [
    "Some words are manually added to the list of stopwords, as they are in reference with tweets only. For"
   ]
  },
  {
   "cell_type": "code",
   "execution_count": 50,
   "id": "ca7ff1f5",
   "metadata": {},
   "outputs": [],
   "source": [
    "# Storing words to add to list of stopwords\n",
    "manual_stopwords = ['sxsw', 'mention', 'link', 'rt']\n",
    "\n",
    "# Adding to list of stopwords\n",
    "for word in manual_stopwords:\n",
    "    stopwords_list.append(word)\n"
   ]
  },
  {
   "cell_type": "code",
   "execution_count": 51,
   "id": "8deb44c2",
   "metadata": {},
   "outputs": [
    {
     "data": {
      "text/plain": [
       "['sxsw', 'mention', 'link', 'rt']"
      ]
     },
     "execution_count": 51,
     "metadata": {},
     "output_type": "execute_result"
    }
   ],
   "source": [
    "# Verifying the new words were added\n",
    "stopwords_list[-len(manual_stopwords):]"
   ]
  },
  {
   "cell_type": "code",
   "execution_count": 52,
   "id": "58adea20",
   "metadata": {},
   "outputs": [],
   "source": [
    "# Just in case some stopwords need to be removed\n",
    "# stopwords_list.remove(add_stopwords)"
   ]
  },
  {
   "cell_type": "code",
   "execution_count": 53,
   "id": "89619dca",
   "metadata": {},
   "outputs": [],
   "source": [
    "# Defining function that takes in a list of strings and returns only those that are not in the list\n",
    "def remove_stopwords(token_list, stopwords_list):\n",
    "    stopwords_removed = [token for token in token_list if token not in stopwords_list]\n",
    "    return stopwords_removed\n"
   ]
  },
  {
   "cell_type": "code",
   "execution_count": 54,
   "id": "90852828",
   "metadata": {},
   "outputs": [
    {
     "name": "stdout",
     "output_type": "stream",
     "text": [
      "Length with stopwords:  14\n",
      "Length with stopwords:  6\n"
     ]
    }
   ],
   "source": [
    "# Testing it on an example\n",
    "tokens_example = X_train.iloc[100]['tweet_tokenized']\n",
    "print(\"Length with stopwords: \", len(tokens_example))\n",
    "\n",
    "tokens_example_without_stopwords = remove_stopwords(tokens_example, stopwords_list)\n",
    "print(\"Length with stopwords: \", len(tokens_example_without_stopwords))"
   ]
  },
  {
   "cell_type": "markdown",
   "id": "8b7ca4b2",
   "metadata": {},
   "source": [
    "Applying it to all the dataset"
   ]
  },
  {
   "cell_type": "code",
   "execution_count": 57,
   "id": "5713fc0a",
   "metadata": {
    "scrolled": true
   },
   "outputs": [],
   "source": [
    "X_train['tweet_tokenized_without_stopwords'] = X_train['tweet_tokenized'].apply(\n",
    "    lambda tokens: remove_stopwords(tokens, manual_stopwords))"
   ]
  },
  {
   "cell_type": "code",
   "execution_count": 60,
   "id": "c7d44823",
   "metadata": {},
   "outputs": [
    {
     "data": {
      "text/plain": [
       "8268                                   [huge, shout, out, to, gsdm, amp, google, for, the, kick, ass, party, tonight, we, had, an, unbelievable, time]\n",
       "945     [20, of, google, searches, are, for, local, information, marissa, mayer, million, places, claimed, by, their, owners, and, logged, by, google]\n",
       "8832                                                                                                                           [free, playlist, enjoy]\n",
       "7771                                             [awesome, yes, gowalla, wins, best, andoid, app, at, the, team, android, choice, awards, thanks, all]\n",
       "1643                                                                                                [justmet, who, worked, for, apple, for, 25, years]\n",
       "Name: tweet_tokenized_without_stopwords, dtype: object"
      ]
     },
     "execution_count": 60,
     "metadata": {},
     "output_type": "execute_result"
    }
   ],
   "source": [
    "X_train['tweet_tokenized_without_stopwords'].head()"
   ]
  },
  {
   "cell_type": "code",
   "execution_count": 70,
   "id": "e2f2c2f9",
   "metadata": {},
   "outputs": [
    {
     "data": {
      "text/plain": [
       "\"rt @mention send the waaaambulance rt @mention no, i didn't get an ipad 2 :( no, i'm not at #sxsw :( yes, i am depressed :(\""
      ]
     },
     "execution_count": 70,
     "metadata": {},
     "output_type": "execute_result"
    }
   ],
   "source": [
    "X_train.iloc[300]['tweet']"
   ]
  },
  {
   "cell_type": "markdown",
   "id": "96e0f70a",
   "metadata": {},
   "source": [
    "### 5. d) Lemmatize"
   ]
  },
  {
   "cell_type": "code",
   "execution_count": 61,
   "id": "c77ff2b9",
   "metadata": {},
   "outputs": [],
   "source": [
    "# Importing relevant package\n",
    "from nltk.stem.wordnet import WordNetLemmatizer\n",
    "# nltk.download('wordnet')\n",
    "# nltk.download('omw-1.4')\n",
    "\n",
    "# Instantiating the Lemmatizer\n",
    "lemmatizer = WordNetLemmatizer()"
   ]
  },
  {
   "cell_type": "code",
   "execution_count": 62,
   "id": "8ebf2c61",
   "metadata": {},
   "outputs": [],
   "source": [
    "# Instantiating the Lemmatizer\n",
    "def lemmatize_words(token_list):\n",
    "    lemmatized_tokens = [lemmatizer.lemmatize(token, pos='v') for token in token_list]\n",
    "    return lemmatized_tokens"
   ]
  },
  {
   "cell_type": "code",
   "execution_count": 63,
   "id": "ca26183e",
   "metadata": {},
   "outputs": [],
   "source": [
    "# Remember our tokens_examples\n",
    "tokens_example = X_train.iloc[300]['tweet_tokenized_without_stopwords']"
   ]
  },
  {
   "cell_type": "markdown",
   "id": "ebe6a4cd",
   "metadata": {},
   "source": [
    "Applying it to all the dataset"
   ]
  },
  {
   "cell_type": "markdown",
   "id": "f4bbe70d",
   "metadata": {},
   "source": [
    "Now removing it from the entire dataset"
   ]
  },
  {
   "cell_type": "code",
   "execution_count": 66,
   "id": "e2671898",
   "metadata": {},
   "outputs": [],
   "source": [
    "X_train['tweet_tokenized_without_stopwords'] = X_train['tweet_tokenized_without_stopwords'].apply(\n",
    "    lambda tokens: lemmatize_words(tokens))"
   ]
  },
  {
   "cell_type": "code",
   "execution_count": 67,
   "id": "22513a39",
   "metadata": {
    "scrolled": true
   },
   "outputs": [
    {
     "data": {
      "text/plain": [
       "8268                         [huge, shout, out, to, gsdm, amp, google, for, the, kick, ass, party, tonight, we, have, an, unbelievable, time]\n",
       "945     [20, of, google, search, be, for, local, information, marissa, mayer, million, place, claim, by, their, owners, and, log, by, google]\n",
       "8832                                                                                                                  [free, playlist, enjoy]\n",
       "7771                                       [awesome, yes, gowalla, win, best, andoid, app, at, the, team, android, choice, award, thank, all]\n",
       "1643                                                                                         [justmet, who, work, for, apple, for, 25, years]\n",
       "Name: tweet_tokenized_without_stopwords, dtype: object"
      ]
     },
     "execution_count": 67,
     "metadata": {},
     "output_type": "execute_result"
    }
   ],
   "source": [
    "X_train['tweet_tokenized_without_stopwords'].head()"
   ]
  },
  {
   "cell_type": "code",
   "execution_count": null,
   "id": "f8630237",
   "metadata": {},
   "outputs": [],
   "source": []
  },
  {
   "cell_type": "code",
   "execution_count": null,
   "id": "c049ea73",
   "metadata": {},
   "outputs": [],
   "source": []
  },
  {
   "cell_type": "markdown",
   "id": "568ad6cc",
   "metadata": {},
   "source": [
    "### 5. e) Tweet Preprocessing Summary"
   ]
  },
  {
   "cell_type": "markdown",
   "id": "f1cdd6fd",
   "metadata": {},
   "source": [
    "The previous steps will be summarized in a function"
   ]
  },
  {
   "cell_type": "code",
   "execution_count": 63,
   "id": "ca473616",
   "metadata": {},
   "outputs": [],
   "source": [
    "# Ensure the relevant packages are imported\n",
    "from nltk.tokenize import RegexpTokenizer\n",
    "nltk.download('stopwords', quiet=True)\n",
    "from nltk.corpus import stopwords\n",
    "from nltk.stem.wordnet import WordNetLemmatizer\n"
   ]
  },
  {
   "cell_type": "code",
   "execution_count": 66,
   "id": "95588860",
   "metadata": {},
   "outputs": [],
   "source": [
    "# Defining the function\n",
    "def tweet_preprocess(text):\n",
    "    # 1. Standardizing case\n",
    "    text = text.lower()  \n",
    "    \n",
    "    \n",
    "    # 2. Tokenizing\n",
    "    # Defining the token pattern\n",
    "    token_pattern = r\"(?u)\\b\\w\\w+\\b\"\n",
    "    # Instantiating the tokenizer \n",
    "    tokenizer = RegexpTokenizer(token_pattern)\n",
    "    # Tokenizing\n",
    "    text = tokenizer.tokenize(text)\n",
    "    \n",
    "    # 3. Stopwords\n",
    "    # Creating list to store stopwords\n",
    "    stopwords_list = stopwords.words('english')\n",
    "    \n",
    "    # Storing words to add to list of stopwords\n",
    "    manual_stopwords = ['sxsw', 'mention', 'link', 'rt']\n",
    "    # Adding to list of stopwords\n",
    "    for word in manual_stopwords:\n",
    "        stopwords_list.append(word)\n",
    "    \n",
    "    # Removing stopwords \n",
    "    text = [token for token in text if token not in stopwords_list]\n",
    "    \n",
    "    \n",
    "    # 4. Lemmatize\n",
    "    # Instantiating the Lemmatizer\n",
    "    lemmatizer = WordNetLemmatizer()\n",
    "    \n",
    "    # Lemmatizing words \n",
    "    text = [lemmatizer.lemmatize(token) for token in text]\n",
    "    \n",
    "    #Return the preprocessed tweet\n",
    "    return text\n",
    "    "
   ]
  },
  {
   "cell_type": "code",
   "execution_count": 67,
   "id": "de6d9dc0",
   "metadata": {},
   "outputs": [
    {
     "data": {
      "text/plain": [
       "['send', 'waaaambulance', 'get', 'ipad', 'yes', 'depressed']"
      ]
     },
     "execution_count": 67,
     "metadata": {},
     "output_type": "execute_result"
    }
   ],
   "source": [
    "tweet_preprocess(X_train['tweet'].iloc[300])"
   ]
  },
  {
   "cell_type": "code",
   "execution_count": 55,
   "id": "1dc9645a",
   "metadata": {},
   "outputs": [
    {
     "data": {
      "text/plain": [
       "str"
      ]
     },
     "execution_count": 55,
     "metadata": {},
     "output_type": "execute_result"
    }
   ],
   "source": [
    "type(X_train['tweet'].iloc[300])"
   ]
  },
  {
   "cell_type": "code",
   "execution_count": null,
   "id": "d89c2586",
   "metadata": {},
   "outputs": [],
   "source": []
  },
  {
   "cell_type": "code",
   "execution_count": null,
   "id": "e26890ca",
   "metadata": {},
   "outputs": [],
   "source": []
  },
  {
   "cell_type": "markdown",
   "id": "b99f739b",
   "metadata": {},
   "source": [
    "## ?. Exploratory Data Analysis: Frequency Distributions"
   ]
  },
  {
   "cell_type": "markdown",
   "id": "03b076ab",
   "metadata": {},
   "source": [
    "A frequency distribution is a data structure that contains pieces of data as well as the count of how frequently they appear. \n",
    "In this case, pieces of data are words. \n",
    "\n",
    "In order to do this, we will use the `FreqDist` package, which allows us to pass in a single list of words, and produces a dictionary-like output of those words and their frequencies.  "
   ]
  },
  {
   "cell_type": "markdown",
   "id": "ce13a95f",
   "metadata": {},
   "source": [
    "We will visualize the top 10 words to evaluate further what cleaning needs to be done. "
   ]
  },
  {
   "cell_type": "code",
   "execution_count": 48,
   "id": "2285413b",
   "metadata": {},
   "outputs": [],
   "source": [
    "# Importing the relevant package: FreqDist\n",
    "from nltk import FreqDist"
   ]
  },
  {
   "cell_type": "markdown",
   "id": "531e68c3",
   "metadata": {},
   "source": [
    "* **FreqDist**"
   ]
  },
  {
   "cell_type": "code",
   "execution_count": 49,
   "id": "c6f47008",
   "metadata": {},
   "outputs": [
    {
     "data": {
      "text/plain": [
       "FreqDist({'mention': 2, 'rt': 1, 'and': 1, 'google': 1, 'throw': 1, 'tchin': 1, 'party': 1, 'shout': 1, 'out': 1, 'to': 1, ...})"
      ]
     },
     "execution_count": 49,
     "metadata": {},
     "output_type": "execute_result"
    }
   ],
   "source": [
    "example_freq_dist = FreqDist(X_train.iloc[100]['tweet_tokenized'][:20])\n",
    "example_freq_dist"
   ]
  },
  {
   "cell_type": "code",
   "execution_count": 50,
   "id": "d502de07",
   "metadata": {},
   "outputs": [
    {
     "data": {
      "image/png": "[encoded data removed]",
      "text/plain": [
       "<Figure size 640x480 with 1 Axes>"
      ]
     },
     "metadata": {},
     "output_type": "display_data"
    }
   ],
   "source": [
    "# Importing the relevant package for top number of words\n",
    "from matplotlib.ticker import MaxNLocator\n",
    "\n",
    "# Creating a function to visualize the top 10 words\n",
    "\n",
    "def visualize_top_10(freq_dist, title):\n",
    "#     extracting data for graph\n",
    "    top_10 = list(zip(*freq_dist.most_common(10)))\n",
    "    tokens = top_10[0]\n",
    "    counts = top_10[1]\n",
    "    \n",
    "#     Setting up graph and plotting data\n",
    "    fig, ax = plt.subplots()\n",
    "    ax.bar(tokens, counts)\n",
    "    \n",
    "#     Custominzing plot appearance \n",
    "    ax.set_title(title)\n",
    "    ax.set_ylabel('Count')\n",
    "    ax.yaxis.set_major_locator(MaxNLocator(integer=True))\n",
    "    ax.tick_params(axis='x', rotation=90)\n",
    "    \n",
    "visualize_top_10(example_freq_dist, \"Top 10 Word Frequency for Example Tokens\")"
   ]
  },
  {
   "cell_type": "code",
   "execution_count": null,
   "id": "c0b6e41b",
   "metadata": {},
   "outputs": [],
   "source": []
  },
  {
   "cell_type": "markdown",
   "id": "b33b2c4e",
   "metadata": {},
   "source": [
    "* **FreqDist on the Full DataSet**"
   ]
  },
  {
   "cell_type": "markdown",
   "id": "614121d1",
   "metadata": {},
   "source": [
    "In order to calculate the count of words, they need to be stored into a list. To do so, we will `explode` the dataset.  "
   ]
  },
  {
   "cell_type": "code",
   "execution_count": 51,
   "id": "d8269410",
   "metadata": {
    "scrolled": false
   },
   "outputs": [
    {
     "data": {
      "image/png": "[encoded data removed]",
      "text/plain": [
       "<Figure size 640x480 with 1 Axes>"
      ]
     },
     "metadata": {},
     "output_type": "display_data"
    }
   ],
   "source": [
    "# Creating a frequency distribution for X_train\n",
    "train_freq_dist = FreqDist(X_train['tweet_tokenized'].explode())\n",
    "\n",
    "# Plotting the top 10 tokens\n",
    "visualize_top_10(train_freq_dist, 'Top 10 Word Frequency for Full X_train')\n"
   ]
  },
  {
   "cell_type": "markdown",
   "id": "be5eb279",
   "metadata": {},
   "source": [
    "We can also subdivide this by category to see if it makes a difference:"
   ]
  },
  {
   "cell_type": "code",
   "execution_count": 52,
   "id": "1c7a3ccd",
   "metadata": {},
   "outputs": [],
   "source": [
    "# Adding in labels for filtering\n",
    "X_train['label'] = [y_train[val] for val in X_train.index]"
   ]
  },
  {
   "cell_type": "code",
   "execution_count": 53,
   "id": "88d8b67e",
   "metadata": {},
   "outputs": [
    {
     "data": {
      "image/png": "[encoded data removed]",
      "text/plain": [
       "<Figure size 1500x900 with 2 Axes>"
      ]
     },
     "metadata": {},
     "output_type": "display_data"
    }
   ],
   "source": [
    "# Defining funcrion to plot 2 visualizations\n",
    "\n",
    "# Creating two columns \n",
    "def two_subplits():\n",
    "    fig = plt.figure(figsize=(15, 9))\n",
    "    fig.set_tight_layout(True)\n",
    "    gs = fig.add_gridspec(1, 2)\n",
    "    \n",
    "    ax1 = fig.add_subplot(gs[0, 0]) #row 0, col 0 \n",
    "    ax2 = fig.add_subplot(gs[0, 1]) #row 0, col 1 \n",
    "    return fig, [ax1, ax2]\n",
    "\n",
    "# Plotting the graph\n",
    "def plot_distribution_by_sentiment(X_version, column, axes, title = \"Word Frequency for:\"):\n",
    "    for index, category in enumerate(X_version['label'].unique()): \n",
    "#         Calculating frequency distribution for this subset\n",
    "        all_words = X_version[X_version['label'] == category][column].explode()\n",
    "        freq_dist = FreqDist(all_words)\n",
    "        top_10 = list(zip(*freq_dist.most_common(10)))\n",
    "        tokens = top_10[0]\n",
    "        counts = top_10[1]\n",
    "        \n",
    "        \n",
    "#         Setting up a plot\n",
    "        ax = axes[index]\n",
    "        ax.bar(tokens, counts)\n",
    "        \n",
    "#         Customizing plot appearance\n",
    "        ax.set_title(f\"{title} {category}\")\n",
    "        ax.set_ylabel(\"Count\")\n",
    "        ax.yaxis.set_major_locator(MaxNLocator(integer=True))\n",
    "        ax.tick_params(axis='x', rotation=90)\n",
    "        \n",
    "        \n",
    "fig, axes = two_subplits()\n",
    "plot_distribution_by_sentiment(X_train, 'tweet_tokenized', axes)\n",
    "fig.suptitle('Word Frequencies for Each Sentiment', fontsize=20)\n",
    "plt.show()"
   ]
  },
  {
   "cell_type": "code",
   "execution_count": null,
   "id": "3cb4e63b",
   "metadata": {},
   "outputs": [],
   "source": []
  },
  {
   "cell_type": "markdown",
   "id": "61f7b24a",
   "metadata": {},
   "source": [
    "## 5. Modeling"
   ]
  },
  {
   "cell_type": "markdown",
   "id": "3e686b3c",
   "metadata": {},
   "source": [
    "*what modeling package(s) did you use, which model(s) within the package(s), and what tuning steps did you take?*\n",
    "* For some projects there may be only one applicable package; you should still briefly explain why this was the appropriate choice"
   ]
  },
  {
   "cell_type": "markdown",
   "id": "6ff9842e",
   "metadata": {},
   "source": [
    "### 5. a) Baseline Model with TfidfVectorizer and MultinomialNB"
   ]
  },
  {
   "cell_type": "markdown",
   "id": "9564c01a",
   "metadata": {},
   "source": [
    "We will start modeling by building an initial model which only has access to the information in the plots above. So, using the default token pattern to split the full text into tokens, and using a limited vocabulary. "
   ]
  },
  {
   "cell_type": "markdown",
   "id": "5d1406ff",
   "metadata": {},
   "source": [
    "To give the model a little bit more information with those same features, `TfidVectorizer` will be used to count the term frequency (`tf`) within a single document. This package also includes the inverse document frequency (`idf`): how rare the term is. "
   ]
  },
  {
   "cell_type": "markdown",
   "id": "1d96e24d",
   "metadata": {},
   "source": [
    "The first step is to import the vectorizer, instantiate a vectorizer object and fit it on `X_train['tweet']`."
   ]
  },
  {
   "cell_type": "code",
   "execution_count": 54,
   "id": "55c95417",
   "metadata": {},
   "outputs": [
    {
     "data": {
      "text/html": [
       "<div>\n",
       "<style scoped>\n",
       "    .dataframe tbody tr th:only-of-type {\n",
       "        vertical-align: middle;\n",
       "    }\n",
       "\n",
       "    .dataframe tbody tr th {\n",
       "        vertical-align: top;\n",
       "    }\n",
       "\n",
       "    .dataframe thead th {\n",
       "        text-align: right;\n",
       "    }\n",
       "</style>\n",
       "<table border=\"1\" class=\"dataframe tex2jax_ignore\">\n",
       "  <thead>\n",
       "    <tr style=\"text-align: right;\">\n",
       "      <th></th>\n",
       "      <th>at</th>\n",
       "      <th>for</th>\n",
       "      <th>google</th>\n",
       "      <th>ipad</th>\n",
       "      <th>link</th>\n",
       "      <th>mention</th>\n",
       "      <th>rt</th>\n",
       "      <th>sxsw</th>\n",
       "      <th>the</th>\n",
       "      <th>to</th>\n",
       "    </tr>\n",
       "  </thead>\n",
       "  <tbody>\n",
       "    <tr>\n",
       "      <th>0</th>\n",
       "      <td>0.000000</td>\n",
       "      <td>0.529305</td>\n",
       "      <td>0.515196</td>\n",
       "      <td>0.000000</td>\n",
       "      <td>0.000000</td>\n",
       "      <td>0.000000</td>\n",
       "      <td>0.000000</td>\n",
       "      <td>0.222457</td>\n",
       "      <td>0.433409</td>\n",
       "      <td>0.465918</td>\n",
       "    </tr>\n",
       "    <tr>\n",
       "      <th>1</th>\n",
       "      <td>0.000000</td>\n",
       "      <td>0.448731</td>\n",
       "      <td>0.873540</td>\n",
       "      <td>0.000000</td>\n",
       "      <td>0.000000</td>\n",
       "      <td>0.000000</td>\n",
       "      <td>0.000000</td>\n",
       "      <td>0.188594</td>\n",
       "      <td>0.000000</td>\n",
       "      <td>0.000000</td>\n",
       "    </tr>\n",
       "    <tr>\n",
       "      <th>2</th>\n",
       "      <td>0.000000</td>\n",
       "      <td>0.000000</td>\n",
       "      <td>0.000000</td>\n",
       "      <td>0.000000</td>\n",
       "      <td>0.872050</td>\n",
       "      <td>0.000000</td>\n",
       "      <td>0.000000</td>\n",
       "      <td>0.489417</td>\n",
       "      <td>0.000000</td>\n",
       "      <td>0.000000</td>\n",
       "    </tr>\n",
       "    <tr>\n",
       "      <th>3</th>\n",
       "      <td>0.525116</td>\n",
       "      <td>0.000000</td>\n",
       "      <td>0.000000</td>\n",
       "      <td>0.000000</td>\n",
       "      <td>0.000000</td>\n",
       "      <td>0.390906</td>\n",
       "      <td>0.538670</td>\n",
       "      <td>0.242180</td>\n",
       "      <td>0.471835</td>\n",
       "      <td>0.000000</td>\n",
       "    </tr>\n",
       "    <tr>\n",
       "      <th>4</th>\n",
       "      <td>0.000000</td>\n",
       "      <td>0.928793</td>\n",
       "      <td>0.000000</td>\n",
       "      <td>0.000000</td>\n",
       "      <td>0.000000</td>\n",
       "      <td>0.315039</td>\n",
       "      <td>0.000000</td>\n",
       "      <td>0.195177</td>\n",
       "      <td>0.000000</td>\n",
       "      <td>0.000000</td>\n",
       "    </tr>\n",
       "    <tr>\n",
       "      <th>...</th>\n",
       "      <td>...</td>\n",
       "      <td>...</td>\n",
       "      <td>...</td>\n",
       "      <td>...</td>\n",
       "      <td>...</td>\n",
       "      <td>...</td>\n",
       "      <td>...</td>\n",
       "      <td>...</td>\n",
       "      <td>...</td>\n",
       "      <td>...</td>\n",
       "    </tr>\n",
       "    <tr>\n",
       "      <th>6797</th>\n",
       "      <td>0.000000</td>\n",
       "      <td>0.000000</td>\n",
       "      <td>0.355443</td>\n",
       "      <td>0.000000</td>\n",
       "      <td>0.273467</td>\n",
       "      <td>0.495459</td>\n",
       "      <td>0.341372</td>\n",
       "      <td>0.153477</td>\n",
       "      <td>0.000000</td>\n",
       "      <td>0.642889</td>\n",
       "    </tr>\n",
       "    <tr>\n",
       "      <th>6798</th>\n",
       "      <td>0.275675</td>\n",
       "      <td>0.000000</td>\n",
       "      <td>0.294447</td>\n",
       "      <td>0.000000</td>\n",
       "      <td>0.226539</td>\n",
       "      <td>0.615654</td>\n",
       "      <td>0.565582</td>\n",
       "      <td>0.127140</td>\n",
       "      <td>0.000000</td>\n",
       "      <td>0.266283</td>\n",
       "    </tr>\n",
       "    <tr>\n",
       "      <th>6799</th>\n",
       "      <td>0.000000</td>\n",
       "      <td>0.597767</td>\n",
       "      <td>0.000000</td>\n",
       "      <td>0.583077</td>\n",
       "      <td>0.000000</td>\n",
       "      <td>0.000000</td>\n",
       "      <td>0.000000</td>\n",
       "      <td>0.251231</td>\n",
       "      <td>0.489468</td>\n",
       "      <td>0.000000</td>\n",
       "    </tr>\n",
       "    <tr>\n",
       "      <th>6800</th>\n",
       "      <td>0.000000</td>\n",
       "      <td>0.470526</td>\n",
       "      <td>0.000000</td>\n",
       "      <td>0.000000</td>\n",
       "      <td>0.352360</td>\n",
       "      <td>0.319197</td>\n",
       "      <td>0.439854</td>\n",
       "      <td>0.197753</td>\n",
       "      <td>0.385279</td>\n",
       "      <td>0.414178</td>\n",
       "    </tr>\n",
       "    <tr>\n",
       "      <th>6801</th>\n",
       "      <td>0.000000</td>\n",
       "      <td>0.000000</td>\n",
       "      <td>0.726597</td>\n",
       "      <td>0.000000</td>\n",
       "      <td>0.000000</td>\n",
       "      <td>0.000000</td>\n",
       "      <td>0.000000</td>\n",
       "      <td>0.313738</td>\n",
       "      <td>0.611250</td>\n",
       "      <td>0.000000</td>\n",
       "    </tr>\n",
       "  </tbody>\n",
       "</table>\n",
       "<p>6802 rows × 10 columns</p>\n",
       "</div>"
      ],
      "text/plain": [
       "            at       for    google      ipad      link   mention        rt  \\\n",
       "0     0.000000  0.529305  0.515196  0.000000  0.000000  0.000000  0.000000   \n",
       "1     0.000000  0.448731  0.873540  0.000000  0.000000  0.000000  0.000000   \n",
       "2     0.000000  0.000000  0.000000  0.000000  0.872050  0.000000  0.000000   \n",
       "3     0.525116  0.000000  0.000000  0.000000  0.000000  0.390906  0.538670   \n",
       "4     0.000000  0.928793  0.000000  0.000000  0.000000  0.315039  0.000000   \n",
       "...        ...       ...       ...       ...       ...       ...       ...   \n",
       "6797  0.000000  0.000000  0.355443  0.000000  0.273467  0.495459  0.341372   \n",
       "6798  0.275675  0.000000  0.294447  0.000000  0.226539  0.615654  0.565582   \n",
       "6799  0.000000  0.597767  0.000000  0.583077  0.000000  0.000000  0.000000   \n",
       "6800  0.000000  0.470526  0.000000  0.000000  0.352360  0.319197  0.439854   \n",
       "6801  0.000000  0.000000  0.726597  0.000000  0.000000  0.000000  0.000000   \n",
       "\n",
       "          sxsw       the        to  \n",
       "0     0.222457  0.433409  0.465918  \n",
       "1     0.188594  0.000000  0.000000  \n",
       "2     0.489417  0.000000  0.000000  \n",
       "3     0.242180  0.471835  0.000000  \n",
       "4     0.195177  0.000000  0.000000  \n",
       "...        ...       ...       ...  \n",
       "6797  0.153477  0.000000  0.642889  \n",
       "6798  0.127140  0.000000  0.266283  \n",
       "6799  0.251231  0.489468  0.000000  \n",
       "6800  0.197753  0.385279  0.414178  \n",
       "6801  0.313738  0.611250  0.000000  \n",
       "\n",
       "[6802 rows x 10 columns]"
      ]
     },
     "execution_count": 54,
     "metadata": {},
     "output_type": "execute_result"
    }
   ],
   "source": [
    "# Importing the relevant vectorizer class\n",
    "from sklearn.feature_extraction.text import TfidfVectorizer\n",
    "\n",
    "# Instantiating a vectorizer with max_features=10 \n",
    "tfidf = TfidfVectorizer(max_features=10)\n",
    "\n",
    "# Fitting the vectorizer on X_train['tweet'] and transforming it\n",
    "X_train_vectorized = tfidf.fit_transform(X_train['tweet'])\n",
    "\n",
    "# Inspecting the vectorized data\n",
    "pd.DataFrame.sparse.from_spmatrix(X_train_vectorized, columns=tfidf.get_feature_names_out())"
   ]
  },
  {
   "cell_type": "code",
   "execution_count": null,
   "id": "845a86f5",
   "metadata": {},
   "outputs": [],
   "source": []
  },
  {
   "cell_type": "markdown",
   "id": "570eeb6b",
   "metadata": {},
   "source": [
    "Now that we have preprocessed data, we will fit and evaluate Naive Bayes classifier using `cross_val_score`"
   ]
  },
  {
   "cell_type": "code",
   "execution_count": 55,
   "id": "7c63aa8b",
   "metadata": {},
   "outputs": [
    {
     "data": {
      "text/plain": [
       "0.3274036175822276"
      ]
     },
     "execution_count": 55,
     "metadata": {},
     "output_type": "execute_result"
    }
   ],
   "source": [
    "# Importing the relevant class function\n",
    "from sklearn.naive_bayes import MultinomialNB\n",
    "from sklearn.model_selection import cross_val_score\n",
    "\n",
    "# Instantiating a MultinomialNB classifier\n",
    "baseline_model = MultinomialNB()\n",
    "\n",
    "# Evaluating the classifier on X_train_vectorized and y_train\n",
    "# Since we are trying to measure the positive sentiment, we need to subtract the cross val score from 1: \n",
    "# positive is the second sentiment\n",
    "baseline_cv = 1 - cross_val_score(baseline_model, X_train_vectorized, y_train)\n",
    "baseline_cv.mean()"
   ]
  },
  {
   "cell_type": "markdown",
   "id": "43c7d64b",
   "metadata": {},
   "source": [
    "**Verifying the class balance**"
   ]
  },
  {
   "cell_type": "code",
   "execution_count": 56,
   "id": "b6cefe6f",
   "metadata": {
    "scrolled": true
   },
   "outputs": [
    {
     "data": {
      "text/plain": [
       "negative    0.672596\n",
       "positive    0.327404\n",
       "Name: sentiment, dtype: float64"
      ]
     },
     "execution_count": 56,
     "metadata": {},
     "output_type": "execute_result"
    }
   ],
   "source": [
    "# Verifying the class balance\n",
    "y_train.value_counts(normalize=True)"
   ]
  },
  {
   "cell_type": "markdown",
   "id": "9eb96739",
   "metadata": {},
   "source": [
    "How well did the final model perform?\n",
    "\n",
    "If we guessed the contribution of sentiment every time, we would expect about 33% accuracy. \n",
    "Our model baseline is not getting more than just getting every time.  "
   ]
  },
  {
   "cell_type": "markdown",
   "id": "73438fae",
   "metadata": {},
   "source": [
    "-----------------------ADD THE OTHER EVALUATION METRICS-----------------------"
   ]
  },
  {
   "cell_type": "markdown",
   "id": "7f49bdbd",
   "metadata": {},
   "source": [
    "### <u>2nd iteration</u>: Addressing class imbalance: undersampling negative tweets"
   ]
  },
  {
   "cell_type": "code",
   "execution_count": 57,
   "id": "7b8cb7a8",
   "metadata": {},
   "outputs": [],
   "source": [
    "# Import relevant packages\n",
    "from imblearn.under_sampling import RandomUnderSampler\n",
    "from sklearn.metrics import classification_report"
   ]
  },
  {
   "cell_type": "code",
   "execution_count": 58,
   "id": "d5db2adc",
   "metadata": {},
   "outputs": [],
   "source": [
    "# Instantiating the undersampler\n",
    "undersampler = RandomUnderSampler(random_state=42)\n",
    "# Applying undersampling only on training data\n",
    "X_resampled, y_resampled = undersampler.fit_resample(X_train, y_train)"
   ]
  },
  {
   "cell_type": "code",
   "execution_count": 59,
   "id": "fdb1a4bc",
   "metadata": {
    "scrolled": false
   },
   "outputs": [
    {
     "data": {
      "text/html": [
       "<div>\n",
       "<style scoped>\n",
       "    .dataframe tbody tr th:only-of-type {\n",
       "        vertical-align: middle;\n",
       "    }\n",
       "\n",
       "    .dataframe tbody tr th {\n",
       "        vertical-align: top;\n",
       "    }\n",
       "\n",
       "    .dataframe thead th {\n",
       "        text-align: right;\n",
       "    }\n",
       "</style>\n",
       "<table border=\"1\" class=\"dataframe tex2jax_ignore\">\n",
       "  <thead>\n",
       "    <tr style=\"text-align: right;\">\n",
       "      <th></th>\n",
       "      <th>at</th>\n",
       "      <th>for</th>\n",
       "      <th>google</th>\n",
       "      <th>ipad</th>\n",
       "      <th>link</th>\n",
       "      <th>mention</th>\n",
       "      <th>rt</th>\n",
       "      <th>sxsw</th>\n",
       "      <th>the</th>\n",
       "      <th>to</th>\n",
       "    </tr>\n",
       "  </thead>\n",
       "  <tbody>\n",
       "    <tr>\n",
       "      <th>0</th>\n",
       "      <td>0.000000</td>\n",
       "      <td>0.529305</td>\n",
       "      <td>0.515196</td>\n",
       "      <td>0.000000</td>\n",
       "      <td>0.000000</td>\n",
       "      <td>0.000000</td>\n",
       "      <td>0.000000</td>\n",
       "      <td>0.222457</td>\n",
       "      <td>0.433409</td>\n",
       "      <td>0.465918</td>\n",
       "    </tr>\n",
       "    <tr>\n",
       "      <th>1</th>\n",
       "      <td>0.000000</td>\n",
       "      <td>0.448731</td>\n",
       "      <td>0.873540</td>\n",
       "      <td>0.000000</td>\n",
       "      <td>0.000000</td>\n",
       "      <td>0.000000</td>\n",
       "      <td>0.000000</td>\n",
       "      <td>0.188594</td>\n",
       "      <td>0.000000</td>\n",
       "      <td>0.000000</td>\n",
       "    </tr>\n",
       "    <tr>\n",
       "      <th>2</th>\n",
       "      <td>0.000000</td>\n",
       "      <td>0.000000</td>\n",
       "      <td>0.000000</td>\n",
       "      <td>0.000000</td>\n",
       "      <td>0.872050</td>\n",
       "      <td>0.000000</td>\n",
       "      <td>0.000000</td>\n",
       "      <td>0.489417</td>\n",
       "      <td>0.000000</td>\n",
       "      <td>0.000000</td>\n",
       "    </tr>\n",
       "    <tr>\n",
       "      <th>3</th>\n",
       "      <td>0.525116</td>\n",
       "      <td>0.000000</td>\n",
       "      <td>0.000000</td>\n",
       "      <td>0.000000</td>\n",
       "      <td>0.000000</td>\n",
       "      <td>0.390906</td>\n",
       "      <td>0.538670</td>\n",
       "      <td>0.242180</td>\n",
       "      <td>0.471835</td>\n",
       "      <td>0.000000</td>\n",
       "    </tr>\n",
       "    <tr>\n",
       "      <th>4</th>\n",
       "      <td>0.000000</td>\n",
       "      <td>0.928793</td>\n",
       "      <td>0.000000</td>\n",
       "      <td>0.000000</td>\n",
       "      <td>0.000000</td>\n",
       "      <td>0.315039</td>\n",
       "      <td>0.000000</td>\n",
       "      <td>0.195177</td>\n",
       "      <td>0.000000</td>\n",
       "      <td>0.000000</td>\n",
       "    </tr>\n",
       "    <tr>\n",
       "      <th>...</th>\n",
       "      <td>...</td>\n",
       "      <td>...</td>\n",
       "      <td>...</td>\n",
       "      <td>...</td>\n",
       "      <td>...</td>\n",
       "      <td>...</td>\n",
       "      <td>...</td>\n",
       "      <td>...</td>\n",
       "      <td>...</td>\n",
       "      <td>...</td>\n",
       "    </tr>\n",
       "    <tr>\n",
       "      <th>6797</th>\n",
       "      <td>0.000000</td>\n",
       "      <td>0.000000</td>\n",
       "      <td>0.355443</td>\n",
       "      <td>0.000000</td>\n",
       "      <td>0.273467</td>\n",
       "      <td>0.495459</td>\n",
       "      <td>0.341372</td>\n",
       "      <td>0.153477</td>\n",
       "      <td>0.000000</td>\n",
       "      <td>0.642889</td>\n",
       "    </tr>\n",
       "    <tr>\n",
       "      <th>6798</th>\n",
       "      <td>0.275675</td>\n",
       "      <td>0.000000</td>\n",
       "      <td>0.294447</td>\n",
       "      <td>0.000000</td>\n",
       "      <td>0.226539</td>\n",
       "      <td>0.615654</td>\n",
       "      <td>0.565582</td>\n",
       "      <td>0.127140</td>\n",
       "      <td>0.000000</td>\n",
       "      <td>0.266283</td>\n",
       "    </tr>\n",
       "    <tr>\n",
       "      <th>6799</th>\n",
       "      <td>0.000000</td>\n",
       "      <td>0.597767</td>\n",
       "      <td>0.000000</td>\n",
       "      <td>0.583077</td>\n",
       "      <td>0.000000</td>\n",
       "      <td>0.000000</td>\n",
       "      <td>0.000000</td>\n",
       "      <td>0.251231</td>\n",
       "      <td>0.489468</td>\n",
       "      <td>0.000000</td>\n",
       "    </tr>\n",
       "    <tr>\n",
       "      <th>6800</th>\n",
       "      <td>0.000000</td>\n",
       "      <td>0.470526</td>\n",
       "      <td>0.000000</td>\n",
       "      <td>0.000000</td>\n",
       "      <td>0.352360</td>\n",
       "      <td>0.319197</td>\n",
       "      <td>0.439854</td>\n",
       "      <td>0.197753</td>\n",
       "      <td>0.385279</td>\n",
       "      <td>0.414178</td>\n",
       "    </tr>\n",
       "    <tr>\n",
       "      <th>6801</th>\n",
       "      <td>0.000000</td>\n",
       "      <td>0.000000</td>\n",
       "      <td>0.726597</td>\n",
       "      <td>0.000000</td>\n",
       "      <td>0.000000</td>\n",
       "      <td>0.000000</td>\n",
       "      <td>0.000000</td>\n",
       "      <td>0.313738</td>\n",
       "      <td>0.611250</td>\n",
       "      <td>0.000000</td>\n",
       "    </tr>\n",
       "  </tbody>\n",
       "</table>\n",
       "<p>6802 rows × 10 columns</p>\n",
       "</div>"
      ],
      "text/plain": [
       "            at       for    google      ipad      link   mention        rt  \\\n",
       "0     0.000000  0.529305  0.515196  0.000000  0.000000  0.000000  0.000000   \n",
       "1     0.000000  0.448731  0.873540  0.000000  0.000000  0.000000  0.000000   \n",
       "2     0.000000  0.000000  0.000000  0.000000  0.872050  0.000000  0.000000   \n",
       "3     0.525116  0.000000  0.000000  0.000000  0.000000  0.390906  0.538670   \n",
       "4     0.000000  0.928793  0.000000  0.000000  0.000000  0.315039  0.000000   \n",
       "...        ...       ...       ...       ...       ...       ...       ...   \n",
       "6797  0.000000  0.000000  0.355443  0.000000  0.273467  0.495459  0.341372   \n",
       "6798  0.275675  0.000000  0.294447  0.000000  0.226539  0.615654  0.565582   \n",
       "6799  0.000000  0.597767  0.000000  0.583077  0.000000  0.000000  0.000000   \n",
       "6800  0.000000  0.470526  0.000000  0.000000  0.352360  0.319197  0.439854   \n",
       "6801  0.000000  0.000000  0.726597  0.000000  0.000000  0.000000  0.000000   \n",
       "\n",
       "          sxsw       the        to  \n",
       "0     0.222457  0.433409  0.465918  \n",
       "1     0.188594  0.000000  0.000000  \n",
       "2     0.489417  0.000000  0.000000  \n",
       "3     0.242180  0.471835  0.000000  \n",
       "4     0.195177  0.000000  0.000000  \n",
       "...        ...       ...       ...  \n",
       "6797  0.153477  0.000000  0.642889  \n",
       "6798  0.127140  0.000000  0.266283  \n",
       "6799  0.251231  0.489468  0.000000  \n",
       "6800  0.197753  0.385279  0.414178  \n",
       "6801  0.313738  0.611250  0.000000  \n",
       "\n",
       "[6802 rows x 10 columns]"
      ]
     },
     "execution_count": 59,
     "metadata": {},
     "output_type": "execute_result"
    }
   ],
   "source": [
    "# Fitting the vectorizer on X_resampled['tweet'] and transforming it\n",
    "X_resampled_vectorized = tfidf.fit_transform(X_resampled[\"tweet\"])\n",
    "\n",
    "# Inspecting the vectorized data\n",
    "pd.DataFrame.sparse.from_spmatrix(X_train_vectorized, columns=tfidf.get_feature_names_out())"
   ]
  },
  {
   "cell_type": "markdown",
   "id": "62ef71e5",
   "metadata": {},
   "source": [
    "Now that we have preprocessed data, we will fit and evaluate Naive Bayes classifier using `cross_val_score`"
   ]
  },
  {
   "cell_type": "code",
   "execution_count": 60,
   "id": "88c415ec",
   "metadata": {},
   "outputs": [
    {
     "data": {
      "text/plain": [
       "0.4400582605076987"
      ]
     },
     "execution_count": 60,
     "metadata": {},
     "output_type": "execute_result"
    }
   ],
   "source": [
    "# Evaluating the classifier on X_train_vectorized and y_train\n",
    "balanced_cv = 1- cross_val_score(baseline_model, X_resampled_vectorized, y_resampled)\n",
    "balanced_cv.mean()"
   ]
  },
  {
   "cell_type": "markdown",
   "id": "b44c0aa7",
   "metadata": {},
   "source": [
    "The cross_val_score considerably improved from 33% to 44%. "
   ]
  },
  {
   "cell_type": "code",
   "execution_count": 61,
   "id": "c40486e4",
   "metadata": {},
   "outputs": [
    {
     "data": {
      "text/plain": [
       "negative    0.5\n",
       "positive    0.5\n",
       "Name: sentiment, dtype: float64"
      ]
     },
     "execution_count": 61,
     "metadata": {},
     "output_type": "execute_result"
    }
   ],
   "source": [
    "# Inspecting the new class balance\n",
    "y_resampled.value_counts(normalize=True)"
   ]
  },
  {
   "cell_type": "code",
   "execution_count": null,
   "id": "2f0d96ef",
   "metadata": {},
   "outputs": [],
   "source": []
  },
  {
   "cell_type": "markdown",
   "id": "02093278",
   "metadata": {},
   "source": [
    "Now let's compare the frequency distribution without stopwords"
   ]
  },
  {
   "cell_type": "code",
   "execution_count": 70,
   "id": "20910b76",
   "metadata": {
    "scrolled": false
   },
   "outputs": [
    {
     "data": {
      "image/png": "[encoded data removed]",
      "text/plain": [
       "<Figure size 1500x900 with 2 Axes>"
      ]
     },
     "metadata": {},
     "output_type": "display_data"
    }
   ],
   "source": [
    "fig, axes = two_subplits()\n",
    "plot_distribution_by_sentiment(X_resampled, 'tweet_tokenized_without_stopwords', axes)\n",
    "fig.suptitle('Word Frequencies for Each Sentiment', fontsize=20)\n",
    "plt.show()"
   ]
  },
  {
   "cell_type": "markdown",
   "id": "db552e0e",
   "metadata": {},
   "source": [
    "We will now re-run our model"
   ]
  },
  {
   "cell_type": "code",
   "execution_count": 71,
   "id": "4d146433",
   "metadata": {},
   "outputs": [
    {
     "data": {
      "text/html": [
       "<div>\n",
       "<style scoped>\n",
       "    .dataframe tbody tr th:only-of-type {\n",
       "        vertical-align: middle;\n",
       "    }\n",
       "\n",
       "    .dataframe tbody tr th {\n",
       "        vertical-align: top;\n",
       "    }\n",
       "\n",
       "    .dataframe thead th {\n",
       "        text-align: right;\n",
       "    }\n",
       "</style>\n",
       "<table border=\"1\" class=\"dataframe tex2jax_ignore\">\n",
       "  <thead>\n",
       "    <tr style=\"text-align: right;\">\n",
       "      <th></th>\n",
       "      <th>amp</th>\n",
       "      <th>app</th>\n",
       "      <th>apple</th>\n",
       "      <th>austin</th>\n",
       "      <th>google</th>\n",
       "      <th>ipad</th>\n",
       "      <th>iphone</th>\n",
       "      <th>new</th>\n",
       "      <th>quot</th>\n",
       "      <th>store</th>\n",
       "    </tr>\n",
       "  </thead>\n",
       "  <tbody>\n",
       "    <tr>\n",
       "      <th>0</th>\n",
       "      <td>0.0</td>\n",
       "      <td>0.0</td>\n",
       "      <td>0.000000</td>\n",
       "      <td>0.000000</td>\n",
       "      <td>0.0</td>\n",
       "      <td>0.000000</td>\n",
       "      <td>0.0</td>\n",
       "      <td>0.0</td>\n",
       "      <td>0.000000</td>\n",
       "      <td>0.000000</td>\n",
       "    </tr>\n",
       "    <tr>\n",
       "      <th>1</th>\n",
       "      <td>0.0</td>\n",
       "      <td>0.0</td>\n",
       "      <td>0.000000</td>\n",
       "      <td>0.000000</td>\n",
       "      <td>0.0</td>\n",
       "      <td>0.000000</td>\n",
       "      <td>0.0</td>\n",
       "      <td>0.0</td>\n",
       "      <td>0.000000</td>\n",
       "      <td>0.000000</td>\n",
       "    </tr>\n",
       "    <tr>\n",
       "      <th>2</th>\n",
       "      <td>0.0</td>\n",
       "      <td>0.0</td>\n",
       "      <td>0.000000</td>\n",
       "      <td>0.000000</td>\n",
       "      <td>0.0</td>\n",
       "      <td>1.000000</td>\n",
       "      <td>0.0</td>\n",
       "      <td>0.0</td>\n",
       "      <td>0.000000</td>\n",
       "      <td>0.000000</td>\n",
       "    </tr>\n",
       "    <tr>\n",
       "      <th>3</th>\n",
       "      <td>0.0</td>\n",
       "      <td>0.0</td>\n",
       "      <td>0.650914</td>\n",
       "      <td>0.000000</td>\n",
       "      <td>0.0</td>\n",
       "      <td>0.000000</td>\n",
       "      <td>0.0</td>\n",
       "      <td>0.0</td>\n",
       "      <td>0.000000</td>\n",
       "      <td>0.759152</td>\n",
       "    </tr>\n",
       "    <tr>\n",
       "      <th>4</th>\n",
       "      <td>0.0</td>\n",
       "      <td>0.0</td>\n",
       "      <td>0.438263</td>\n",
       "      <td>0.609506</td>\n",
       "      <td>0.0</td>\n",
       "      <td>0.418526</td>\n",
       "      <td>0.0</td>\n",
       "      <td>0.0</td>\n",
       "      <td>0.000000</td>\n",
       "      <td>0.511140</td>\n",
       "    </tr>\n",
       "    <tr>\n",
       "      <th>...</th>\n",
       "      <td>...</td>\n",
       "      <td>...</td>\n",
       "      <td>...</td>\n",
       "      <td>...</td>\n",
       "      <td>...</td>\n",
       "      <td>...</td>\n",
       "      <td>...</td>\n",
       "      <td>...</td>\n",
       "      <td>...</td>\n",
       "      <td>...</td>\n",
       "    </tr>\n",
       "    <tr>\n",
       "      <th>4449</th>\n",
       "      <td>0.0</td>\n",
       "      <td>0.0</td>\n",
       "      <td>0.000000</td>\n",
       "      <td>0.000000</td>\n",
       "      <td>0.0</td>\n",
       "      <td>1.000000</td>\n",
       "      <td>0.0</td>\n",
       "      <td>0.0</td>\n",
       "      <td>0.000000</td>\n",
       "      <td>0.000000</td>\n",
       "    </tr>\n",
       "    <tr>\n",
       "      <th>4450</th>\n",
       "      <td>0.0</td>\n",
       "      <td>0.0</td>\n",
       "      <td>0.000000</td>\n",
       "      <td>0.000000</td>\n",
       "      <td>0.0</td>\n",
       "      <td>1.000000</td>\n",
       "      <td>0.0</td>\n",
       "      <td>0.0</td>\n",
       "      <td>0.000000</td>\n",
       "      <td>0.000000</td>\n",
       "    </tr>\n",
       "    <tr>\n",
       "      <th>4451</th>\n",
       "      <td>0.0</td>\n",
       "      <td>0.0</td>\n",
       "      <td>0.000000</td>\n",
       "      <td>0.000000</td>\n",
       "      <td>0.0</td>\n",
       "      <td>1.000000</td>\n",
       "      <td>0.0</td>\n",
       "      <td>0.0</td>\n",
       "      <td>0.000000</td>\n",
       "      <td>0.000000</td>\n",
       "    </tr>\n",
       "    <tr>\n",
       "      <th>4452</th>\n",
       "      <td>0.0</td>\n",
       "      <td>0.0</td>\n",
       "      <td>0.583794</td>\n",
       "      <td>0.811902</td>\n",
       "      <td>0.0</td>\n",
       "      <td>0.000000</td>\n",
       "      <td>0.0</td>\n",
       "      <td>0.0</td>\n",
       "      <td>0.000000</td>\n",
       "      <td>0.000000</td>\n",
       "    </tr>\n",
       "    <tr>\n",
       "      <th>4453</th>\n",
       "      <td>0.0</td>\n",
       "      <td>0.0</td>\n",
       "      <td>0.000000</td>\n",
       "      <td>0.000000</td>\n",
       "      <td>0.0</td>\n",
       "      <td>0.309202</td>\n",
       "      <td>0.0</td>\n",
       "      <td>0.0</td>\n",
       "      <td>0.950996</td>\n",
       "      <td>0.000000</td>\n",
       "    </tr>\n",
       "  </tbody>\n",
       "</table>\n",
       "<p>4454 rows × 10 columns</p>\n",
       "</div>"
      ],
      "text/plain": [
       "      amp  app     apple    austin  google      ipad  iphone  new      quot  \\\n",
       "0     0.0  0.0  0.000000  0.000000     0.0  0.000000     0.0  0.0  0.000000   \n",
       "1     0.0  0.0  0.000000  0.000000     0.0  0.000000     0.0  0.0  0.000000   \n",
       "2     0.0  0.0  0.000000  0.000000     0.0  1.000000     0.0  0.0  0.000000   \n",
       "3     0.0  0.0  0.650914  0.000000     0.0  0.000000     0.0  0.0  0.000000   \n",
       "4     0.0  0.0  0.438263  0.609506     0.0  0.418526     0.0  0.0  0.000000   \n",
       "...   ...  ...       ...       ...     ...       ...     ...  ...       ...   \n",
       "4449  0.0  0.0  0.000000  0.000000     0.0  1.000000     0.0  0.0  0.000000   \n",
       "4450  0.0  0.0  0.000000  0.000000     0.0  1.000000     0.0  0.0  0.000000   \n",
       "4451  0.0  0.0  0.000000  0.000000     0.0  1.000000     0.0  0.0  0.000000   \n",
       "4452  0.0  0.0  0.583794  0.811902     0.0  0.000000     0.0  0.0  0.000000   \n",
       "4453  0.0  0.0  0.000000  0.000000     0.0  0.309202     0.0  0.0  0.950996   \n",
       "\n",
       "         store  \n",
       "0     0.000000  \n",
       "1     0.000000  \n",
       "2     0.000000  \n",
       "3     0.759152  \n",
       "4     0.511140  \n",
       "...        ...  \n",
       "4449  0.000000  \n",
       "4450  0.000000  \n",
       "4451  0.000000  \n",
       "4452  0.000000  \n",
       "4453  0.000000  \n",
       "\n",
       "[4454 rows x 10 columns]"
      ]
     },
     "execution_count": 71,
     "metadata": {},
     "output_type": "execute_result"
    }
   ],
   "source": [
    "# Instantiating the new vectorizer \n",
    "tfidf = TfidfVectorizer(\n",
    "        max_features=10,\n",
    "        stop_words=stopwords_list\n",
    "        )\n",
    "\n",
    "# Fitting the vectorizer on X_resampled['tweet'] and transforming it\n",
    "X_resampled_vectorized = tfidf.fit_transform(X_resampled['tweet'])\n",
    "\n",
    "\n",
    "# Visually inspecting the vectorized data\n",
    "pd.DataFrame.sparse.from_spmatrix(X_resampled_vectorized, columns=tfidf.get_feature_names_out())"
   ]
  },
  {
   "cell_type": "code",
   "execution_count": 72,
   "id": "eeaacf03",
   "metadata": {},
   "outputs": [
    {
     "data": {
      "text/plain": [
       "array([0.45230079, 0.44893378, 0.40628507, 0.4040404 , 0.43370787])"
      ]
     },
     "execution_count": 72,
     "metadata": {},
     "output_type": "execute_result"
    }
   ],
   "source": [
    "# Evaluating the classifier on X_train_vectorized and y_resampled\n",
    "stopwords_removed_cv = 1- cross_val_score(baseline_model, X_resampled_vectorized, y_resampled)\n",
    "stopwords_removed_cv"
   ]
  },
  {
   "cell_type": "code",
   "execution_count": 73,
   "id": "28b637bd",
   "metadata": {
    "scrolled": false
   },
   "outputs": [
    {
     "name": "stdout",
     "output_type": "stream",
     "text": [
      "Baseline:          0.3274036175822276\n",
      "Balanced:          0.4400582605076987\n",
      "Stopwords removed: 0.4290535820123836\n"
     ]
    }
   ],
   "source": [
    "print(\"Baseline:         \", baseline_cv.mean())\n",
    "print(\"Balanced:         \", balanced_cv.mean())\n",
    "print(\"Stopwords removed:\", stopwords_removed_cv.mean())"
   ]
  },
  {
   "cell_type": "markdown",
   "id": "100c9b01",
   "metadata": {},
   "source": [
    "This is an improvement but a lower accuracy than prior to stopwords being removed"
   ]
  },
  {
   "cell_type": "code",
   "execution_count": null,
   "id": "3d2bebdd",
   "metadata": {},
   "outputs": [],
   "source": []
  },
  {
   "cell_type": "markdown",
   "id": "23803a96",
   "metadata": {},
   "source": [
    "### <u>3rd bis</u>: Stopwords should not be removed, only some of them"
   ]
  },
  {
   "cell_type": "code",
   "execution_count": 74,
   "id": "53c5eb52",
   "metadata": {},
   "outputs": [],
   "source": [
    "# What will be considered stopwords are only the ones that are manually written\n",
    "tokens_example = X_resampled.iloc[100]['tweet_tokenized']"
   ]
  },
  {
   "cell_type": "code",
   "execution_count": 75,
   "id": "1796c2ad",
   "metadata": {},
   "outputs": [
    {
     "data": {
      "text/plain": [
       "['win', 'free', 'ipad', 'from', 'webdoc', 'com', 'sxsw', 'rt']"
      ]
     },
     "execution_count": 75,
     "metadata": {},
     "output_type": "execute_result"
    }
   ],
   "source": [
    "tokens_example"
   ]
  },
  {
   "cell_type": "code",
   "execution_count": 76,
   "id": "623ba3c4",
   "metadata": {},
   "outputs": [],
   "source": [
    "# Applying to the example only\n",
    "tokens_example_no_manual_stopwords = remove_stopwords(tokens_example, manual_stopwords)"
   ]
  },
  {
   "cell_type": "code",
   "execution_count": 77,
   "id": "5d4ce920",
   "metadata": {},
   "outputs": [
    {
     "data": {
      "text/plain": [
       "['win', 'free', 'ipad', 'from', 'webdoc', 'com']"
      ]
     },
     "execution_count": 77,
     "metadata": {},
     "output_type": "execute_result"
    }
   ],
   "source": [
    "tokens_example_no_manual_stopwords"
   ]
  },
  {
   "cell_type": "code",
   "execution_count": 78,
   "id": "342ddb85",
   "metadata": {},
   "outputs": [
    {
     "name": "stdout",
     "output_type": "stream",
     "text": [
      "8\n",
      "6\n"
     ]
    }
   ],
   "source": [
    "print(len(tokens_example))\n",
    "print(len(tokens_example_no_manual_stopwords))"
   ]
  },
  {
   "cell_type": "code",
   "execution_count": 79,
   "id": "fe45aacd",
   "metadata": {},
   "outputs": [],
   "source": [
    "# This removes less stopwords"
   ]
  },
  {
   "cell_type": "markdown",
   "id": "eddcfb4d",
   "metadata": {},
   "source": [
    "Now removing it from the entire dataset"
   ]
  },
  {
   "cell_type": "code",
   "execution_count": null,
   "id": "015a99b8",
   "metadata": {},
   "outputs": [],
   "source": []
  },
  {
   "cell_type": "code",
   "execution_count": 80,
   "id": "3497eaf0",
   "metadata": {},
   "outputs": [],
   "source": [
    "X_resampled['tweet_tokenized_without_stopwords'] = X_resampled['tweet_tokenized'].apply(\n",
    "    lambda tokens: remove_stopwords(tokens, manual_stopwords))"
   ]
  },
  {
   "cell_type": "code",
   "execution_count": 81,
   "id": "65da9c1d",
   "metadata": {},
   "outputs": [
    {
     "data": {
      "text/html": [
       "<div>\n",
       "<style scoped>\n",
       "    .dataframe tbody tr th:only-of-type {\n",
       "        vertical-align: middle;\n",
       "    }\n",
       "\n",
       "    .dataframe tbody tr th {\n",
       "        vertical-align: top;\n",
       "    }\n",
       "\n",
       "    .dataframe thead th {\n",
       "        text-align: right;\n",
       "    }\n",
       "</style>\n",
       "<table border=\"1\" class=\"dataframe tex2jax_ignore\">\n",
       "  <thead>\n",
       "    <tr style=\"text-align: right;\">\n",
       "      <th></th>\n",
       "      <th>apple</th>\n",
       "      <th>at</th>\n",
       "      <th>for</th>\n",
       "      <th>google</th>\n",
       "      <th>in</th>\n",
       "      <th>ipad</th>\n",
       "      <th>is</th>\n",
       "      <th>of</th>\n",
       "      <th>the</th>\n",
       "      <th>to</th>\n",
       "    </tr>\n",
       "  </thead>\n",
       "  <tbody>\n",
       "    <tr>\n",
       "      <th>0</th>\n",
       "      <td>0.000000</td>\n",
       "      <td>0.000000</td>\n",
       "      <td>0.000000</td>\n",
       "      <td>0.0</td>\n",
       "      <td>0.000000</td>\n",
       "      <td>0.000000</td>\n",
       "      <td>0.000000</td>\n",
       "      <td>0.000000</td>\n",
       "      <td>0.000000</td>\n",
       "      <td>0.000000</td>\n",
       "    </tr>\n",
       "    <tr>\n",
       "      <th>1</th>\n",
       "      <td>0.000000</td>\n",
       "      <td>0.000000</td>\n",
       "      <td>0.000000</td>\n",
       "      <td>0.0</td>\n",
       "      <td>0.000000</td>\n",
       "      <td>0.000000</td>\n",
       "      <td>0.000000</td>\n",
       "      <td>0.813089</td>\n",
       "      <td>0.582139</td>\n",
       "      <td>0.000000</td>\n",
       "    </tr>\n",
       "    <tr>\n",
       "      <th>2</th>\n",
       "      <td>0.000000</td>\n",
       "      <td>0.473774</td>\n",
       "      <td>0.000000</td>\n",
       "      <td>0.0</td>\n",
       "      <td>0.000000</td>\n",
       "      <td>0.494851</td>\n",
       "      <td>0.592583</td>\n",
       "      <td>0.000000</td>\n",
       "      <td>0.423681</td>\n",
       "      <td>0.000000</td>\n",
       "    </tr>\n",
       "    <tr>\n",
       "      <th>3</th>\n",
       "      <td>0.631895</td>\n",
       "      <td>0.577737</td>\n",
       "      <td>0.000000</td>\n",
       "      <td>0.0</td>\n",
       "      <td>0.000000</td>\n",
       "      <td>0.000000</td>\n",
       "      <td>0.000000</td>\n",
       "      <td>0.000000</td>\n",
       "      <td>0.516651</td>\n",
       "      <td>0.000000</td>\n",
       "    </tr>\n",
       "    <tr>\n",
       "      <th>4</th>\n",
       "      <td>0.405355</td>\n",
       "      <td>0.000000</td>\n",
       "      <td>0.403244</td>\n",
       "      <td>0.0</td>\n",
       "      <td>0.445544</td>\n",
       "      <td>0.387101</td>\n",
       "      <td>0.463553</td>\n",
       "      <td>0.000000</td>\n",
       "      <td>0.331427</td>\n",
       "      <td>0.000000</td>\n",
       "    </tr>\n",
       "    <tr>\n",
       "      <th>...</th>\n",
       "      <td>...</td>\n",
       "      <td>...</td>\n",
       "      <td>...</td>\n",
       "      <td>...</td>\n",
       "      <td>...</td>\n",
       "      <td>...</td>\n",
       "      <td>...</td>\n",
       "      <td>...</td>\n",
       "      <td>...</td>\n",
       "      <td>...</td>\n",
       "    </tr>\n",
       "    <tr>\n",
       "      <th>4449</th>\n",
       "      <td>0.000000</td>\n",
       "      <td>0.000000</td>\n",
       "      <td>0.000000</td>\n",
       "      <td>0.0</td>\n",
       "      <td>0.000000</td>\n",
       "      <td>1.000000</td>\n",
       "      <td>0.000000</td>\n",
       "      <td>0.000000</td>\n",
       "      <td>0.000000</td>\n",
       "      <td>0.000000</td>\n",
       "    </tr>\n",
       "    <tr>\n",
       "      <th>4450</th>\n",
       "      <td>0.000000</td>\n",
       "      <td>0.430688</td>\n",
       "      <td>0.000000</td>\n",
       "      <td>0.0</td>\n",
       "      <td>0.000000</td>\n",
       "      <td>0.449848</td>\n",
       "      <td>0.538692</td>\n",
       "      <td>0.000000</td>\n",
       "      <td>0.385150</td>\n",
       "      <td>0.416671</td>\n",
       "    </tr>\n",
       "    <tr>\n",
       "      <th>4451</th>\n",
       "      <td>0.000000</td>\n",
       "      <td>0.435529</td>\n",
       "      <td>0.000000</td>\n",
       "      <td>0.0</td>\n",
       "      <td>0.523585</td>\n",
       "      <td>0.454905</td>\n",
       "      <td>0.000000</td>\n",
       "      <td>0.000000</td>\n",
       "      <td>0.389480</td>\n",
       "      <td>0.421355</td>\n",
       "    </tr>\n",
       "    <tr>\n",
       "      <th>4452</th>\n",
       "      <td>0.533315</td>\n",
       "      <td>0.000000</td>\n",
       "      <td>0.000000</td>\n",
       "      <td>0.0</td>\n",
       "      <td>0.586189</td>\n",
       "      <td>0.000000</td>\n",
       "      <td>0.609883</td>\n",
       "      <td>0.000000</td>\n",
       "      <td>0.000000</td>\n",
       "      <td>0.000000</td>\n",
       "    </tr>\n",
       "    <tr>\n",
       "      <th>4453</th>\n",
       "      <td>0.000000</td>\n",
       "      <td>0.000000</td>\n",
       "      <td>0.620525</td>\n",
       "      <td>0.0</td>\n",
       "      <td>0.000000</td>\n",
       "      <td>0.595683</td>\n",
       "      <td>0.000000</td>\n",
       "      <td>0.000000</td>\n",
       "      <td>0.510011</td>\n",
       "      <td>0.000000</td>\n",
       "    </tr>\n",
       "  </tbody>\n",
       "</table>\n",
       "<p>4454 rows × 10 columns</p>\n",
       "</div>"
      ],
      "text/plain": [
       "         apple        at       for  google        in      ipad        is  \\\n",
       "0     0.000000  0.000000  0.000000     0.0  0.000000  0.000000  0.000000   \n",
       "1     0.000000  0.000000  0.000000     0.0  0.000000  0.000000  0.000000   \n",
       "2     0.000000  0.473774  0.000000     0.0  0.000000  0.494851  0.592583   \n",
       "3     0.631895  0.577737  0.000000     0.0  0.000000  0.000000  0.000000   \n",
       "4     0.405355  0.000000  0.403244     0.0  0.445544  0.387101  0.463553   \n",
       "...        ...       ...       ...     ...       ...       ...       ...   \n",
       "4449  0.000000  0.000000  0.000000     0.0  0.000000  1.000000  0.000000   \n",
       "4450  0.000000  0.430688  0.000000     0.0  0.000000  0.449848  0.538692   \n",
       "4451  0.000000  0.435529  0.000000     0.0  0.523585  0.454905  0.000000   \n",
       "4452  0.533315  0.000000  0.000000     0.0  0.586189  0.000000  0.609883   \n",
       "4453  0.000000  0.000000  0.620525     0.0  0.000000  0.595683  0.000000   \n",
       "\n",
       "            of       the        to  \n",
       "0     0.000000  0.000000  0.000000  \n",
       "1     0.813089  0.582139  0.000000  \n",
       "2     0.000000  0.423681  0.000000  \n",
       "3     0.000000  0.516651  0.000000  \n",
       "4     0.000000  0.331427  0.000000  \n",
       "...        ...       ...       ...  \n",
       "4449  0.000000  0.000000  0.000000  \n",
       "4450  0.000000  0.385150  0.416671  \n",
       "4451  0.000000  0.389480  0.421355  \n",
       "4452  0.000000  0.000000  0.000000  \n",
       "4453  0.000000  0.510011  0.000000  \n",
       "\n",
       "[4454 rows x 10 columns]"
      ]
     },
     "execution_count": 81,
     "metadata": {},
     "output_type": "execute_result"
    }
   ],
   "source": [
    "# Instantiating the new vectorizer \n",
    "tfidf = TfidfVectorizer(\n",
    "        max_features=10,\n",
    "        stop_words=manual_stopwords\n",
    "        )\n",
    "\n",
    "# Fitting the vectorizer on X_resampled['tweet'] and transforming it\n",
    "X_resampled_vectorized = tfidf.fit_transform(X_resampled['tweet'])\n",
    "\n",
    "\n",
    "# Visually inspecting the vectorized data\n",
    "pd.DataFrame.sparse.from_spmatrix(X_resampled_vectorized, columns=tfidf.get_feature_names_out())"
   ]
  },
  {
   "cell_type": "code",
   "execution_count": 82,
   "id": "5fdf6e3b",
   "metadata": {},
   "outputs": [
    {
     "data": {
      "text/plain": [
       "array([0.45679012, 0.4332211 , 0.44781145, 0.42873176, 0.44044944])"
      ]
     },
     "execution_count": 82,
     "metadata": {},
     "output_type": "execute_result"
    }
   ],
   "source": [
    "# Evaluating the classifier on X_train_vectorized and y_resampled\n",
    "manual_stopwords_removed_cv = 1- cross_val_score(baseline_model, X_resampled_vectorized, y_resampled)\n",
    "manual_stopwords_removed_cv"
   ]
  },
  {
   "cell_type": "code",
   "execution_count": 83,
   "id": "748d9667",
   "metadata": {},
   "outputs": [
    {
     "name": "stdout",
     "output_type": "stream",
     "text": [
      "Baseline:          0.3274036175822276\n",
      "Balanced:          0.4400582605076987\n",
      "Stopwords removed: 0.4290535820123836\n",
      "Manual Stopwords removed: 0.4414007742846694\n"
     ]
    }
   ],
   "source": [
    "print(\"Baseline:         \", baseline_cv.mean())\n",
    "print(\"Balanced:         \", balanced_cv.mean())\n",
    "print(\"Stopwords removed:\", stopwords_removed_cv.mean())\n",
    "print(\"Manual Stopwords removed:\", manual_stopwords_removed_cv.mean())"
   ]
  },
  {
   "cell_type": "code",
   "execution_count": null,
   "id": "df8491b1",
   "metadata": {},
   "outputs": [],
   "source": []
  },
  {
   "cell_type": "code",
   "execution_count": 91,
   "id": "d18debe6",
   "metadata": {
    "scrolled": true
   },
   "outputs": [
    {
     "name": "stderr",
     "output_type": "stream",
     "text": [
      "C:\\Users\\albane.colmenares\\AppData\\Local\\anaconda3\\Lib\\site-packages\\sklearn\\feature_extraction\\text.py:528: UserWarning: The parameter 'token_pattern' will not be used since 'tokenizer' is not None'\n",
      "  warnings.warn(\n",
      "C:\\Users\\albane.colmenares\\AppData\\Local\\anaconda3\\Lib\\site-packages\\sklearn\\feature_extraction\\text.py:409: UserWarning: Your stop_words may be inconsistent with your preprocessing. Tokenizing the stop words generated tokens ['e', 'i', 'k', 'l', 'm', 'n', 'o', 'r', 's', 't', 'w', 'x'] not in stop_words.\n",
      "  warnings.warn(\n"
     ]
    },
    {
     "data": {
      "text/html": [
       "<div>\n",
       "<style scoped>\n",
       "    .dataframe tbody tr th:only-of-type {\n",
       "        vertical-align: middle;\n",
       "    }\n",
       "\n",
       "    .dataframe tbody tr th {\n",
       "        vertical-align: top;\n",
       "    }\n",
       "\n",
       "    .dataframe thead th {\n",
       "        text-align: right;\n",
       "    }\n",
       "</style>\n",
       "<table border=\"1\" class=\"dataframe tex2jax_ignore\">\n",
       "  <thead>\n",
       "    <tr style=\"text-align: right;\">\n",
       "      <th></th>\n",
       "      <th></th>\n",
       "      <th>a</th>\n",
       "      <th>e</th>\n",
       "      <th>i</th>\n",
       "      <th>l</th>\n",
       "      <th>n</th>\n",
       "      <th>o</th>\n",
       "      <th>r</th>\n",
       "      <th>s</th>\n",
       "      <th>t</th>\n",
       "    </tr>\n",
       "  </thead>\n",
       "  <tbody>\n",
       "    <tr>\n",
       "      <th>0</th>\n",
       "      <td>0.577865</td>\n",
       "      <td>0.115833</td>\n",
       "      <td>0.347108</td>\n",
       "      <td>0.289712</td>\n",
       "      <td>0.059900</td>\n",
       "      <td>0.232655</td>\n",
       "      <td>0.058046</td>\n",
       "      <td>0.178493</td>\n",
       "      <td>0.520195</td>\n",
       "      <td>0.291015</td>\n",
       "    </tr>\n",
       "    <tr>\n",
       "      <th>1</th>\n",
       "      <td>0.528327</td>\n",
       "      <td>0.211806</td>\n",
       "      <td>0.458398</td>\n",
       "      <td>0.211901</td>\n",
       "      <td>0.182550</td>\n",
       "      <td>0.389970</td>\n",
       "      <td>0.247662</td>\n",
       "      <td>0.181325</td>\n",
       "      <td>0.246608</td>\n",
       "      <td>0.283806</td>\n",
       "    </tr>\n",
       "    <tr>\n",
       "      <th>2</th>\n",
       "      <td>0.623917</td>\n",
       "      <td>0.138960</td>\n",
       "      <td>0.277608</td>\n",
       "      <td>0.347555</td>\n",
       "      <td>0.000000</td>\n",
       "      <td>0.348884</td>\n",
       "      <td>0.139272</td>\n",
       "      <td>0.000000</td>\n",
       "      <td>0.277359</td>\n",
       "      <td>0.418943</td>\n",
       "    </tr>\n",
       "    <tr>\n",
       "      <th>3</th>\n",
       "      <td>0.577347</td>\n",
       "      <td>0.267067</td>\n",
       "      <td>0.311228</td>\n",
       "      <td>0.222656</td>\n",
       "      <td>0.046036</td>\n",
       "      <td>0.402312</td>\n",
       "      <td>0.267667</td>\n",
       "      <td>0.182906</td>\n",
       "      <td>0.133264</td>\n",
       "      <td>0.402583</td>\n",
       "    </tr>\n",
       "    <tr>\n",
       "      <th>4</th>\n",
       "      <td>0.697013</td>\n",
       "      <td>0.287650</td>\n",
       "      <td>0.205234</td>\n",
       "      <td>0.246668</td>\n",
       "      <td>0.127501</td>\n",
       "      <td>0.371417</td>\n",
       "      <td>0.247111</td>\n",
       "      <td>0.168860</td>\n",
       "      <td>0.205050</td>\n",
       "      <td>0.206482</td>\n",
       "    </tr>\n",
       "    <tr>\n",
       "      <th>...</th>\n",
       "      <td>...</td>\n",
       "      <td>...</td>\n",
       "      <td>...</td>\n",
       "      <td>...</td>\n",
       "      <td>...</td>\n",
       "      <td>...</td>\n",
       "      <td>...</td>\n",
       "      <td>...</td>\n",
       "      <td>...</td>\n",
       "      <td>...</td>\n",
       "    </tr>\n",
       "    <tr>\n",
       "      <th>4449</th>\n",
       "      <td>0.737939</td>\n",
       "      <td>0.246533</td>\n",
       "      <td>0.328341</td>\n",
       "      <td>0.246643</td>\n",
       "      <td>0.084992</td>\n",
       "      <td>0.330115</td>\n",
       "      <td>0.164724</td>\n",
       "      <td>0.168843</td>\n",
       "      <td>0.164023</td>\n",
       "      <td>0.165169</td>\n",
       "    </tr>\n",
       "    <tr>\n",
       "      <th>4450</th>\n",
       "      <td>0.720815</td>\n",
       "      <td>0.288974</td>\n",
       "      <td>0.360812</td>\n",
       "      <td>0.216828</td>\n",
       "      <td>0.074718</td>\n",
       "      <td>0.253933</td>\n",
       "      <td>0.253420</td>\n",
       "      <td>0.074216</td>\n",
       "      <td>0.180244</td>\n",
       "      <td>0.217803</td>\n",
       "    </tr>\n",
       "    <tr>\n",
       "      <th>4451</th>\n",
       "      <td>0.725276</td>\n",
       "      <td>0.389414</td>\n",
       "      <td>0.259318</td>\n",
       "      <td>0.233753</td>\n",
       "      <td>0.134251</td>\n",
       "      <td>0.234647</td>\n",
       "      <td>0.182135</td>\n",
       "      <td>0.213358</td>\n",
       "      <td>0.155451</td>\n",
       "      <td>0.156537</td>\n",
       "    </tr>\n",
       "    <tr>\n",
       "      <th>4452</th>\n",
       "      <td>0.650146</td>\n",
       "      <td>0.217202</td>\n",
       "      <td>0.347134</td>\n",
       "      <td>0.347680</td>\n",
       "      <td>0.179713</td>\n",
       "      <td>0.349009</td>\n",
       "      <td>0.130614</td>\n",
       "      <td>0.044627</td>\n",
       "      <td>0.216764</td>\n",
       "      <td>0.261933</td>\n",
       "    </tr>\n",
       "    <tr>\n",
       "      <th>4453</th>\n",
       "      <td>0.570484</td>\n",
       "      <td>0.483802</td>\n",
       "      <td>0.263596</td>\n",
       "      <td>0.132005</td>\n",
       "      <td>0.090977</td>\n",
       "      <td>0.265020</td>\n",
       "      <td>0.264485</td>\n",
       "      <td>0.045183</td>\n",
       "      <td>0.087787</td>\n",
       "      <td>0.441998</td>\n",
       "    </tr>\n",
       "  </tbody>\n",
       "</table>\n",
       "<p>4454 rows × 10 columns</p>\n",
       "</div>"
      ],
      "text/plain": [
       "                       a         e         i         l         n         o  \\\n",
       "0     0.577865  0.115833  0.347108  0.289712  0.059900  0.232655  0.058046   \n",
       "1     0.528327  0.211806  0.458398  0.211901  0.182550  0.389970  0.247662   \n",
       "2     0.623917  0.138960  0.277608  0.347555  0.000000  0.348884  0.139272   \n",
       "3     0.577347  0.267067  0.311228  0.222656  0.046036  0.402312  0.267667   \n",
       "4     0.697013  0.287650  0.205234  0.246668  0.127501  0.371417  0.247111   \n",
       "...        ...       ...       ...       ...       ...       ...       ...   \n",
       "4449  0.737939  0.246533  0.328341  0.246643  0.084992  0.330115  0.164724   \n",
       "4450  0.720815  0.288974  0.360812  0.216828  0.074718  0.253933  0.253420   \n",
       "4451  0.725276  0.389414  0.259318  0.233753  0.134251  0.234647  0.182135   \n",
       "4452  0.650146  0.217202  0.347134  0.347680  0.179713  0.349009  0.130614   \n",
       "4453  0.570484  0.483802  0.263596  0.132005  0.090977  0.265020  0.264485   \n",
       "\n",
       "             r         s         t  \n",
       "0     0.178493  0.520195  0.291015  \n",
       "1     0.181325  0.246608  0.283806  \n",
       "2     0.000000  0.277359  0.418943  \n",
       "3     0.182906  0.133264  0.402583  \n",
       "4     0.168860  0.205050  0.206482  \n",
       "...        ...       ...       ...  \n",
       "4449  0.168843  0.164023  0.165169  \n",
       "4450  0.074216  0.180244  0.217803  \n",
       "4451  0.213358  0.155451  0.156537  \n",
       "4452  0.044627  0.216764  0.261933  \n",
       "4453  0.045183  0.087787  0.441998  \n",
       "\n",
       "[4454 rows x 10 columns]"
      ]
     },
     "execution_count": 91,
     "metadata": {},
     "output_type": "execute_result"
    }
   ],
   "source": [
    "# Instantiating the new vectorizer \n",
    "tfidf = TfidfVectorizer(\n",
    "        max_features=10,\n",
    "        stop_words=manual_stopwords, \n",
    "        tokenizer=lemmatize_words\n",
    "        )\n",
    "\n",
    "# Fitting the vectorizer on X_resampled['tweet'] and transforming it\n",
    "X_resampled_vectorized = tfidf.fit_transform(X_resampled['tweet'])\n",
    "\n",
    "\n",
    "# Visually inspecting the vectorized data\n",
    "pd.DataFrame.sparse.from_spmatrix(X_resampled_vectorized, columns=tfidf.get_feature_names_out())"
   ]
  },
  {
   "cell_type": "code",
   "execution_count": 92,
   "id": "6fae3069",
   "metadata": {},
   "outputs": [
    {
     "data": {
      "text/plain": [
       "array([0.44107744, 0.4365881 , 0.42873176, 0.44107744, 0.48988764])"
      ]
     },
     "execution_count": 92,
     "metadata": {},
     "output_type": "execute_result"
    }
   ],
   "source": [
    "# Evaluating the classifier on X_train_vectorized and y_resampled\n",
    "lemmatized_cv = 1- cross_val_score(baseline_model, X_resampled_vectorized, y_resampled)\n",
    "lemmatized_cv"
   ]
  },
  {
   "cell_type": "code",
   "execution_count": 93,
   "id": "3dc232fd",
   "metadata": {},
   "outputs": [
    {
     "name": "stdout",
     "output_type": "stream",
     "text": [
      "Baseline:          0.3274036175822276\n",
      "Balanced:          0.4400582605076987\n",
      "Stopwords removed: 0.4290535820123836\n",
      "Manual Stopwords removed: 0.4414007742846694\n",
      "Lemmatized: 0.44747247758483716\n"
     ]
    }
   ],
   "source": [
    "print(\"Baseline:         \", baseline_cv.mean())\n",
    "print(\"Balanced:         \", balanced_cv.mean())\n",
    "print(\"Stopwords removed:\", stopwords_removed_cv.mean())\n",
    "print(\"Manual Stopwords removed:\", manual_stopwords_removed_cv.mean())\n",
    "print(\"Lemmatized:\", lemmatized_cv.mean())"
   ]
  },
  {
   "cell_type": "code",
   "execution_count": null,
   "id": "26b24e2e",
   "metadata": {},
   "outputs": [],
   "source": []
  },
  {
   "cell_type": "code",
   "execution_count": null,
   "id": "697caa7a",
   "metadata": {},
   "outputs": [],
   "source": []
  },
  {
   "cell_type": "code",
   "execution_count": null,
   "id": "a2d6ac20",
   "metadata": {},
   "outputs": [],
   "source": []
  },
  {
   "cell_type": "code",
   "execution_count": null,
   "id": "b87d25a6",
   "metadata": {},
   "outputs": [],
   "source": []
  },
  {
   "cell_type": "code",
   "execution_count": null,
   "id": "36536e50",
   "metadata": {},
   "outputs": [],
   "source": []
  },
  {
   "cell_type": "markdown",
   "id": "48489914",
   "metadata": {},
   "source": [
    "## 6. Evaluation"
   ]
  },
  {
   "cell_type": "markdown",
   "id": "f5931c29",
   "metadata": {},
   "source": [
    "*how well did your final model perform?*\n",
    "* Include one or more relevant metrics\n",
    " \n",
    "* Be sure to briefly describe your validation approach"
   ]
  },
  {
   "cell_type": "markdown",
   "id": "570161ef",
   "metadata": {},
   "source": [
    "Text Text Text Text Text Text "
   ]
  },
  {
   "cell_type": "markdown",
   "id": "923d025f",
   "metadata": {},
   "source": [
    "Text Text Text Text Text Text "
   ]
  },
  {
   "cell_type": "markdown",
   "id": "60006f49",
   "metadata": {},
   "source": [
    "## 7. Findings & Recommendations"
   ]
  },
  {
   "cell_type": "markdown",
   "id": "9b153038",
   "metadata": {},
   "source": [
    "Text Text Text Text Text Text "
   ]
  },
  {
   "cell_type": "markdown",
   "id": "1a7bb239",
   "metadata": {},
   "source": [
    "Text Text Text Text Text Text "
   ]
  },
  {
   "cell_type": "markdown",
   "id": "502ade41",
   "metadata": {},
   "source": [
    "## 8. Limits & Next Steps"
   ]
  },
  {
   "cell_type": "markdown",
   "id": "ab8065e3",
   "metadata": {},
   "source": [
    "Text Text Text Text Text Text "
   ]
  },
  {
   "cell_type": "markdown",
   "id": "9cfb2dd8",
   "metadata": {},
   "source": [
    "Text Text Text Text Text Text "
   ]
  },
  {
   "cell_type": "code",
   "execution_count": null,
   "id": "ba4f8a26",
   "metadata": {},
   "outputs": [],
   "source": []
  }
 ],
 "metadata": {
  "kernelspec": {
   "display_name": "Python 3 (ipykernel)",
   "language": "python",
   "name": "python3"
  },
  "language_info": {
   "codemirror_mode": {
    "name": "ipython",
    "version": 3
   },
   "file_extension": ".py",
   "mimetype": "text/x-python",
   "name": "python",
   "nbconvert_exporter": "python",
   "pygments_lexer": "ipython3",
   "version": "3.11.3"
  }
 },
 "nbformat": 4,
 "nbformat_minor": 5
}
